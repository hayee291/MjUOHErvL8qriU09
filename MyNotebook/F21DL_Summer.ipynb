{
 "cells": [
  {
   "cell_type": "markdown",
   "id": "a35e144a",
   "metadata": {},
   "source": [
    "# Question 1"
   ]
  },
  {
   "cell_type": "markdown",
   "id": "1ccea6c1",
   "metadata": {},
   "source": [
    "## Data exploration"
   ]
  },
  {
   "cell_type": "code",
   "execution_count": 1,
   "id": "c3aede1c",
   "metadata": {},
   "outputs": [
    {
     "name": "stdout",
     "output_type": "stream",
     "text": [
      "Simple smiley dataset shape: (204, 9, 9, 1)\n",
      "Noisy smiley dataset shape: (204, 9, 9, 1)\n"
     ]
    }
   ],
   "source": [
    "import numpy as np\n",
    "import matplotlib.pyplot as plt\n",
    "import os\n",
    "from scipy.stats import pearsonr\n",
    "from sklearn.model_selection import train_test_split, cross_val_predict, cross_val_score\n",
    "from sklearn.naive_bayes import GaussianNB\n",
    "from sklearn.metrics import accuracy_score, confusion_matrix, classification_report, roc_auc_score, roc_curve, recall_score, precision_score, f1_score\n",
    "from sklearn.cluster import KMeans, AgglomerativeClustering, DBSCAN, MeanShift, SpectralClustering, AffinityPropagation\n",
    "from sklearn.metrics import adjusted_rand_score, normalized_mutual_info_score, silhouette_score, adjusted_rand_score\n",
    "from sklearn.mixture import GaussianMixture\n",
    "from sklearn.decomposition import PCA\n",
    "from sklearn.tree import DecisionTreeClassifier\n",
    "from sklearn.ensemble import RandomForestClassifier\n",
    "from sklearn.linear_model import LogisticRegression\n",
    "from sklearn.neural_network import MLPClassifier\n",
    "from sklearn.svm import LinearSVC\n",
    "import tensorflow as tf\n",
    "import warnings\n",
    "warnings.filterwarnings('ignore')\n",
    "\n",
    "# Loading the simple image data from 'smiley_X.npy' and class labels from 'smiley_Y.npy'\n",
    "X = np.load('smiley_X.npy')\n",
    "Y = np.load('smiley_Y.npy')\n",
    "\n",
    "# Loading the noisy image data from 'smiley_noisy_X.npy' and class labels from 'smiley_noisy_Y.npy'\n",
    "NX = np.load('smiley_noisy_X.npy')\n",
    "NY = np.load('smiley_noisy_Y.npy')\n",
    "print(\"Simple smiley dataset shape:\", X.shape)\n",
    "print(\"Noisy smiley dataset shape:\", NX.shape)"
   ]
  },
  {
   "cell_type": "code",
   "execution_count": 2,
   "id": "20f6c434",
   "metadata": {},
   "outputs": [
    {
     "name": "stdout",
     "output_type": "stream",
     "text": [
      "C:\\Users\\hayee\\F21DL\n"
     ]
    }
   ],
   "source": [
    "current_directory = os.getcwd()\n",
    "print(current_directory)"
   ]
  },
  {
   "cell_type": "code",
   "execution_count": 3,
   "id": "696e80a8",
   "metadata": {},
   "outputs": [
    {
     "name": "stdout",
     "output_type": "stream",
     "text": [
      "Number of samples: 204\n",
      "Number of classes: 3\n",
      "Image shape: (9, 9, 1)\n"
     ]
    }
   ],
   "source": [
    "# Exploring the dataset\n",
    "num_samples = X.shape[0]\n",
    "num_classes = len(np.unique(Y))\n",
    "image_shape = X.shape[1:]  # Assuming images are grayscale (9x9x1)\n",
    "\n",
    "# Printing the dataset information\n",
    "print(f\"Number of samples: {num_samples}\")\n",
    "print(f\"Number of classes: {num_classes}\")\n",
    "print(f\"Image shape: {image_shape}\")"
   ]
  },
  {
   "cell_type": "markdown",
   "id": "17b4ef41",
   "metadata": {},
   "source": [
    "#### Ploting a sample of simple images"
   ]
  },
  {
   "cell_type": "code",
   "execution_count": 4,
   "id": "43676e11",
   "metadata": {
    "scrolled": true
   },
   "outputs": [
    {
     "data": {
      "image/png": "[encoded data removed]",
      "text/plain": [
       "<Figure size 1000x200 with 5 Axes>"
      ]
     },
     "metadata": {},
     "output_type": "display_data"
    }
   ],
   "source": [
    "#Ploting a sample of images with their corresponding labels\n",
    "num_images_to_plot = 5\n",
    "\n",
    "Y = Y.astype(int)\n",
    "NY  = NY.astype(int)\n",
    "\n",
    "# Randomly select samples\n",
    "random_indices = np.random.choice(num_samples, size=num_images_to_plot, replace=False)\n",
    "\n",
    "# Plot the Noisy images with their labels\n",
    "fig, axes = plt.subplots(1, num_images_to_plot, figsize=(10, 2))\n",
    "for i, index in enumerate(random_indices):\n",
    "    image = X[index].squeeze()\n",
    "    label = Y[index]\n",
    "\n",
    "    axes[i].imshow(image, cmap='gray')\n",
    "    axes[i].set_title(f\"Label: {label}\")\n",
    "    axes[i].axis('off')\n",
    "\n",
    "plt.tight_layout()\n",
    "plt.show()"
   ]
  },
  {
   "cell_type": "markdown",
   "id": "dc5127a0",
   "metadata": {},
   "source": [
    "#### Ploting a sample of noisy images"
   ]
  },
  {
   "cell_type": "code",
   "execution_count": 5,
   "id": "b6b7258d",
   "metadata": {},
   "outputs": [
    {
     "data": {
      "image/png": "[encoded data removed]",
      "text/plain": [
       "<Figure size 1000x200 with 5 Axes>"
      ]
     },
     "metadata": {},
     "output_type": "display_data"
    }
   ],
   "source": [
    "# Ploting the noisy images with their labels\n",
    "fig, axes = plt.subplots(1, num_images_to_plot, figsize=(10, 2))\n",
    "for i, index in enumerate(random_indices):\n",
    "    image = NX[index].squeeze()\n",
    "    label = NY[index]\n",
    "    axes[i].imshow(image, cmap='gray')\n",
    "    axes[i].set_title(f\"Label: {label}\")\n",
    "    axes[i].axis('off')\n",
    "\n",
    "plt.tight_layout()\n",
    "plt.show()"
   ]
  },
  {
   "cell_type": "markdown",
   "id": "cc524397",
   "metadata": {},
   "source": [
    "#### Checking for missing values"
   ]
  },
  {
   "cell_type": "code",
   "execution_count": 6,
   "id": "781b9c0b",
   "metadata": {},
   "outputs": [
    {
     "name": "stdout",
     "output_type": "stream",
     "text": [
      "The Simple X array does not contain missing values.\n",
      "The Simple Y array does not contain missing values.\n",
      "The Noisy X array does not contain missing values.\n",
      "The Noisy Y array does not contain missing values.\n"
     ]
    }
   ],
   "source": [
    "has_missing_valuesSX = np.isnan(X).any()\n",
    "has_missing_valuesSY = np.isnan(Y).any()\n",
    "has_missing_valuesNX = np.isnan(NX).any()\n",
    "has_missing_valuesNY = np.isnan(NY).any()\n",
    "if has_missing_valuesSX:\n",
    "    print(\"The Simple X array contains missing values.\")\n",
    "else:\n",
    "    print(\"The Simple X array does not contain missing values.\")\n",
    "    \n",
    "if has_missing_valuesSY:\n",
    "    print(\"The Simple Y array contains missing values.\")\n",
    "else:\n",
    "    print(\"The Simple Y array does not contain missing values.\")\n",
    "    \n",
    "if has_missing_valuesNX:\n",
    "    print(\"The Noisy X array contains missing values.\")\n",
    "else:\n",
    "    print(\"The Noisy X array does not contain missing values.\")\n",
    "    \n",
    "if has_missing_valuesNY:\n",
    "    print(\"The Noisy Y array contains missing values.\")\n",
    "else:\n",
    "    print(\"The Noisy Y array does not contain missing values.\")"
   ]
  },
  {
   "cell_type": "markdown",
   "id": "d44cc945",
   "metadata": {},
   "source": [
    "#### Data distribution analysis"
   ]
  },
  {
   "cell_type": "code",
   "execution_count": 7,
   "id": "f5acd9af",
   "metadata": {},
   "outputs": [
    {
     "data": {
      "image/png": "[encoded data removed]",
      "text/plain": [
       "<Figure size 640x480 with 1 Axes>"
      ]
     },
     "metadata": {},
     "output_type": "display_data"
    }
   ],
   "source": [
    "# Calculate the class distribution.\n",
    "# It actually checks how the samples distributed to each class \n",
    "# Because imbalance in data distribution for each class can cause problems in model creation.\n",
    "\n",
    "class_counts = np.bincount(Y)\n",
    "class_labels = np.unique(Y)\n",
    "\n",
    "# Plot the class distribution\n",
    "plt.bar(class_labels, class_counts)\n",
    "plt.xlabel('Class')\n",
    "plt.ylabel('Count')\n",
    "plt.title('Class Distribution')\n",
    "plt.show()"
   ]
  },
  {
   "cell_type": "markdown",
   "id": "7fc869c1",
   "metadata": {},
   "source": [
    "#### Mean pixel analysis"
   ]
  },
  {
   "cell_type": "code",
   "execution_count": 8,
   "id": "ff6263d3",
   "metadata": {},
   "outputs": [
    {
     "data": {
      "image/png": "[encoded data removed]",
      "text/plain": [
       "<Figure size 640x480 with 1 Axes>"
      ]
     },
     "metadata": {},
     "output_type": "display_data"
    }
   ],
   "source": [
    "# Extract mean pixel intensity for each class\n",
    "# This analysis shows that for each label(class) how much the pixle intensity is different.\n",
    "# Means it checks whether for a specific class images are more btighter or not.\n",
    "# It just take the mean of pixle values of each image then draw on graph with respect to their class.\n",
    "\n",
    "mean_intensities = []\n",
    "for label in class_labels:\n",
    "    class_indices = np.where(Y == label)[0]\n",
    "    class_images = X[class_indices]\n",
    "    class_mean_intensity = np.mean(class_images)\n",
    "    mean_intensities.append(class_mean_intensity)\n",
    "\n",
    "# Ploting the mean intensities for each class\n",
    "plt.bar(class_labels, mean_intensities)\n",
    "plt.xlabel('Class')\n",
    "plt.ylabel('Mean Intensity')\n",
    "plt.title('Mean Pixel Intensity for Each Class')\n",
    "plt.show()\n",
    "\n",
    "# Preprocessing (if applicable)\n",
    "# Example: Normalize pixel intensities to [0, 1]\n",
    "X_normalized = X.astype(float) / 255.0"
   ]
  },
  {
   "cell_type": "markdown",
   "id": "8ef25bff",
   "metadata": {},
   "source": [
    "#### Until now the data analysis shows:\n",
    "1. There are total 204 samples with 3 different classes. Images have 9x9x1 shape.\n",
    "2. Noisy data have more random pixles in the images that makes it noisy.\n",
    "3. There are no missing values in data. So no need to fix this issue.\n",
    "4. Data distribution analysis shows that images distribution for each class is fine.\n",
    "5. Mean pixle intensity shows that images are almost equally bright with respect to each class. "
   ]
  },
  {
   "cell_type": "markdown",
   "id": "b81a3360",
   "metadata": {},
   "source": [
    "## Naive-Byes classifier"
   ]
  },
  {
   "cell_type": "markdown",
   "id": "22d45e47",
   "metadata": {},
   "source": [
    "### Simple dataset"
   ]
  },
  {
   "cell_type": "code",
   "execution_count": 9,
   "id": "c487691e",
   "metadata": {
    "scrolled": false
   },
   "outputs": [
    {
     "name": "stdout",
     "output_type": "stream",
     "text": [
      "Accuracy: 0.72\n",
      "Confusion Matrix:\n",
      "[[8 2 0]\n",
      " [0 5 2]\n",
      " [0 3 5]]\n",
      "Classification Report:\n",
      "              precision    recall  f1-score   support\n",
      "\n",
      "           0       1.00      0.80      0.89        10\n",
      "           1       0.50      0.71      0.59         7\n",
      "           2       0.71      0.62      0.67         8\n",
      "\n",
      "    accuracy                           0.72        25\n",
      "   macro avg       0.74      0.71      0.71        25\n",
      "weighted avg       0.77      0.72      0.73        25\n",
      "\n"
     ]
    }
   ],
   "source": [
    "# Flattening the images into 1-dimensional arrays\n",
    "X_flat = X.reshape(X.shape[0], -1)\n",
    "\n",
    "# Spliting the dataset into training and testing sets\n",
    "X_train, X_test, y_train, y_test = train_test_split(X_flat, Y, test_size=0.12, random_state=42)\n",
    "\n",
    "# Initializing the Naive Bayes classifier\n",
    "classifier = GaussianNB()\n",
    "\n",
    "# Training the classifier\n",
    "classifier.fit(X_train, y_train)\n",
    "\n",
    "# Making the predictions on the test set\n",
    "y_pred = classifier.predict(X_test)\n",
    "\n",
    "# Calculating the accuracy\n",
    "accuracy = accuracy_score(y_test, y_pred)\n",
    "\n",
    "# Calculating the confusion matrix\n",
    "confusion_mat = confusion_matrix(y_test, y_pred)\n",
    "\n",
    "# Generating the classification report\n",
    "classification_rep = classification_report(y_test, y_pred)\n",
    "\n",
    "# Printing the results\n",
    "print(\"Accuracy:\", accuracy)\n",
    "print(\"Confusion Matrix:\")\n",
    "print(confusion_mat)\n",
    "print(\"Classification Report:\")\n",
    "print(classification_rep)"
   ]
  },
  {
   "cell_type": "markdown",
   "id": "78cf8186",
   "metadata": {},
   "source": [
    "### Noisy dataset"
   ]
  },
  {
   "cell_type": "code",
   "execution_count": 10,
   "id": "12eda0aa",
   "metadata": {},
   "outputs": [
    {
     "name": "stdout",
     "output_type": "stream",
     "text": [
      "Accuracy: 0.72\n",
      "Confusion Matrix:\n",
      "[[7 3 0]\n",
      " [1 6 0]\n",
      " [0 3 5]]\n",
      "Classification Report:\n",
      "              precision    recall  f1-score   support\n",
      "\n",
      "           0       0.88      0.70      0.78        10\n",
      "           1       0.50      0.86      0.63         7\n",
      "           2       1.00      0.62      0.77         8\n",
      "\n",
      "    accuracy                           0.72        25\n",
      "   macro avg       0.79      0.73      0.73        25\n",
      "weighted avg       0.81      0.72      0.73        25\n",
      "\n"
     ]
    }
   ],
   "source": [
    "# Flattening the noisy images into 1-dimensional arrays\n",
    "NX_flat = NX.reshape(NX.shape[0], -1)\n",
    "\n",
    "# Spliting the noisy dataset into training and testing sets\n",
    "NX_train, NX_test, Ny_train, Ny_test = train_test_split(NX_flat, NY, test_size=0.12, random_state=42)\n",
    "\n",
    "# Initializing the Naive Bayes classifier\n",
    "Nclassifier = GaussianNB()\n",
    "\n",
    "# Training the classifier\n",
    "Nclassifier.fit(NX_train, Ny_train)\n",
    "\n",
    "# Making predictions on the test set\n",
    "Ny_pred = Nclassifier.predict(NX_test)\n",
    "\n",
    "# Calculating the accuracy\n",
    "Noisy_accuracy = accuracy_score(Ny_test, Ny_pred)\n",
    "\n",
    "# Calculating the confusion matrix\n",
    "Noisy_confusion_mat = confusion_matrix(Ny_test, Ny_pred)\n",
    "\n",
    "# Generating the classification report\n",
    "Noisy_classification_rep = classification_report(Ny_test, Ny_pred)\n",
    "\n",
    "# Printing the results\n",
    "print(\"Accuracy:\", Noisy_accuracy)\n",
    "print(\"Confusion Matrix:\")\n",
    "print(Noisy_confusion_mat)\n",
    "print(\"Classification Report:\")\n",
    "print(Noisy_classification_rep)"
   ]
  },
  {
   "cell_type": "markdown",
   "id": "30093102",
   "metadata": {},
   "source": [
    "### Precision\n",
    "In Classification report we can see precision values. As we know high precision means the classifier is good to predict positive values. So classification report shows that naive-byes classifier is good at predicting 0 class or sad faces in our dataset because its precision is 100% for simple dataset and 88% for noisy dataset. This means it is very less chance to predict sad face as neutral or happy face.\n",
    "\n",
    "\n",
    "### Recall\n",
    "Recall or sensitivity tells us how many true positives are actually predicted as true positives from total true positives. A high recall indicates that the classifier is very sensitive to predict positive valuse. Now zero (Sad), one (Neutral) and two (Happy) classes has recall values 0.80, 0.71 and 0.62 respectively for simple dataset while noisy dataset has 0.71, 0.87 and 0.63 values respectively. This shows that classifier is sensitive to more than 70% for both for sad and neutral classes in both simple and noisy datasets which means this classifier on these particular datasets can tell 70% accurately that the face is sad or neutral.\n",
    "\n",
    "\n",
    "### F1-Score\n",
    "F1 score is a harmonic mean of precision and recall. We calculate F1-score when both false positives and false negatives are important to get total predicted true positives. Its values lies between 0 and 1 where 1 means good best while zero means worst. So in these classification reports, F1-Score of sad and happy faces shows that these are best results but for neutral faces classifier doesn't work well.\n",
    "\n",
    "### Accuracy\n",
    "Both datasets shows 72% Accuracy. But one thing to note that the accuracy varies with the change of value of test_size in train_test_split. it shows a maximum accuracy of 72% when the test_size is taken only 0.12 or 12%."
   ]
  },
  {
   "cell_type": "markdown",
   "id": "d69b8ea8",
   "metadata": {},
   "source": [
    "### ROC and Area under ROC"
   ]
  },
  {
   "cell_type": "code",
   "execution_count": 11,
   "id": "01a4c479",
   "metadata": {},
   "outputs": [
    {
     "name": "stdout",
     "output_type": "stream",
     "text": [
      "Average AUC: 0.752489884842826\n"
     ]
    },
    {
     "data": {
      "image/png": "[encoded data removed]",
      "text/plain": [
       "<Figure size 640x480 with 1 Axes>"
      ]
     },
     "metadata": {},
     "output_type": "display_data"
    }
   ],
   "source": [
    "# Creating a list to store the binary classifiers and AUC scores\n",
    "classifiers = []\n",
    "auc_scores = []\n",
    "AllTPRs = []\n",
    "AllFPRs = []\n",
    "# Training one classifier per class using the one-vs-all strategy\n",
    "for class_label in np.unique(y_train):\n",
    "    # Creating a binary target variable for the current class\n",
    "    binary_target = np.where(y_train == class_label, 1, 0)\n",
    "\n",
    "    # Training a Naive Bayes classifier on the binary target variable\n",
    "    nb_classifier = GaussianNB()\n",
    "    nb_classifier.fit(X_train, binary_target)\n",
    "\n",
    "    # Adding the trained classifier to the list\n",
    "    classifiers.append(nb_classifier)\n",
    "\n",
    "    # Predicting probabilities for the positive class (class_label)\n",
    "    y_scores = nb_classifier.predict_proba(X_test)[:, 1]\n",
    "\n",
    "    # Calculating AUC for the current class\n",
    "    auc = roc_auc_score(y_test == class_label, y_scores)\n",
    "    auc_scores.append(auc)\n",
    "\n",
    "    # Ploting ROC curve for the current class\n",
    "    fpr, tpr, _ = roc_curve(y_test == class_label, y_scores)\n",
    "    plt.plot(fpr, tpr, label=f\"Class {class_label}, AUC = {auc:.2f}\")\n",
    "    AllTPRs.append(tpr)\n",
    "    AllFPRs.append(fpr)\n",
    "\n",
    "# Setting plot titles and labels\n",
    "plt.title(\"Receiver Operating Characteristic (ROC)\")\n",
    "plt.xlabel(\"False Positive Rate\")\n",
    "plt.ylabel(\"True Positive Rate\")\n",
    "plt.legend()\n",
    "\n",
    "# Calculating average AUC across all classes\n",
    "average_auc = np.mean(auc_scores)\n",
    "print(f\"Average AUC: {average_auc}\")\n",
    "\n",
    "# Showing the plot\n",
    "plt.show()\n"
   ]
  },
  {
   "cell_type": "markdown",
   "id": "1295d1ee",
   "metadata": {},
   "source": [
    "ROC line shows a trade-off between true positive rate (TPR) and false positive rate (FPR). We used one vs all strategy to calculate Area under ROC which means TPR and FPR values of each class with all other classes. Then we found that area under ROC (AUC) for classes 0, 1, and 2 is 0.88, 0.68, and 0.72 respectively. This shows, overall classifier is perfact for our dataset because we know that if this value is 1 then it is considered as best classifier and random at 0.5."
   ]
  },
  {
   "cell_type": "markdown",
   "id": "96c50684",
   "metadata": {},
   "source": [
    "## For Top marks: Two datasets"
   ]
  },
  {
   "cell_type": "code",
   "execution_count": 12,
   "id": "ca25ddf3",
   "metadata": {},
   "outputs": [
    {
     "data": {
      "image/png": "[encoded data removed]",
      "text/plain": [
       "<Figure size 640x480 with 2 Axes>"
      ]
     },
     "metadata": {},
     "output_type": "display_data"
    }
   ],
   "source": [
    "# Calculating the correlation matrix\n",
    "corr_matrix = np.corrcoef(X_flat, rowvar=False)\n",
    "\n",
    "# Ploting the correlation matrix\n",
    "plt.imshow(corr_matrix, cmap='bwr', vmin=-1, vmax=1)\n",
    "plt.colorbar()\n",
    "plt.title('Correlation Matrix')\n",
    "plt.show()"
   ]
  },
  {
   "cell_type": "markdown",
   "id": "0b154e3b",
   "metadata": {},
   "source": [
    "Above correlation matrix only shows a correlation between features but these doesn't show any corralation between features and class values."
   ]
  },
  {
   "cell_type": "markdown",
   "id": "75bc484e",
   "metadata": {},
   "source": [
    "### Simple dataset"
   ]
  },
  {
   "cell_type": "markdown",
   "id": "c9fba29e",
   "metadata": {},
   "source": [
    "#### Top 6x3 = 18 featured dataset\n",
    "##### PCA (Principal Component Analysis) algorithm"
   ]
  },
  {
   "cell_type": "code",
   "execution_count": 13,
   "id": "f483dd73",
   "metadata": {},
   "outputs": [
    {
     "name": "stdout",
     "output_type": "stream",
     "text": [
      "Shape of Dataset with 6 Top Features: (204, 6)\n",
      "Classification Report:\n",
      "              precision    recall  f1-score   support\n",
      "\n",
      "           0       1.00      0.80      0.89        15\n",
      "           1       0.62      1.00      0.76         8\n",
      "           2       0.70      0.58      0.64        12\n",
      "\n",
      "    accuracy                           0.77        35\n",
      "   macro avg       0.77      0.79      0.76        35\n",
      "weighted avg       0.81      0.77      0.77        35\n",
      "\n",
      "Accuracy: 0.7714285714285715\n"
     ]
    }
   ],
   "source": [
    "# Reshaping the image dataset to a 2D matrix\n",
    "num_samples = X.shape[0]\n",
    "X_2d = X.reshape(num_samples, -1)\n",
    "\n",
    "# Applying PCA to the image dataset for 6 top features\n",
    "pca_6 = PCA(n_components=6)\n",
    "X_transformed_6 = pca_6.fit_transform(X_2d)\n",
    "print(\"Shape of Dataset with 6 Top Features:\", X_transformed_6.shape)\n",
    "\n",
    "X_trainR6, X_testR6, y_trainR6, y_testR6 = train_test_split(X_transformed_6, Y, test_size=0.17, random_state=42)\n",
    "\n",
    "# Initializing and training the Gaussian Naive Bayes classifier\n",
    "classifierR6 = GaussianNB()\n",
    "classifierR6.fit(X_trainR6, y_trainR6)\n",
    "\n",
    "# Making predictions on the testing set\n",
    "y_predR6 = classifierR6.predict(X_testR6)\n",
    "\n",
    "# Generating the classification report\n",
    "reportR6 = classification_report(y_testR6, y_predR6)\n",
    "accuracyR6 = accuracy_score(y_testR6, y_predR6)\n",
    "print(\"Classification Report:\")\n",
    "print(reportR6)\n",
    "print(\"Accuracy:\", accuracyR6)"
   ]
  },
  {
   "cell_type": "markdown",
   "id": "3478910b",
   "metadata": {},
   "source": [
    "##### Pearson'r algorithm"
   ]
  },
  {
   "cell_type": "code",
   "execution_count": 14,
   "id": "e6129983",
   "metadata": {},
   "outputs": [
    {
     "name": "stdout",
     "output_type": "stream",
     "text": [
      "[array([57, 58, 59, 66, 67, 60], dtype=int64), array([37, 43, 26, 30, 28, 33], dtype=int64), array([68,  7, 79,  0,  1, 15], dtype=int64)]\n",
      "Top features for Class 0: [57 58 59 66 67 60]\n",
      "Top features for Class 1: [37 43 26 30 28 33]\n",
      "Top features for Class 2: [68  7 79  0  1 15]\n"
     ]
    }
   ],
   "source": [
    "# Calculating the correlation between each feature and class labels\n",
    "correlations = []\n",
    "for feature in range(X_flat.shape[1]):\n",
    "    feature_values = X_flat[:, feature]\n",
    "    if np.std(feature_values) == 0:\n",
    "        correlation = 0\n",
    "    else:\n",
    "        correlation, _ = pearsonr(feature_values, Y)\n",
    "    correlations.append(correlation)\n",
    "\n",
    "# Sorting the correlations in descending order\n",
    "correlations = np.array(correlations)\n",
    "sorted_indices = np.argsort(correlations)[::-1]\n",
    "\n",
    "# Selecting the top features for each class\n",
    "num_top_features = 6  # Number of top features to select\n",
    "top_features_per_class = []\n",
    "for class_label in range(0, 3):\n",
    "    class_indices = np.where(Y == class_label)[0]\n",
    "    top_features = sorted_indices[np.isin(sorted_indices, class_indices)][:num_top_features]\n",
    "    top_features_per_class.append(top_features)\n",
    "\n",
    "print(top_features_per_class)\n",
    "# Printing the top features for each class\n",
    "for class_label, top_features in enumerate(top_features_per_class, 0):\n",
    "    print(f\"Top features for Class {class_label}: {top_features}\")\n"
   ]
  },
  {
   "cell_type": "code",
   "execution_count": 15,
   "id": "1d26497a",
   "metadata": {},
   "outputs": [
    {
     "name": "stdout",
     "output_type": "stream",
     "text": [
      "Classification Report:\n",
      "              precision    recall  f1-score   support\n",
      "\n",
      "           0       0.75      1.00      0.86        15\n",
      "           1       0.33      0.25      0.29         8\n",
      "           2       0.89      0.67      0.76        12\n",
      "\n",
      "    accuracy                           0.71        35\n",
      "   macro avg       0.66      0.64      0.63        35\n",
      "weighted avg       0.70      0.71      0.69        35\n",
      "\n",
      "Accuracy: 0.7142857142857143\n"
     ]
    }
   ],
   "source": [
    "# Creating the reduced dataset with the top features\n",
    "X_reduced = X_flat[:, np.concatenate(top_features_per_class)]\n",
    "\n",
    "# Spliting the dataset into training and testing sets\n",
    "X_train2, X_test2, y_train2, y_test2 = train_test_split(X_reduced, Y, test_size=0.17, random_state=42)\n",
    "\n",
    "# Initializing and training the Gaussian Naive Bayes classifier\n",
    "classifierNew = GaussianNB()\n",
    "classifierNew.fit(X_train2, y_train2)\n",
    "\n",
    "# Making predictions on the testing set\n",
    "y_pred2 = classifierNew.predict(X_test2)\n",
    "\n",
    "# Generating the classification report\n",
    "report = classification_report(y_test2, y_pred2)\n",
    "accuracy = accuracy_score(y_test2, y_pred2)\n",
    "\n",
    "print(\"Classification Report:\")\n",
    "print(report)\n",
    "print(\"Accuracy:\", accuracy)"
   ]
  },
  {
   "cell_type": "markdown",
   "id": "235b5db0",
   "metadata": {},
   "source": [
    "#### Top 3x3 = 9 featured dataset"
   ]
  },
  {
   "cell_type": "markdown",
   "id": "822c2e9d",
   "metadata": {},
   "source": [
    "##### PCA algorithm"
   ]
  },
  {
   "cell_type": "code",
   "execution_count": 16,
   "id": "5311880b",
   "metadata": {},
   "outputs": [
    {
     "name": "stdout",
     "output_type": "stream",
     "text": [
      "Shape of Dataset with 3 Top Features: (204, 3)\n",
      "Classification Report of top 3 featured dataset\n",
      "Classification Report:\n",
      "              precision    recall  f1-score   support\n",
      "\n",
      "           0       1.00      1.00      1.00        15\n",
      "           1       0.57      1.00      0.73         8\n",
      "           2       1.00      0.50      0.67        12\n",
      "\n",
      "    accuracy                           0.83        35\n",
      "   macro avg       0.86      0.83      0.80        35\n",
      "weighted avg       0.90      0.83      0.82        35\n",
      "\n",
      "Accuracy: 0.8285714285714286\n"
     ]
    }
   ],
   "source": [
    "# Applying PCA to the image dataset for 3 top features\n",
    "pca_3 = PCA(n_components=3)\n",
    "X_transformed_3 = pca_3.fit_transform(X_2d)\n",
    "\n",
    "# Printing the shapes of the transformed datasets\n",
    "print(\"Shape of Dataset with 3 Top Features:\", X_transformed_3.shape)\n",
    "\n",
    "\n",
    "# Spliting the dataset into training and testing sets\n",
    "X_trainR3, X_testR3, y_trainR3, y_testR3 = train_test_split(X_transformed_3, Y, test_size=0.17, random_state=42)\n",
    "\n",
    "# Initializing and train the Gaussian Naive Bayes classifier\n",
    "classifierR3 = GaussianNB()\n",
    "classifierR3.fit(X_trainR3, y_trainR3)\n",
    "\n",
    "\n",
    "\n",
    "# Making predictions on the testing set\n",
    "y_predR3 = classifierR3.predict(X_testR3)\n",
    "\n",
    "# Generating the classification report\n",
    "reportR3 = classification_report(y_testR3, y_predR3)\n",
    "accuracyR3 = accuracy_score(y_testR3, y_predR3)\n",
    "print(\"Classification Report of top 3 featured dataset\")\n",
    "print(\"Classification Report:\")\n",
    "print(reportR3)\n",
    "print(\"Accuracy:\", accuracyR3)"
   ]
  },
  {
   "cell_type": "markdown",
   "id": "aa79a82a",
   "metadata": {},
   "source": [
    "##### Pearson'r algorithm"
   ]
  },
  {
   "cell_type": "code",
   "execution_count": 17,
   "id": "57a20667",
   "metadata": {},
   "outputs": [
    {
     "name": "stdout",
     "output_type": "stream",
     "text": [
      "Top features for Class 0: [57 58 59]\n",
      "Top features for Class 1: [37 43 26]\n",
      "Top features for Class 2: [68  7 79]\n"
     ]
    }
   ],
   "source": [
    "# Selecting the top features for each class\n",
    "num_top_features3 = 3  # Number of top features to select\n",
    "top_features_per_class3 = []\n",
    "for class_label in range(0, 3):\n",
    "    class_indices = np.where(Y == class_label)[0]\n",
    "    top_features = sorted_indices[np.isin(sorted_indices, class_indices)][:num_top_features3]\n",
    "    top_features_per_class3.append(top_features)\n",
    "\n",
    "# Printing the top features for each class\n",
    "for class_label, top_features in enumerate(top_features_per_class3, 0):\n",
    "    print(f\"Top features for Class {class_label}: {top_features}\")"
   ]
  },
  {
   "cell_type": "code",
   "execution_count": 18,
   "id": "26acb31b",
   "metadata": {},
   "outputs": [
    {
     "name": "stdout",
     "output_type": "stream",
     "text": [
      "Classification Report:\n",
      "              precision    recall  f1-score   support\n",
      "\n",
      "           0       0.75      1.00      0.86        15\n",
      "           1       0.33      0.25      0.29         8\n",
      "           2       0.89      0.67      0.76        12\n",
      "\n",
      "    accuracy                           0.71        35\n",
      "   macro avg       0.66      0.64      0.63        35\n",
      "weighted avg       0.70      0.71      0.69        35\n",
      "\n",
      "Accuracy: 0.7142857142857143\n"
     ]
    }
   ],
   "source": [
    "# Creating the reduced dataset with the top features\n",
    "X_reduced3 = X_flat[:, np.concatenate(top_features_per_class3)]\n",
    "\n",
    "# Spliting the dataset into training and testing sets\n",
    "X_train3, X_test3, y_train3, y_test3 = train_test_split(X_reduced3, Y, test_size=0.17, random_state=42)\n",
    "\n",
    "# Initializing and train the Gaussian Naive Bayes classifier\n",
    "classifier3 = GaussianNB()\n",
    "classifier3.fit(X_train3, y_train3)\n",
    "\n",
    "# Making predictions on the testing set\n",
    "y_pred3 = classifier3.predict(X_test3)\n",
    "\n",
    "# Generating the classification report\n",
    "report3 = classification_report(y_test3, y_pred3)\n",
    "accuracy3 = accuracy_score(y_test3, y_pred3)\n",
    "\n",
    "print(\"Classification Report:\")\n",
    "print(report3)\n",
    "print(\"Accuracy:\", accuracy3)"
   ]
  },
  {
   "cell_type": "markdown",
   "id": "abed3ad5",
   "metadata": {},
   "source": [
    "### Noisy dataset"
   ]
  },
  {
   "cell_type": "markdown",
   "id": "9425d50c",
   "metadata": {},
   "source": [
    "#### Top 6x3 = 18 featured dataset\n",
    "##### PCA algrithm"
   ]
  },
  {
   "cell_type": "code",
   "execution_count": 19,
   "id": "29e1a0d8",
   "metadata": {},
   "outputs": [
    {
     "name": "stdout",
     "output_type": "stream",
     "text": [
      "Shape of NOISY Dataset with 6 Top Features: (204, 6)\n",
      "Classification Report:\n",
      "              precision    recall  f1-score   support\n",
      "\n",
      "           0       1.00      0.80      0.89        15\n",
      "           1       0.62      1.00      0.76         8\n",
      "           2       0.70      0.58      0.64        12\n",
      "\n",
      "    accuracy                           0.77        35\n",
      "   macro avg       0.77      0.79      0.76        35\n",
      "weighted avg       0.81      0.77      0.77        35\n",
      "\n",
      "Accuracy: 0.7714285714285715\n"
     ]
    }
   ],
   "source": [
    "# Reshaping the image dataset to a 2D matrix\n",
    "N_num_samples = NX.shape[0]\n",
    "N_X_2d = X.reshape(N_num_samples, -1)\n",
    "\n",
    "# Applying PCA to the image dataset for 6 top features\n",
    "N_pca_6 = PCA(n_components=6)\n",
    "N_X_transformed_6 = N_pca_6.fit_transform(N_X_2d)\n",
    "print(\"Shape of NOISY Dataset with 6 Top Features:\", N_X_transformed_6.shape)\n",
    "\n",
    "N_X_trainR6, N_X_testR6, N_y_trainR6, N_y_testR6 = train_test_split(N_X_transformed_6, NY, test_size=0.17, random_state=42)\n",
    "\n",
    "# Initializing and train the Gaussian Naive Bayes classifier\n",
    "N_classifierR6 = GaussianNB()\n",
    "N_classifierR6.fit(N_X_trainR6, N_y_trainR6)\n",
    "\n",
    "# Making predictions on the testing set\n",
    "N_y_predR6 = N_classifierR6.predict(N_X_testR6)\n",
    "\n",
    "# Generating the classification report\n",
    "N_reportR6 = classification_report(N_y_testR6, N_y_predR6)\n",
    "N_accuracyR6 = accuracy_score(N_y_testR6, N_y_predR6)\n",
    "print(\"Classification Report:\")\n",
    "print(N_reportR6)\n",
    "print(\"Accuracy:\", N_accuracyR6)"
   ]
  },
  {
   "cell_type": "markdown",
   "id": "6b34a3cb",
   "metadata": {},
   "source": [
    "##### Pearson'r algorithm"
   ]
  },
  {
   "cell_type": "code",
   "execution_count": 20,
   "id": "a16fd730",
   "metadata": {},
   "outputs": [
    {
     "name": "stdout",
     "output_type": "stream",
     "text": [
      "Top features for Class 0: [57 58 59 67 66 52]\n",
      "Top features for Class 1: [37 43 26 36 30 25]\n",
      "Top features for Class 2: [68 14 80 77 13 78]\n"
     ]
    }
   ],
   "source": [
    "# Calculating the correlation between each feature and class labels\n",
    "Ncorrelations = []\n",
    "for feature in range(NX_flat.shape[1]):\n",
    "    feature_values = NX_flat[:, feature]\n",
    "    if np.std(feature_values) == 0:\n",
    "        Ncorrelation = 0\n",
    "    else:\n",
    "        Ncorrelation, _ = pearsonr(feature_values, NY)\n",
    "    Ncorrelations.append(Ncorrelation)\n",
    "\n",
    "# Sorting the correlations in descending order\n",
    "Ncorrelations = np.array(Ncorrelations)\n",
    "Nsorted_indices = np.argsort(Ncorrelations)[::-1]\n",
    "\n",
    "# Selecting the top features for each class\n",
    "N_num_top_features = 6  # Number of top features to select\n",
    "N_top_features_per_class = []\n",
    "for class_label in range(0, 3):\n",
    "    class_indices = np.where(NY == class_label)[0]\n",
    "    top_features = Nsorted_indices[np.isin(Nsorted_indices, class_indices)][:N_num_top_features]\n",
    "    N_top_features_per_class.append(top_features)\n",
    "\n",
    "# Printing the top features for each class\n",
    "for class_label, top_features in enumerate(N_top_features_per_class, 0):\n",
    "    print(f\"Top features for Class {class_label}: {top_features}\")\n"
   ]
  },
  {
   "cell_type": "code",
   "execution_count": 21,
   "id": "d7222585",
   "metadata": {},
   "outputs": [
    {
     "name": "stdout",
     "output_type": "stream",
     "text": [
      "Classification Report:\n",
      "              precision    recall  f1-score   support\n",
      "\n",
      "           0       0.75      1.00      0.86        15\n",
      "           1       0.43      0.38      0.40         8\n",
      "           2       1.00      0.67      0.80        12\n",
      "\n",
      "    accuracy                           0.74        35\n",
      "   macro avg       0.73      0.68      0.69        35\n",
      "weighted avg       0.76      0.74      0.73        35\n",
      "\n",
      "Accuracy: 0.7428571428571429\n"
     ]
    }
   ],
   "source": [
    "# Creating the reduced dataset with the top features\n",
    "NX_reduced = NX_flat[:, np.concatenate(N_top_features_per_class)]\n",
    "\n",
    "# Spliting the dataset into training and testing sets\n",
    "NX_train, NX_test, Ny_train, Ny_test = train_test_split(NX_reduced, NY, test_size=0.17, random_state=42)\n",
    "\n",
    "# Initializing and train the Gaussian Naive Bayes classifier\n",
    "NclassifierNew = GaussianNB()\n",
    "NclassifierNew.fit(NX_train, Ny_train)\n",
    "\n",
    "# Making predictions on the testing set\n",
    "Ny_pred = NclassifierNew.predict(NX_test)\n",
    "\n",
    "# Generating the classification report\n",
    "Nreport = classification_report(Ny_test, Ny_pred)\n",
    "Naccuracy = accuracy_score(Ny_test, Ny_pred)\n",
    "\n",
    "print(\"Classification Report:\")\n",
    "print(Nreport)\n",
    "print(\"Accuracy:\", Naccuracy)"
   ]
  },
  {
   "cell_type": "markdown",
   "id": "650c9ea6",
   "metadata": {},
   "source": [
    "#### Top 3x3 = 9 featured dataset"
   ]
  },
  {
   "cell_type": "markdown",
   "id": "6e0220b4",
   "metadata": {},
   "source": [
    "##### PCA algorithm"
   ]
  },
  {
   "cell_type": "code",
   "execution_count": 22,
   "id": "a7379f1e",
   "metadata": {},
   "outputs": [
    {
     "name": "stdout",
     "output_type": "stream",
     "text": [
      "Shape of NOISY Dataset with 3 Top Features: (204, 3)\n",
      "Classification Report:\n",
      "              precision    recall  f1-score   support\n",
      "\n",
      "           0       1.00      1.00      1.00        15\n",
      "           1       0.57      1.00      0.73         8\n",
      "           2       1.00      0.50      0.67        12\n",
      "\n",
      "    accuracy                           0.83        35\n",
      "   macro avg       0.86      0.83      0.80        35\n",
      "weighted avg       0.90      0.83      0.82        35\n",
      "\n",
      "Accuracy: 0.8285714285714286\n"
     ]
    }
   ],
   "source": [
    "# Applying PCA to the image dataset for 6 top features\n",
    "N_pca_3 = PCA(n_components=3)\n",
    "N_X_transformed_3 = N_pca_3.fit_transform(N_X_2d)\n",
    "print(\"Shape of NOISY Dataset with 3 Top Features:\", N_X_transformed_3.shape)\n",
    "\n",
    "N_X_trainR3, N_X_testR3, N_y_trainR3, N_y_testR3 = train_test_split(N_X_transformed_3, NY, test_size=0.17, random_state=42)\n",
    "\n",
    "# Initializing and train the Gaussian Naive Bayes classifier\n",
    "N_classifierR3 = GaussianNB()\n",
    "N_classifierR3.fit(N_X_trainR3, N_y_trainR3)\n",
    "\n",
    "# Making predictions on the testing set\n",
    "N_y_predR3 = N_classifierR3.predict(N_X_testR3)\n",
    "\n",
    "# Generating the classification report\n",
    "N_reportR3 = classification_report(N_y_testR3, N_y_predR3)\n",
    "N_accuracyR3 = accuracy_score(N_y_testR3, N_y_predR3)\n",
    "print(\"Classification Report:\")\n",
    "print(N_reportR3)\n",
    "print(\"Accuracy:\", N_accuracyR3)"
   ]
  },
  {
   "cell_type": "markdown",
   "id": "516f7598",
   "metadata": {},
   "source": [
    "##### Pearson'r algorithm"
   ]
  },
  {
   "cell_type": "code",
   "execution_count": 23,
   "id": "bde32e42",
   "metadata": {},
   "outputs": [
    {
     "name": "stdout",
     "output_type": "stream",
     "text": [
      "Top features for Class 0: [57 58 59]\n",
      "Top features for Class 1: [37 43 26]\n",
      "Top features for Class 2: [68 14 80]\n"
     ]
    }
   ],
   "source": [
    "# Selecting the top features for each class\n",
    "N_num_top_features = 3  # Number of top features to select\n",
    "N_top_features_per_class2 = []\n",
    "for class_label in range(0, 3):\n",
    "    class_indices = np.where(NY == class_label)[0]\n",
    "    top_features = Nsorted_indices[np.isin(Nsorted_indices, class_indices)][:N_num_top_features]\n",
    "    N_top_features_per_class2.append(top_features)\n",
    "\n",
    "# Printing the top features for each class\n",
    "for class_label, top_features in enumerate(N_top_features_per_class2, 0):\n",
    "    print(f\"Top features for Class {class_label}: {top_features}\")"
   ]
  },
  {
   "cell_type": "code",
   "execution_count": 24,
   "id": "c29508fd",
   "metadata": {},
   "outputs": [
    {
     "name": "stdout",
     "output_type": "stream",
     "text": [
      "Classification Report:\n",
      "              precision    recall  f1-score   support\n",
      "\n",
      "           0       0.71      1.00      0.83        15\n",
      "           1       0.33      0.25      0.29         8\n",
      "           2       1.00      0.67      0.80        12\n",
      "\n",
      "    accuracy                           0.71        35\n",
      "   macro avg       0.68      0.64      0.64        35\n",
      "weighted avg       0.73      0.71      0.70        35\n",
      "\n",
      "Accuracy: 0.7142857142857143\n"
     ]
    }
   ],
   "source": [
    "# Creating the reduced dataset with the top features\n",
    "NX_reduced2 = NX_flat[:, np.concatenate(N_top_features_per_class2)]\n",
    "\n",
    "# Spliting the dataset into training and testing sets\n",
    "NX_train2, NX_test2, Ny_train2, Ny_test2 = train_test_split(NX_reduced2, NY, test_size=0.17, random_state=42)\n",
    "\n",
    "# Initializing and train the Gaussian Naive Bayes classifier\n",
    "Nclassifier2 = GaussianNB()\n",
    "Nclassifier2.fit(NX_train2, Ny_train2)\n",
    "\n",
    "# Making predictions on the testing set\n",
    "Ny_pred2 = Nclassifier2.predict(NX_test2)\n",
    "\n",
    "# Generating the classification report\n",
    "Nreport2 = classification_report(Ny_test2, Ny_pred2)\n",
    "Naccuracy2 = accuracy_score(Ny_test2, Ny_pred2)\n",
    "\n",
    "print(\"Classification Report:\")\n",
    "print(Nreport2)\n",
    "print(\"Accuracy:\", Naccuracy2)"
   ]
  },
  {
   "cell_type": "markdown",
   "id": "b34ec116",
   "metadata": {},
   "source": [
    "#### Conclusion\n",
    "We used pearsonr and PCA algorithm's built-in fucntion to calculate correlation between image features and class labels.\n",
    "\n",
    "###### Simple data analysis:\n",
    "Pearson'r:\n",
    "1. 6x3 = 18 top featured dataset showed less accuracy (i.e 64%) with same test_size (0.12) as entire dataset.\n",
    "2. 3x3 = 9 top featured dataset showed less accuracy (i.e 64%) with same test_size (0.12) as entire dataset.\n",
    "3. Both top (9 & 18) featured datasets showed same accuracy in simple smiley dataset.\n",
    "4. They showed maximum accuracy (71%) when test_size is set to 0.17. So the top correlating featured datasets showed the almost same accuracy for simple data as the entire dataset did. \n",
    "\n",
    "PCA:\n",
    "1. Top 18 featured simple smiley dataset showed 77% accuracy at test_size = 0.17.\n",
    "2. Top 9 featured simple smiley dataset showed 82% accuracy at test_size = 0.17.\n",
    "\n",
    "###### Noisy data analysis:\n",
    "Pearson'r:\n",
    "1. 6x3 = 18 top featured dataset showed less accuracy (i.e 68%) with same size (0.12) of train/test dataset. But not that less as simple data did.\n",
    "2. 3x3 = 9 top featured dataset showed a little more less accuracy (i.e 64%) with same size (0.12) of train/test dataset.\n",
    "3. Changing the value of test_size to 0.17 the both top featured noisy dataset showed rise in accuracy. \n",
    "4. Top 18 featured noisy dataset showed an increase in accuracy by 2% (i.e. total 74% accuracy) on test_size = 0.17. \n",
    "5. Top 9 featured noisy dataset also showed an increase in accuracy which is total 71%. but it is not that higher as 18 featured dataset showed.\n",
    "\n",
    "PCA:\n",
    "1. Both top 9 and 18 featured NOISY datasets showed same accuracy as they had shown on in top simple datasets.\n",
    "\n",
    "###### End Result:\n",
    "Pearson'r:\n",
    "So the top features from simple smiley dataset doesn't show a big difference in accuracy even selecting top correlating features from dataset. Selecting all features, selecting top 18 features, and selecting top 9 features doesn't make a big difference in accuracy. But they do have some big changes in the precesion, recall and F1-score values.\n",
    "\n",
    "Noisy data shows an increase in accuracy by selecting top 18 correlated features which means that it shows a reduction of noise in data. But when we selected only 9 top correlated features in data it again showed a decrease in accuracy from 74% to 71%. \n",
    "\n",
    "PCA:\n",
    "PCA behaved like a good featured selection algorithm. Entire data showed 71% accuracy. With PCA feature selection top 18 featured dataset showed 6% increase in accuracy that is 77%. While top 9 featured showed more 5% increase in accuracy which is 82%."
   ]
  },
  {
   "cell_type": "markdown",
   "id": "a8fadd2b",
   "metadata": {},
   "source": [
    "# Question 2"
   ]
  },
  {
   "cell_type": "markdown",
   "id": "c4ef2eed",
   "metadata": {},
   "source": [
    "### Simple data"
   ]
  },
  {
   "cell_type": "code",
   "execution_count": 25,
   "id": "a5d5a1ef",
   "metadata": {},
   "outputs": [
    {
     "data": {
      "text/html": [
       "<style>#sk-container-id-1 {color: black;background-color: white;}#sk-container-id-1 pre{padding: 0;}#sk-container-id-1 div.sk-toggleable {background-color: white;}#sk-container-id-1 label.sk-toggleable__label {cursor: pointer;display: block;width: 100%;margin-bottom: 0;padding: 0.3em;box-sizing: border-box;text-align: center;}#sk-container-id-1 label.sk-toggleable__label-arrow:before {content: \"▸\";float: left;margin-right: 0.25em;color: #696969;}#sk-container-id-1 label.sk-toggleable__label-arrow:hover:before {color: black;}#sk-container-id-1 div.sk-estimator:hover label.sk-toggleable__label-arrow:before {color: black;}#sk-container-id-1 div.sk-toggleable__content {max-height: 0;max-width: 0;overflow: hidden;text-align: left;background-color: #f0f8ff;}#sk-container-id-1 div.sk-toggleable__content pre {margin: 0.2em;color: black;border-radius: 0.25em;background-color: #f0f8ff;}#sk-container-id-1 input.sk-toggleable__control:checked~div.sk-toggleable__content {max-height: 200px;max-width: 100%;overflow: auto;}#sk-container-id-1 input.sk-toggleable__control:checked~label.sk-toggleable__label-arrow:before {content: \"▾\";}#sk-container-id-1 div.sk-estimator input.sk-toggleable__control:checked~label.sk-toggleable__label {background-color: #d4ebff;}#sk-container-id-1 div.sk-label input.sk-toggleable__control:checked~label.sk-toggleable__label {background-color: #d4ebff;}#sk-container-id-1 input.sk-hidden--visually {border: 0;clip: rect(1px 1px 1px 1px);clip: rect(1px, 1px, 1px, 1px);height: 1px;margin: -1px;overflow: hidden;padding: 0;position: absolute;width: 1px;}#sk-container-id-1 div.sk-estimator {font-family: monospace;background-color: #f0f8ff;border: 1px dotted black;border-radius: 0.25em;box-sizing: border-box;margin-bottom: 0.5em;}#sk-container-id-1 div.sk-estimator:hover {background-color: #d4ebff;}#sk-container-id-1 div.sk-parallel-item::after {content: \"\";width: 100%;border-bottom: 1px solid gray;flex-grow: 1;}#sk-container-id-1 div.sk-label:hover label.sk-toggleable__label {background-color: #d4ebff;}#sk-container-id-1 div.sk-serial::before {content: \"\";position: absolute;border-left: 1px solid gray;box-sizing: border-box;top: 0;bottom: 0;left: 50%;z-index: 0;}#sk-container-id-1 div.sk-serial {display: flex;flex-direction: column;align-items: center;background-color: white;padding-right: 0.2em;padding-left: 0.2em;position: relative;}#sk-container-id-1 div.sk-item {position: relative;z-index: 1;}#sk-container-id-1 div.sk-parallel {display: flex;align-items: stretch;justify-content: center;background-color: white;position: relative;}#sk-container-id-1 div.sk-item::before, #sk-container-id-1 div.sk-parallel-item::before {content: \"\";position: absolute;border-left: 1px solid gray;box-sizing: border-box;top: 0;bottom: 0;left: 50%;z-index: -1;}#sk-container-id-1 div.sk-parallel-item {display: flex;flex-direction: column;z-index: 1;position: relative;background-color: white;}#sk-container-id-1 div.sk-parallel-item:first-child::after {align-self: flex-end;width: 50%;}#sk-container-id-1 div.sk-parallel-item:last-child::after {align-self: flex-start;width: 50%;}#sk-container-id-1 div.sk-parallel-item:only-child::after {width: 0;}#sk-container-id-1 div.sk-dashed-wrapped {border: 1px dashed gray;margin: 0 0.4em 0.5em 0.4em;box-sizing: border-box;padding-bottom: 0.4em;background-color: white;}#sk-container-id-1 div.sk-label label {font-family: monospace;font-weight: bold;display: inline-block;line-height: 1.2em;}#sk-container-id-1 div.sk-label-container {text-align: center;}#sk-container-id-1 div.sk-container {/* jupyter's `normalize.less` sets `[hidden] { display: none; }` but bootstrap.min.css set `[hidden] { display: none !important; }` so we also need the `!important` here to be able to override the default hidden behavior on the sphinx rendered scikit-learn.org. See: https://github.com/scikit-learn/scikit-learn/issues/21755 */display: inline-block !important;position: relative;}#sk-container-id-1 div.sk-text-repr-fallback {display: none;}</style><div id=\"sk-container-id-1\" class=\"sk-top-container\"><div class=\"sk-text-repr-fallback\"><pre>KMeans(n_clusters=3)</pre><b>In a Jupyter environment, please rerun this cell to show the HTML representation or trust the notebook. <br />On GitHub, the HTML representation is unable to render, please try loading this page with nbviewer.org.</b></div><div class=\"sk-container\" hidden><div class=\"sk-item\"><div class=\"sk-estimator sk-toggleable\"><input class=\"sk-toggleable__control sk-hidden--visually\" id=\"sk-estimator-id-1\" type=\"checkbox\" checked><label for=\"sk-estimator-id-1\" class=\"sk-toggleable__label sk-toggleable__label-arrow\">KMeans</label><div class=\"sk-toggleable__content\"><pre>KMeans(n_clusters=3)</pre></div></div></div></div></div>"
      ],
      "text/plain": [
       "KMeans(n_clusters=3)"
      ]
     },
     "execution_count": 25,
     "metadata": {},
     "output_type": "execute_result"
    }
   ],
   "source": [
    "# Defining the number of clusters\n",
    "num_clusters = 3\n",
    "\n",
    "# Initializing the k-means clustering algorithm\n",
    "kmeans = KMeans(n_clusters=num_clusters)\n",
    "\n",
    "# Fitting the data to the algorithm\n",
    "kmeans.fit(X_flat)"
   ]
  },
  {
   "cell_type": "code",
   "execution_count": 26,
   "id": "9db42b46",
   "metadata": {},
   "outputs": [
    {
     "name": "stdout",
     "output_type": "stream",
     "text": [
      "ARI value lies between -1 to 1 with best value close to 1\n",
      "0.31288134543314644\n"
     ]
    }
   ],
   "source": [
    "# Getting the cluster labels assigned by k-means\n",
    "cluster_labels = kmeans.labels_\n",
    "\n",
    "# Calculating the ARI\n",
    "ari = adjusted_rand_score(Y, cluster_labels)\n",
    "\n",
    "print('ARI value lies between -1 to 1 with best value close to 1')\n",
    "print(ari)"
   ]
  },
  {
   "cell_type": "code",
   "execution_count": 27,
   "id": "73e85b17",
   "metadata": {},
   "outputs": [
    {
     "data": {
      "image/png": "[encoded data removed]",
      "text/plain": [
       "<Figure size 800x600 with 1 Axes>"
      ]
     },
     "metadata": {},
     "output_type": "display_data"
    },
    {
     "name": "stdout",
     "output_type": "stream",
     "text": [
      "This scatter plot shows, apparently there are 6 or 7 clusters in data.\n"
     ]
    }
   ],
   "source": [
    "clusters = kmeans.fit_predict(X_flat)\n",
    "\n",
    "# Performing PCA to reduce dimensionality to 2D\n",
    "pca = PCA(n_components=3)\n",
    "pca_components = pca.fit_transform(X_flat)\n",
    "\n",
    "# Creating the scatter plot of the clustered data points using PCA components\n",
    "plt.figure(figsize=(8, 6))\n",
    "\n",
    "# Ploting each cluster using a different color\n",
    "for cluster_label in range(num_clusters):\n",
    "    plt.scatter(\n",
    "        pca_components[clusters == cluster_label, 0],\n",
    "        pca_components[clusters == cluster_label, 1],\n",
    "        label=f\"Cluster {cluster_label}\",\n",
    "        alpha=0.7\n",
    "    )\n",
    "    \n",
    "\n",
    "plt.xlabel(\"Principal Component 1\")\n",
    "plt.ylabel(\"Principal Component 2\")\n",
    "plt.title(\"K-means Clustering with PCA\")\n",
    "plt.legend()\n",
    "plt.show()\n",
    "print(\"This scatter plot shows, apparently there are 6 or 7 clusters in data.\")"
   ]
  },
  {
   "cell_type": "code",
   "execution_count": 28,
   "id": "2a8a4458",
   "metadata": {},
   "outputs": [
    {
     "data": {
      "image/png": "[encoded data removed]",
      "text/plain": [
       "<Figure size 1000x1000 with 15 Axes>"
      ]
     },
     "metadata": {},
     "output_type": "display_data"
    }
   ],
   "source": [
    "# Selecting a few random images from each cluster\n",
    "cluster_indices = [np.where(cluster_labels == i)[0] for i in range(num_clusters)]\n",
    "selected_indices = [indices[:5] for indices in cluster_indices]\n",
    "\n",
    "# Ploting the selected images\n",
    "plt.figure(figsize=(10, 10))\n",
    "for i, indices in enumerate(selected_indices):\n",
    "    for j, index in enumerate(indices):\n",
    "        plt.subplot(num_clusters, 5, i*5 + j + 1)\n",
    "        plt.imshow(X[index], cmap='gray')\n",
    "        plt.axis('off')\n",
    "        plt.title(f'Cluster {i+1}')\n",
    "plt.tight_layout()\n",
    "plt.show()"
   ]
  },
  {
   "cell_type": "markdown",
   "id": "c379778e",
   "metadata": {},
   "source": [
    "By looking at images we can see each cluster have same kind of images. This shows that the clustering works well on this dataset."
   ]
  },
  {
   "cell_type": "markdown",
   "id": "d1fba80b",
   "metadata": {},
   "source": [
    "### Noisy data"
   ]
  },
  {
   "cell_type": "code",
   "execution_count": 29,
   "id": "a46ad19a",
   "metadata": {},
   "outputs": [
    {
     "data": {
      "text/html": [
       "<style>#sk-container-id-2 {color: black;background-color: white;}#sk-container-id-2 pre{padding: 0;}#sk-container-id-2 div.sk-toggleable {background-color: white;}#sk-container-id-2 label.sk-toggleable__label {cursor: pointer;display: block;width: 100%;margin-bottom: 0;padding: 0.3em;box-sizing: border-box;text-align: center;}#sk-container-id-2 label.sk-toggleable__label-arrow:before {content: \"▸\";float: left;margin-right: 0.25em;color: #696969;}#sk-container-id-2 label.sk-toggleable__label-arrow:hover:before {color: black;}#sk-container-id-2 div.sk-estimator:hover label.sk-toggleable__label-arrow:before {color: black;}#sk-container-id-2 div.sk-toggleable__content {max-height: 0;max-width: 0;overflow: hidden;text-align: left;background-color: #f0f8ff;}#sk-container-id-2 div.sk-toggleable__content pre {margin: 0.2em;color: black;border-radius: 0.25em;background-color: #f0f8ff;}#sk-container-id-2 input.sk-toggleable__control:checked~div.sk-toggleable__content {max-height: 200px;max-width: 100%;overflow: auto;}#sk-container-id-2 input.sk-toggleable__control:checked~label.sk-toggleable__label-arrow:before {content: \"▾\";}#sk-container-id-2 div.sk-estimator input.sk-toggleable__control:checked~label.sk-toggleable__label {background-color: #d4ebff;}#sk-container-id-2 div.sk-label input.sk-toggleable__control:checked~label.sk-toggleable__label {background-color: #d4ebff;}#sk-container-id-2 input.sk-hidden--visually {border: 0;clip: rect(1px 1px 1px 1px);clip: rect(1px, 1px, 1px, 1px);height: 1px;margin: -1px;overflow: hidden;padding: 0;position: absolute;width: 1px;}#sk-container-id-2 div.sk-estimator {font-family: monospace;background-color: #f0f8ff;border: 1px dotted black;border-radius: 0.25em;box-sizing: border-box;margin-bottom: 0.5em;}#sk-container-id-2 div.sk-estimator:hover {background-color: #d4ebff;}#sk-container-id-2 div.sk-parallel-item::after {content: \"\";width: 100%;border-bottom: 1px solid gray;flex-grow: 1;}#sk-container-id-2 div.sk-label:hover label.sk-toggleable__label {background-color: #d4ebff;}#sk-container-id-2 div.sk-serial::before {content: \"\";position: absolute;border-left: 1px solid gray;box-sizing: border-box;top: 0;bottom: 0;left: 50%;z-index: 0;}#sk-container-id-2 div.sk-serial {display: flex;flex-direction: column;align-items: center;background-color: white;padding-right: 0.2em;padding-left: 0.2em;position: relative;}#sk-container-id-2 div.sk-item {position: relative;z-index: 1;}#sk-container-id-2 div.sk-parallel {display: flex;align-items: stretch;justify-content: center;background-color: white;position: relative;}#sk-container-id-2 div.sk-item::before, #sk-container-id-2 div.sk-parallel-item::before {content: \"\";position: absolute;border-left: 1px solid gray;box-sizing: border-box;top: 0;bottom: 0;left: 50%;z-index: -1;}#sk-container-id-2 div.sk-parallel-item {display: flex;flex-direction: column;z-index: 1;position: relative;background-color: white;}#sk-container-id-2 div.sk-parallel-item:first-child::after {align-self: flex-end;width: 50%;}#sk-container-id-2 div.sk-parallel-item:last-child::after {align-self: flex-start;width: 50%;}#sk-container-id-2 div.sk-parallel-item:only-child::after {width: 0;}#sk-container-id-2 div.sk-dashed-wrapped {border: 1px dashed gray;margin: 0 0.4em 0.5em 0.4em;box-sizing: border-box;padding-bottom: 0.4em;background-color: white;}#sk-container-id-2 div.sk-label label {font-family: monospace;font-weight: bold;display: inline-block;line-height: 1.2em;}#sk-container-id-2 div.sk-label-container {text-align: center;}#sk-container-id-2 div.sk-container {/* jupyter's `normalize.less` sets `[hidden] { display: none; }` but bootstrap.min.css set `[hidden] { display: none !important; }` so we also need the `!important` here to be able to override the default hidden behavior on the sphinx rendered scikit-learn.org. See: https://github.com/scikit-learn/scikit-learn/issues/21755 */display: inline-block !important;position: relative;}#sk-container-id-2 div.sk-text-repr-fallback {display: none;}</style><div id=\"sk-container-id-2\" class=\"sk-top-container\"><div class=\"sk-text-repr-fallback\"><pre>KMeans(n_clusters=3)</pre><b>In a Jupyter environment, please rerun this cell to show the HTML representation or trust the notebook. <br />On GitHub, the HTML representation is unable to render, please try loading this page with nbviewer.org.</b></div><div class=\"sk-container\" hidden><div class=\"sk-item\"><div class=\"sk-estimator sk-toggleable\"><input class=\"sk-toggleable__control sk-hidden--visually\" id=\"sk-estimator-id-2\" type=\"checkbox\" checked><label for=\"sk-estimator-id-2\" class=\"sk-toggleable__label sk-toggleable__label-arrow\">KMeans</label><div class=\"sk-toggleable__content\"><pre>KMeans(n_clusters=3)</pre></div></div></div></div></div>"
      ],
      "text/plain": [
       "KMeans(n_clusters=3)"
      ]
     },
     "execution_count": 29,
     "metadata": {},
     "output_type": "execute_result"
    }
   ],
   "source": [
    "# Defining the number of clusters\n",
    "num_clusters = 3\n",
    "\n",
    "# Initializing the k-means clustering algorithm\n",
    "Nkmeans = KMeans(n_clusters=num_clusters)\n",
    "\n",
    "# Fitting the data to the algorithm\n",
    "Nkmeans.fit(NX_flat)"
   ]
  },
  {
   "cell_type": "code",
   "execution_count": 30,
   "id": "bfc9e18b",
   "metadata": {},
   "outputs": [
    {
     "name": "stdout",
     "output_type": "stream",
     "text": [
      "0.31288134543314644\n"
     ]
    }
   ],
   "source": [
    "# Getting the cluster labels assigned by k-means\n",
    "Ncluster_labels = Nkmeans.labels_\n",
    "\n",
    "# Calculating the ARI\n",
    "Nari = adjusted_rand_score(NY, Ncluster_labels)\n",
    "#print(Ncluster_labels)\n",
    "#print(NY)\n",
    "print(Nari)"
   ]
  },
  {
   "cell_type": "code",
   "execution_count": 31,
   "id": "2c56f17c",
   "metadata": {},
   "outputs": [
    {
     "data": {
      "image/png": "[encoded data removed]",
      "text/plain": [
       "<Figure size 1000x1000 with 15 Axes>"
      ]
     },
     "metadata": {},
     "output_type": "display_data"
    }
   ],
   "source": [
    "# Selecting a few random images from each cluster\n",
    "Ncluster_indices = [np.where(Ncluster_labels == i)[0] for i in range(num_clusters)]\n",
    "Nselected_indices = [indices[:5] for indices in Ncluster_indices]\n",
    "\n",
    "# Ploting the selected images\n",
    "plt.figure(figsize=(10, 10))\n",
    "for i, indices in enumerate(Nselected_indices):\n",
    "    for j, index in enumerate(indices):\n",
    "        plt.subplot(num_clusters, 5, i*5 + j + 1)\n",
    "        plt.imshow(NX[index], cmap='gray')\n",
    "        plt.axis('off')\n",
    "        plt.title(f'Cluster {i+1}')\n",
    "plt.tight_layout()\n",
    "plt.show()"
   ]
  },
  {
   "cell_type": "markdown",
   "id": "79ef5c64",
   "metadata": {},
   "source": [
    "###### Conclusion\n",
    "Both Noisy data and simple data shows same accuracy or ARI value which is 0.31. ARI value lies in a range of -1 to 1 with best value closer to 1. So 0.31 is closer. Also from data visualization we can see that Kmeans clustering algorithm works well with smiley dataset. It separates out all same kind of images in separate clusters."
   ]
  },
  {
   "cell_type": "markdown",
   "id": "2dc5d1bd",
   "metadata": {},
   "source": [
    "## For top marks: Different clustering algorithms"
   ]
  },
  {
   "cell_type": "markdown",
   "id": "6f34342f",
   "metadata": {},
   "source": [
    "### EM or GMM"
   ]
  },
  {
   "cell_type": "code",
   "execution_count": 32,
   "id": "f53472d2",
   "metadata": {},
   "outputs": [
    {
     "name": "stdout",
     "output_type": "stream",
     "text": [
      "0.14711429649188984\n"
     ]
    }
   ],
   "source": [
    "# Initializing the GMM model\n",
    "gmm = GaussianMixture(n_components=num_clusters)\n",
    "\n",
    "# Fitting the data to the GMM model\n",
    "gmm.fit(X_flat)\n",
    "\n",
    "# Getting the predicted cluster labels\n",
    "gmm_cluster_labels = gmm.predict(X_flat)\n",
    "\n",
    "GMM_ARI = adjusted_rand_score(Y, gmm_cluster_labels)\n",
    "print(GMM_ARI)"
   ]
  },
  {
   "cell_type": "markdown",
   "id": "860cffb1",
   "metadata": {},
   "source": [
    "Note: sklearn GMM implements EM algorithm. So this is same as EM"
   ]
  },
  {
   "cell_type": "markdown",
   "id": "8ae1c90b",
   "metadata": {},
   "source": [
    "### Hierarchical clustering"
   ]
  },
  {
   "cell_type": "code",
   "execution_count": 33,
   "id": "a4ba3ffa",
   "metadata": {},
   "outputs": [
    {
     "name": "stdout",
     "output_type": "stream",
     "text": [
      "0.31288134543314644\n"
     ]
    }
   ],
   "source": [
    "# Initializing the hierarchical clustering model\n",
    "hierarchical = AgglomerativeClustering(n_clusters=num_clusters)\n",
    "\n",
    "# Fitting the data to the hierarchical clustering model\n",
    "hierarchical.fit(X_flat)\n",
    "\n",
    "# Getting the predicted cluster labels\n",
    "hierarchical_cluster_labels = hierarchical.labels_\n",
    "\n",
    "hierarchical_ARI = adjusted_rand_score(Y, hierarchical_cluster_labels)\n",
    "print(hierarchical_ARI)"
   ]
  },
  {
   "cell_type": "markdown",
   "id": "48912c6f",
   "metadata": {},
   "source": [
    "### DBSCAN Clustering"
   ]
  },
  {
   "cell_type": "code",
   "execution_count": 34,
   "id": "b2bd6240",
   "metadata": {},
   "outputs": [
    {
     "name": "stdout",
     "output_type": "stream",
     "text": [
      "0.0\n"
     ]
    }
   ],
   "source": [
    "# Initializing the DBSCAN model\n",
    "dbscan = DBSCAN(eps=0.5, min_samples=5)\n",
    "\n",
    "# Fitting the data to the DBSCAN model\n",
    "dbscan.fit(X_flat)\n",
    "\n",
    "# Getting the predicted cluster labels (-1 indicates noise/outliers)\n",
    "dbscan_cluster_labels = dbscan.labels_\n",
    "\n",
    "dbscan_ARI = adjusted_rand_score(Y, dbscan_cluster_labels)\n",
    "print(dbscan_ARI)"
   ]
  },
  {
   "cell_type": "markdown",
   "id": "07108cae",
   "metadata": {},
   "source": [
    "### Mean shift"
   ]
  },
  {
   "cell_type": "code",
   "execution_count": 35,
   "id": "26bd4b83",
   "metadata": {},
   "outputs": [
    {
     "name": "stdout",
     "output_type": "stream",
     "text": [
      "0.0\n"
     ]
    }
   ],
   "source": [
    "# Initializing the Mean Shift model\n",
    "mean_shift = MeanShift()\n",
    "\n",
    "# Fitting the data to the Mean Shift model\n",
    "mean_shift.fit(X_flat)\n",
    "\n",
    "# Getting the predicted cluster labels\n",
    "mean_shift_cluster_labels = mean_shift.labels_\n",
    "\n",
    "mean_shift_ARI = adjusted_rand_score(Y, mean_shift_cluster_labels)\n",
    "print(mean_shift_ARI)"
   ]
  },
  {
   "cell_type": "markdown",
   "id": "ccf86b03",
   "metadata": {},
   "source": [
    "### Spectral Clustering"
   ]
  },
  {
   "cell_type": "code",
   "execution_count": 36,
   "id": "a5d1e588",
   "metadata": {},
   "outputs": [
    {
     "name": "stdout",
     "output_type": "stream",
     "text": [
      "0.31288134543314644\n"
     ]
    }
   ],
   "source": [
    "# Initializing the Spectral Clustering model\n",
    "spectral = SpectralClustering(n_clusters=num_clusters)\n",
    "\n",
    "# Fit the data to the Spectral Clustering model\n",
    "spectral.fit(X_flat)\n",
    "\n",
    "# Getting the predicted cluster labels\n",
    "spectral_cluster_labels = spectral.labels_\n",
    "\n",
    "spectral_ARI = adjusted_rand_score(Y, spectral_cluster_labels)\n",
    "print(spectral_ARI)"
   ]
  },
  {
   "cell_type": "markdown",
   "id": "2b05ac35",
   "metadata": {},
   "source": [
    "### Affinity Propagation"
   ]
  },
  {
   "cell_type": "code",
   "execution_count": 37,
   "id": "9b11bc57",
   "metadata": {},
   "outputs": [
    {
     "name": "stdout",
     "output_type": "stream",
     "text": [
      "0.11530408971055396\n"
     ]
    }
   ],
   "source": [
    "# Initializing the Affinity Propagation model\n",
    "affinity_propagation = AffinityPropagation()\n",
    "\n",
    "# Fitting the data to the Affinity Propagation model\n",
    "affinity_propagation.fit(X_flat)\n",
    "\n",
    "# Getting the predicted cluster labels\n",
    "affinity_propagation_cluster_labels = affinity_propagation.labels_\n",
    "\n",
    "affinity_propagation_ARI = adjusted_rand_score(Y, affinity_propagation_cluster_labels)\n",
    "print(affinity_propagation_ARI)"
   ]
  },
  {
   "cell_type": "markdown",
   "id": "9d3c8d96",
   "metadata": {},
   "source": [
    "##### Comparison\n",
    "1. EM and GMM clustering algorithm shows different accuracy result at running every time with highest as Kmeans which is 0.31.\n",
    "2. Hierarchical and Spectral clustering showed highest ARI value as Kmeans.\n",
    "3. DBSCAN and mean shift clustering algorithms showed 0.0 ARI value. That means these two clustering algorithms doesn't work well with this dataset.\n",
    "4. Affinity algorithm also showed randomness with no value higher than 0.15."
   ]
  },
  {
   "cell_type": "markdown",
   "id": "07dd8ddf",
   "metadata": {},
   "source": [
    "## Different number of Clusters"
   ]
  },
  {
   "cell_type": "markdown",
   "id": "df5ab355",
   "metadata": {},
   "source": [
    "For this part of question we will select that clustering algorithms that showed maximum accuracy. Like Kmeans, Hierarchical clustering, and Spectral clustering."
   ]
  },
  {
   "cell_type": "markdown",
   "id": "6ba463e4",
   "metadata": {},
   "source": [
    "We will try to find 2, 4, 5, and 6 clusters of data. We already have seen results of 3 clusters of data."
   ]
  },
  {
   "cell_type": "markdown",
   "id": "df1b088b",
   "metadata": {},
   "source": [
    "#### 2 clusters."
   ]
  },
  {
   "cell_type": "code",
   "execution_count": 38,
   "id": "b1950508",
   "metadata": {},
   "outputs": [],
   "source": [
    "# Defining the number of clusters\n",
    "num_clusters = 2"
   ]
  },
  {
   "cell_type": "markdown",
   "id": "61ba820b",
   "metadata": {},
   "source": [
    "##### Kmeans"
   ]
  },
  {
   "cell_type": "code",
   "execution_count": 39,
   "id": "aab8dd9c",
   "metadata": {},
   "outputs": [
    {
     "name": "stdout",
     "output_type": "stream",
     "text": [
      "0.338218021142122\n"
     ]
    }
   ],
   "source": [
    "# Initializing the k-means clustering algorithm\n",
    "kmeans = KMeans(n_clusters=num_clusters)\n",
    "\n",
    "# Fitting the data to the algorithm\n",
    "kmeans.fit(X_flat)\n",
    "\n",
    "# Getting the cluster labels assigned by k-means\n",
    "cluster_labels = kmeans.labels_\n",
    "\n",
    "# Calculating the ARI\n",
    "ari = adjusted_rand_score(Y, cluster_labels)\n",
    "\n",
    "print(ari)"
   ]
  },
  {
   "cell_type": "markdown",
   "id": "e202f99a",
   "metadata": {},
   "source": [
    "##### Hierarchical"
   ]
  },
  {
   "cell_type": "code",
   "execution_count": 40,
   "id": "9d764315",
   "metadata": {},
   "outputs": [
    {
     "name": "stdout",
     "output_type": "stream",
     "text": [
      "0.0900497790704178\n"
     ]
    }
   ],
   "source": [
    "# Initializing the hierarchical clustering model\n",
    "hierarchical = AgglomerativeClustering(n_clusters=num_clusters)\n",
    "\n",
    "# Fitting the data to the hierarchical clustering model\n",
    "hierarchical.fit(X_flat)\n",
    "\n",
    "# Getting the predicted cluster labels\n",
    "hierarchical_cluster_labels = hierarchical.labels_\n",
    "\n",
    "hierarchical_ARI = adjusted_rand_score(Y, hierarchical_cluster_labels)\n",
    "print(hierarchical_ARI)"
   ]
  },
  {
   "cell_type": "markdown",
   "id": "ad778128",
   "metadata": {},
   "source": [
    "##### Spectral"
   ]
  },
  {
   "cell_type": "code",
   "execution_count": 41,
   "id": "a7f3d4e7",
   "metadata": {},
   "outputs": [
    {
     "name": "stdout",
     "output_type": "stream",
     "text": [
      "0.12108156291784282\n"
     ]
    }
   ],
   "source": [
    "# Initializing the Spectral Clustering model\n",
    "spectral = SpectralClustering(n_clusters=num_clusters)\n",
    "\n",
    "# Fitting the data to the Spectral Clustering model\n",
    "spectral.fit(X_flat)\n",
    "\n",
    "# Getting the predicted cluster labels\n",
    "spectral_cluster_labels = spectral.labels_\n",
    "\n",
    "spectral_ARI = adjusted_rand_score(Y, spectral_cluster_labels)\n",
    "print(spectral_ARI)"
   ]
  },
  {
   "cell_type": "markdown",
   "id": "375f9dea",
   "metadata": {},
   "source": [
    "#### 4 clusters"
   ]
  },
  {
   "cell_type": "code",
   "execution_count": 42,
   "id": "b5562fe7",
   "metadata": {},
   "outputs": [],
   "source": [
    "# Define the number of clusters\n",
    "num_clusters = 4"
   ]
  },
  {
   "cell_type": "markdown",
   "id": "1edf9aa7",
   "metadata": {},
   "source": [
    "##### Kmeans"
   ]
  },
  {
   "cell_type": "code",
   "execution_count": 43,
   "id": "c9e370f4",
   "metadata": {},
   "outputs": [
    {
     "name": "stdout",
     "output_type": "stream",
     "text": [
      "0.24362172925633863\n"
     ]
    }
   ],
   "source": [
    "# Initializing the k-means clustering algorithm\n",
    "kmeans = KMeans(n_clusters=num_clusters)\n",
    "\n",
    "# Fitting the data to the algorithm\n",
    "kmeans.fit(X_flat)\n",
    "\n",
    "# Getting the cluster labels assigned by k-means\n",
    "cluster_labels = kmeans.labels_\n",
    "\n",
    "# Calculating the ARI\n",
    "ari = adjusted_rand_score(Y, cluster_labels)\n",
    "\n",
    "print(ari)"
   ]
  },
  {
   "cell_type": "markdown",
   "id": "4c1ff74c",
   "metadata": {},
   "source": [
    "##### Hierarchical"
   ]
  },
  {
   "cell_type": "code",
   "execution_count": 44,
   "id": "e91d9ac1",
   "metadata": {},
   "outputs": [
    {
     "name": "stdout",
     "output_type": "stream",
     "text": [
      "0.24362172925633863\n"
     ]
    }
   ],
   "source": [
    "# Initializing the hierarchical clustering model\n",
    "hierarchical = AgglomerativeClustering(n_clusters=num_clusters)\n",
    "\n",
    "# Fitting the data to the hierarchical clustering model\n",
    "hierarchical.fit(X_flat)\n",
    "\n",
    "# Getting the predicted cluster labels\n",
    "hierarchical_cluster_labels = hierarchical.labels_\n",
    "\n",
    "hierarchical_ARI = adjusted_rand_score(Y, hierarchical_cluster_labels)\n",
    "print(hierarchical_ARI)"
   ]
  },
  {
   "cell_type": "markdown",
   "id": "c9a86b24",
   "metadata": {},
   "source": [
    "##### Spectral"
   ]
  },
  {
   "cell_type": "code",
   "execution_count": 45,
   "id": "e237863d",
   "metadata": {},
   "outputs": [
    {
     "name": "stdout",
     "output_type": "stream",
     "text": [
      "0.24362172925633863\n"
     ]
    }
   ],
   "source": [
    "# Initializing the Spectral Clustering model\n",
    "spectral = SpectralClustering(n_clusters=num_clusters)\n",
    "\n",
    "# Fitting the data to the Spectral Clustering model\n",
    "spectral.fit(X_flat)\n",
    "\n",
    "# Getting the predicted cluster labels\n",
    "spectral_cluster_labels = spectral.labels_\n",
    "\n",
    "spectral_ARI = adjusted_rand_score(Y, spectral_cluster_labels)\n",
    "print(spectral_ARI)"
   ]
  },
  {
   "cell_type": "markdown",
   "id": "21e9ae34",
   "metadata": {},
   "source": [
    "#### 5 clusters"
   ]
  },
  {
   "cell_type": "code",
   "execution_count": 46,
   "id": "e30768b6",
   "metadata": {},
   "outputs": [],
   "source": [
    "# Defining the number of clusters\n",
    "num_clusters = 5"
   ]
  },
  {
   "cell_type": "markdown",
   "id": "bb8151b7",
   "metadata": {},
   "source": [
    "##### Kmeans"
   ]
  },
  {
   "cell_type": "code",
   "execution_count": 47,
   "id": "65e62d4e",
   "metadata": {},
   "outputs": [
    {
     "name": "stdout",
     "output_type": "stream",
     "text": [
      "0.2515795409090252\n"
     ]
    }
   ],
   "source": [
    "# Initializing the k-means clustering algorithm\n",
    "kmeans = KMeans(n_clusters=num_clusters)\n",
    "\n",
    "# Fitting the data to the algorithm\n",
    "kmeans.fit(X_flat)\n",
    "\n",
    "# Getting the cluster labels assigned by k-means\n",
    "cluster_labels = kmeans.labels_\n",
    "\n",
    "# Calculating the ARI\n",
    "ari = adjusted_rand_score(Y, cluster_labels)\n",
    "\n",
    "print(ari)"
   ]
  },
  {
   "cell_type": "markdown",
   "id": "1f53ee60",
   "metadata": {},
   "source": [
    "##### Hierarchical"
   ]
  },
  {
   "cell_type": "code",
   "execution_count": 48,
   "id": "ebfdbab3",
   "metadata": {},
   "outputs": [
    {
     "name": "stdout",
     "output_type": "stream",
     "text": [
      "0.2515795409090252\n"
     ]
    }
   ],
   "source": [
    "# Initializing the hierarchical clustering model\n",
    "hierarchical = AgglomerativeClustering(n_clusters=num_clusters)\n",
    "\n",
    "# Fitting the data to the hierarchical clustering model\n",
    "hierarchical.fit(X_flat)\n",
    "\n",
    "# Getting the predicted cluster labels\n",
    "hierarchical_cluster_labels = hierarchical.labels_\n",
    "\n",
    "hierarchical_ARI = adjusted_rand_score(Y, hierarchical_cluster_labels)\n",
    "print(hierarchical_ARI)"
   ]
  },
  {
   "cell_type": "markdown",
   "id": "ce41a344",
   "metadata": {},
   "source": [
    "##### Spectral"
   ]
  },
  {
   "cell_type": "code",
   "execution_count": 49,
   "id": "e70a730b",
   "metadata": {},
   "outputs": [
    {
     "name": "stdout",
     "output_type": "stream",
     "text": [
      "0.20283323512080143\n"
     ]
    }
   ],
   "source": [
    "# Initializing the Spectral Clustering model\n",
    "spectral = SpectralClustering(n_clusters=num_clusters)\n",
    "\n",
    "# Fitting the data to the Spectral Clustering model\n",
    "spectral.fit(X_flat)\n",
    "\n",
    "# Getting the predicted cluster labels\n",
    "spectral_cluster_labels = spectral.labels_\n",
    "\n",
    "spectral_ARI = adjusted_rand_score(Y, spectral_cluster_labels)\n",
    "print(spectral_ARI)"
   ]
  },
  {
   "cell_type": "markdown",
   "id": "4a2fbaa3",
   "metadata": {},
   "source": [
    "#### 6 Clusters"
   ]
  },
  {
   "cell_type": "code",
   "execution_count": 50,
   "id": "f899fa01",
   "metadata": {},
   "outputs": [],
   "source": [
    "# Defining the number of clusters\n",
    "num_clusters = 6"
   ]
  },
  {
   "cell_type": "markdown",
   "id": "47b33925",
   "metadata": {},
   "source": [
    "##### Kmeans"
   ]
  },
  {
   "cell_type": "code",
   "execution_count": 51,
   "id": "5043af39",
   "metadata": {},
   "outputs": [
    {
     "name": "stdout",
     "output_type": "stream",
     "text": [
      "0.3130655805478571\n"
     ]
    }
   ],
   "source": [
    "# Initializing the k-means clustering algorithm\n",
    "kmeans = KMeans(n_clusters=num_clusters)\n",
    "\n",
    "# Fitting the data to the algorithm\n",
    "kmeans.fit(X_flat)\n",
    "\n",
    "# Getting the cluster labels assigned by k-means\n",
    "cluster_labels = kmeans.labels_\n",
    "\n",
    "# Calculating the ARI\n",
    "ari = adjusted_rand_score(Y, cluster_labels)\n",
    "\n",
    "print(ari)"
   ]
  },
  {
   "cell_type": "markdown",
   "id": "50961d3d",
   "metadata": {},
   "source": [
    "##### Hierarchical"
   ]
  },
  {
   "cell_type": "code",
   "execution_count": 52,
   "id": "3bc900c8",
   "metadata": {},
   "outputs": [
    {
     "name": "stdout",
     "output_type": "stream",
     "text": [
      "0.3130655805478571\n"
     ]
    }
   ],
   "source": [
    "# Initializing the hierarchical clustering model\n",
    "hierarchical = AgglomerativeClustering(n_clusters=num_clusters)\n",
    "\n",
    "# Fitting the data to the hierarchical clustering model\n",
    "hierarchical.fit(X_flat)\n",
    "\n",
    "# Getting the predicted cluster labels\n",
    "hierarchical_cluster_labels = hierarchical.labels_\n",
    "\n",
    "hierarchical_ARI = adjusted_rand_score(Y, hierarchical_cluster_labels)\n",
    "print(hierarchical_ARI)"
   ]
  },
  {
   "cell_type": "markdown",
   "id": "2947a6dc",
   "metadata": {},
   "source": [
    "##### Spectral"
   ]
  },
  {
   "cell_type": "code",
   "execution_count": 53,
   "id": "f38308fd",
   "metadata": {},
   "outputs": [
    {
     "name": "stdout",
     "output_type": "stream",
     "text": [
      "0.20950078710224532\n"
     ]
    }
   ],
   "source": [
    "# Initializing the Spectral Clustering model\n",
    "spectral = SpectralClustering(n_clusters=num_clusters)\n",
    "\n",
    "# Fitting the data to the Spectral Clustering model\n",
    "spectral.fit(X_flat)\n",
    "\n",
    "# Getting the predicted cluster labels\n",
    "spectral_cluster_labels = spectral.labels_\n",
    "\n",
    "spectral_ARI = adjusted_rand_score(Y, spectral_cluster_labels)\n",
    "print(spectral_ARI)"
   ]
  },
  {
   "cell_type": "markdown",
   "id": "da02a0cb",
   "metadata": {},
   "source": [
    "##### Critical analysis.\n",
    "All of three clustering algorithms show different accuracy on different number of clusters. Heirarchical and Kmeans show same accuracy with respect to each other. But spectral behaved a little bit different. When we made two clusters of data, heirarchical and kmeans show 0.09 accuracy which is very low. But at the same number of clusters spectral show 0.12 which is a little bit higher. By increasing number of clusters the accuracy also increased but All algorithms showed maximum accuracy when we generate 3 cluster. Therefore, if we generate number of clusters as the number of classes of data it shows maximum accuracy. One more interesting thing 2 of 3 algoithms (Kmeans & heirarchical) showed maximum accuracy when we made 6 clusters which is multiple of 3.\n",
    "Above analysis shows that Kmeans is one of the best algorithm amongst all other. This analysis also shows that if you made number of cluster exactly same as number of classes in the data then it works well. If you made clusters as multiple of number of classes of dataset then it works well too."
   ]
  },
  {
   "cell_type": "markdown",
   "id": "8eb61faf",
   "metadata": {},
   "source": [
    "### Elbow and silhouette methods"
   ]
  },
  {
   "cell_type": "markdown",
   "id": "fadcb631",
   "metadata": {},
   "source": [
    "#### Elbow method"
   ]
  },
  {
   "cell_type": "code",
   "execution_count": 54,
   "id": "35542b91",
   "metadata": {},
   "outputs": [
    {
     "data": {
      "image/png": "[encoded data removed]",
      "text/plain": [
       "<Figure size 800x600 with 1 Axes>"
      ]
     },
     "metadata": {},
     "output_type": "display_data"
    }
   ],
   "source": [
    "inertias = []\n",
    "for k in range(1, 11):\n",
    "    kmeans = KMeans(n_clusters=k)\n",
    "    kmeans.fit(X_flat)\n",
    "    inertias.append(kmeans.inertia_)\n",
    "    \n",
    "plt.figure(figsize=(8, 6))\n",
    "plt.plot(range(1, 11), inertias, marker='o')\n",
    "plt.xlabel('Number of Clusters (k)')\n",
    "plt.ylabel('Within-Cluster Sum of Squares (Inertia)')\n",
    "plt.title('Elbow Method for Optimal k')\n",
    "plt.show()"
   ]
  },
  {
   "cell_type": "markdown",
   "id": "36e4a7fd",
   "metadata": {},
   "source": [
    "#### Silhouette method"
   ]
  },
  {
   "cell_type": "markdown",
   "id": "040cd8d3",
   "metadata": {},
   "source": [
    "##### Kmeans algorithm"
   ]
  },
  {
   "cell_type": "code",
   "execution_count": 55,
   "id": "c6ddd0eb",
   "metadata": {},
   "outputs": [
    {
     "data": {
      "image/png": "[encoded data removed]",
      "text/plain": [
       "<Figure size 800x600 with 1 Axes>"
      ]
     },
     "metadata": {},
     "output_type": "display_data"
    }
   ],
   "source": [
    "silhouette_scores = []\n",
    "for k in range(2, 11):\n",
    "    kmeans = KMeans(n_clusters=k)\n",
    "    kmeans.fit(X_flat)\n",
    "    cluster_labels = kmeans.labels_\n",
    "    silhouette_scores.append(silhouette_score(X_flat, cluster_labels))\n",
    "\n",
    "# Ploting the silhouette scores\n",
    "plt.figure(figsize=(8, 6))\n",
    "plt.plot(range(2, 11), silhouette_scores, marker='o')\n",
    "plt.xlabel('Number of Clusters (k)')\n",
    "plt.ylabel('Silhouette Score')\n",
    "plt.title('Silhouette Method for Optimal k')\n",
    "plt.show()"
   ]
  },
  {
   "cell_type": "markdown",
   "id": "849b68ef",
   "metadata": {},
   "source": [
    "##### Hierarchical"
   ]
  },
  {
   "cell_type": "code",
   "execution_count": 56,
   "id": "c3de6e67",
   "metadata": {},
   "outputs": [
    {
     "data": {
      "image/png": "[encoded data removed]",
      "text/plain": [
       "<Figure size 800x600 with 1 Axes>"
      ]
     },
     "metadata": {},
     "output_type": "display_data"
    }
   ],
   "source": [
    "silhouette_scores = []\n",
    "for k in range(2, 11):\n",
    "    hierarchical = AgglomerativeClustering(n_clusters=k)\n",
    "    hierarchical.fit(X_flat)\n",
    "    cluster_labels = hierarchical.labels_\n",
    "    silhouette_scores.append(silhouette_score(X_flat, cluster_labels))\n",
    "\n",
    "# Ploting the silhouette scores\n",
    "plt.figure(figsize=(8, 6))\n",
    "plt.plot(range(2, 11), silhouette_scores, marker='o')\n",
    "plt.xlabel('Number of Clusters (k)')\n",
    "plt.ylabel('Silhouette Score')\n",
    "plt.title('Silhouette Method for Optimal k')\n",
    "plt.show()"
   ]
  },
  {
   "cell_type": "markdown",
   "id": "d12a8cd5",
   "metadata": {},
   "source": [
    "##### Spectral"
   ]
  },
  {
   "cell_type": "code",
   "execution_count": 57,
   "id": "db91ee07",
   "metadata": {},
   "outputs": [
    {
     "data": {
      "image/png": "[encoded data removed]",
      "text/plain": [
       "<Figure size 800x600 with 1 Axes>"
      ]
     },
     "metadata": {},
     "output_type": "display_data"
    }
   ],
   "source": [
    "silhouette_scores = []\n",
    "for k in range(2, 11):\n",
    "    Spectral = SpectralClustering(n_clusters=k)\n",
    "    Spectral.fit(X_flat)\n",
    "    cluster_labels = Spectral.labels_\n",
    "    silhouette_scores.append(silhouette_score(X_flat, cluster_labels))\n",
    "\n",
    "# Ploting the silhouette scores\n",
    "plt.figure(figsize=(8, 6))\n",
    "plt.plot(range(2, 11), silhouette_scores, marker='o')\n",
    "plt.xlabel('Number of Clusters (k)')\n",
    "plt.ylabel('Silhouette Score')\n",
    "plt.title('Silhouette Method for Optimal k')\n",
    "plt.show()"
   ]
  },
  {
   "cell_type": "markdown",
   "id": "26ee69d4",
   "metadata": {},
   "source": [
    "#### Conclusion"
   ]
  },
  {
   "cell_type": "markdown",
   "id": "90909f62",
   "metadata": {},
   "source": [
    "Elbow doesn't give any proper information. But Curve slows down after 7. So, it gives optimal solution 7. Silhouette method shows a highest value at 7 on three different clustering algorithms, which means 7 clusters are optimal solution. But when we made two clusters, spectral algorithm worked well as compared to Kmeans and hierarchical. On other all numbers Kmeans and hierarchical worked same and best. Overall KMeans algorithm is best amongst all."
   ]
  },
  {
   "cell_type": "markdown",
   "id": "81721376",
   "metadata": {},
   "source": [
    "###### Comparing results with Bayesian Classification\n",
    "In the first question we observed application of bayesian classifier. We saw that it gives 72% accuracy on entire data and 82% accuracy for most correlating features. Same way in clustering when we set number of clusters 3 and 6, it gives best adjusted rand score which is 0.31. So, this data fits best with both supervised (bayesian) learning and non-supervised (clustering) learning. "
   ]
  },
  {
   "cell_type": "markdown",
   "id": "d926008f",
   "metadata": {},
   "source": [
    "# Question 3"
   ]
  },
  {
   "cell_type": "markdown",
   "id": "1d0074fd",
   "metadata": {},
   "source": [
    "## Simple data"
   ]
  },
  {
   "cell_type": "markdown",
   "id": "71de3ed5",
   "metadata": {},
   "source": [
    "Here we used sklearn built-in decision tree classifier which implements cart algorithm. Cart is same as C4.5/J48. The only difference between cart and C4.5 is the cart only work with numeric target values. Our data already have numerical targets. So, sklearn classifier fit the requirement."
   ]
  },
  {
   "cell_type": "markdown",
   "id": "d6e49dc0",
   "metadata": {},
   "source": [
    "### 10 Fold cross-validation"
   ]
  },
  {
   "cell_type": "code",
   "execution_count": 58,
   "id": "f6bfdaa5",
   "metadata": {},
   "outputs": [
    {
     "name": "stdout",
     "output_type": "stream",
     "text": [
      "[[71  0  1]\n",
      " [ 1 59  0]\n",
      " [ 1  1 70]]\n",
      "Accuracy on 10-fold cross-validation: 0.9804\n",
      "10-Fold Cross-Validation Accuracy: 0.9804\n",
      "10-Fold Cross-Validation TP Rate: 0.9806\n",
      "10-Fold Cross-Validation Precision: 0.9806\n",
      "10-Fold Cross-Validation Recall: 0.9806\n",
      "10-Fold Cross-Validation F Measure: 0.9806\n"
     ]
    }
   ],
   "source": [
    "# Creating a test set\n",
    "X_train, X_test, y_train, y_test = train_test_split(X_flat, Y, test_size=0.12, random_state=42)\n",
    "\n",
    "# Training the Decision Tree classifier\n",
    "dt_classifier = DecisionTreeClassifier(criterion='entropy', random_state=42)\n",
    "dt_classifier.fit(X_train, y_train)\n",
    "\n",
    "# Performing 10-fold cross-validation\n",
    "y_pred_cv = cross_val_predict(dt_classifier, X_flat, Y, cv=10)\n",
    "\n",
    "# Calculating metrics\n",
    "accuracy_cv = accuracy_score(Y, y_pred_cv)\n",
    "\n",
    "# Confusion matrix\n",
    "conf_matrix = confusion_matrix(Y, y_pred_cv)\n",
    "\n",
    "\n",
    "print(conf_matrix)\n",
    "print(f\"Accuracy on 10-fold cross-validation: {accuracy_cv:.4f}\")\n",
    "\n",
    "# Evaluation metrics using the predictions from cross_val_predict\n",
    "cv_accuracy = accuracy_score(Y, y_pred_cv)\n",
    "cv_tp_rate = recall_score(Y, y_pred_cv, average='macro')\n",
    "cv_precision = precision_score(Y, y_pred_cv, average='macro')\n",
    "cv_recall = recall_score(Y, y_pred_cv, average='macro')\n",
    "cv_f_measure = f1_score(Y, y_pred_cv, average='macro')\n",
    "\n",
    "# Findings and display them\n",
    "print(f'10-Fold Cross-Validation Accuracy: {cv_accuracy:.4f}')\n",
    "print(f'10-Fold Cross-Validation TP Rate: {cv_tp_rate:.4f}')\n",
    "print(f'10-Fold Cross-Validation Precision: {cv_precision:.4f}')\n",
    "print(f'10-Fold Cross-Validation Recall: {cv_recall:.4f}')\n",
    "print(f'10-Fold Cross-Validation F Measure: {cv_f_measure:.4f}')"
   ]
  },
  {
   "cell_type": "markdown",
   "id": "3ca82988",
   "metadata": {},
   "source": [
    "### Test data validation"
   ]
  },
  {
   "cell_type": "code",
   "execution_count": 59,
   "id": "acefd647",
   "metadata": {},
   "outputs": [
    {
     "name": "stdout",
     "output_type": "stream",
     "text": [
      "Accuracy on the test set: 1.0000\n"
     ]
    }
   ],
   "source": [
    "# Training the Decision Tree classifier\n",
    "dt_classifier = DecisionTreeClassifier(criterion='entropy', random_state=42)\n",
    "dt_classifier.fit(X_train, y_train)\n",
    "\n",
    "# Predicting on the test set\n",
    "y_pred_test = dt_classifier.predict(X_test)\n",
    "\n",
    "# Measuring the accuracy on the test set\n",
    "accuracy_test = accuracy_score(y_test, y_pred_test)\n",
    "print(f\"Accuracy on the test set: {accuracy_test:.4f}\")"
   ]
  },
  {
   "cell_type": "markdown",
   "id": "1c4be744",
   "metadata": {},
   "source": [
    "Simple dataset showed and amazing accuracy which is 100%. So this classifier generalizes to unseen/new data very well. Whatever it predicted on test data is 100 matching with targets."
   ]
  },
  {
   "cell_type": "markdown",
   "id": "82c1243a",
   "metadata": {},
   "source": [
    "## Noisy Data"
   ]
  },
  {
   "cell_type": "markdown",
   "id": "0be7df25",
   "metadata": {},
   "source": [
    "### 10 Fold cross-validation"
   ]
  },
  {
   "cell_type": "code",
   "execution_count": 60,
   "id": "2c2a5153",
   "metadata": {},
   "outputs": [
    {
     "name": "stdout",
     "output_type": "stream",
     "text": [
      "[[72  0  0]\n",
      " [ 2 58  0]\n",
      " [ 1  0 71]]\n",
      "Accuracy on 10-fold cross-validation: 0.9853\n",
      "10-Fold Cross-Validation Accuracy: 0.9853\n",
      "10-Fold Cross-Validation TP Rate: 0.9843\n",
      "10-Fold Cross-Validation Precision: 0.9867\n",
      "10-Fold Cross-Validation Recall: 0.9843\n",
      "10-Fold Cross-Validation F Measure: 0.9852\n"
     ]
    }
   ],
   "source": [
    "# Spliting the noisy dataset into training and testing sets\n",
    "NX_train, NX_test, Ny_train, Ny_test = train_test_split(NX_flat, NY, test_size=0.12, random_state=42)\n",
    "\n",
    "# Training the Decision Tree classifier\n",
    "dt_classifier = DecisionTreeClassifier(criterion='entropy', random_state=42)\n",
    "dt_classifier.fit(NX_train, Ny_train)\n",
    "\n",
    "# Performing 10-fold cross-validation\n",
    "Ny_pred_cv = cross_val_predict(dt_classifier, NX_flat, NY, cv=10)\n",
    "\n",
    "# Calculating metrics\n",
    "accuracy_cv = accuracy_score(NY, Ny_pred_cv)\n",
    "\n",
    "# Confusion matrix\n",
    "conf_matrix = confusion_matrix(NY, Ny_pred_cv)\n",
    "\n",
    "\n",
    "print(conf_matrix)\n",
    "print(f\"Accuracy on 10-fold cross-validation: {accuracy_cv:.4f}\")\n",
    "\n",
    "# Evaluation metrics using the predictions from cross_val_predict\n",
    "Ncv_accuracy = accuracy_score(NY, Ny_pred_cv)\n",
    "Ncv_tp_rate = recall_score(NY, Ny_pred_cv, average='macro')\n",
    "Ncv_precision = precision_score(NY, Ny_pred_cv, average='macro')\n",
    "Ncv_recall = recall_score(NY, Ny_pred_cv, average='macro')\n",
    "Ncv_f_measure = f1_score(NY, Ny_pred_cv, average='macro')\n",
    "\n",
    "# Findings and display them\n",
    "print(f'10-Fold Cross-Validation Accuracy: {Ncv_accuracy:.4f}')\n",
    "print(f'10-Fold Cross-Validation TP Rate: {Ncv_tp_rate:.4f}')\n",
    "print(f'10-Fold Cross-Validation Precision: {Ncv_precision:.4f}')\n",
    "print(f'10-Fold Cross-Validation Recall: {Ncv_recall:.4f}')\n",
    "print(f'10-Fold Cross-Validation F Measure: {Ncv_f_measure:.4f}')"
   ]
  },
  {
   "cell_type": "markdown",
   "id": "af41669a",
   "metadata": {},
   "source": [
    "10 fold cross validation on <b>noisy</b> data shows 98% accuracy. Accuracy and results of other matrics show that overall model fits very well with noisy data too."
   ]
  },
  {
   "cell_type": "markdown",
   "id": "ea8254a5",
   "metadata": {},
   "source": [
    "### Test data validation"
   ]
  },
  {
   "cell_type": "code",
   "execution_count": 61,
   "id": "31555794",
   "metadata": {},
   "outputs": [
    {
     "name": "stdout",
     "output_type": "stream",
     "text": [
      "Accuracy on the test set: 1.0000\n"
     ]
    }
   ],
   "source": [
    "# Training the Decision Tree classifier\n",
    "dt_classifier = DecisionTreeClassifier(criterion='entropy', random_state=42)\n",
    "dt_classifier.fit(NX_train, Ny_train)\n",
    "\n",
    "# Predicting on the test set\n",
    "Ny_pred_test = dt_classifier.predict(NX_test)\n",
    "\n",
    "# Measuring accuracy on the test set\n",
    "accuracy_test = accuracy_score(Ny_test, Ny_pred_test)\n",
    "print(f\"Accuracy on the test set: {accuracy_test:.4f}\")"
   ]
  },
  {
   "cell_type": "markdown",
   "id": "19ec88eb",
   "metadata": {},
   "source": [
    "Noisy dataset also showed 100 accuracy when it is tested with new/unseen data. So this classifier generalize well to unseen/new noisy data."
   ]
  },
  {
   "cell_type": "code",
   "execution_count": 62,
   "id": "4d65f099",
   "metadata": {},
   "outputs": [
    {
     "name": "stdout",
     "output_type": "stream",
     "text": [
      "Accuracy on the test set: 1.0000\n"
     ]
    }
   ],
   "source": [
    "dt_classifier = DecisionTreeClassifier(\n",
    "                        max_depth=7,\n",
    "                        min_samples_split=10,\n",
    "                        min_samples_leaf=9,\n",
    "                        criterion='entropy',\n",
    "                        ccp_alpha=0.1\n",
    "                    )\n",
    "dt_classifier.fit(X_train, y_train)\n",
    "\n",
    "# Predicting on the test set\n",
    "y_pred_test = dt_classifier.predict(X_test)\n",
    "\n",
    "# Measuring accuracy on the test set\n",
    "accuracy_test = accuracy_score(y_test, y_pred_test)\n",
    "print(f\"Accuracy on the test set: {accuracy_test:.4f}\")"
   ]
  },
  {
   "cell_type": "markdown",
   "id": "e938c6a2",
   "metadata": {},
   "source": [
    "We changed all hyper-parameters in DecisionTreeClassifier manually.\n",
    "1. We found that changing <b>max_depth</b> (<u><i>depth of tree</i></u>) value really effects the accuracy of decision tree on our image dataset. The higher the value of max_depth, the higher it shows the accuracy. On smaller max_depth values the tree faces the issues of learning some required details and it ignores the important details while learning. Therefore setting it a little bit higher makes the decision tree able to learn every required detail accurately.\n",
    "2. Changing <b>min_samples_split</b> doesn't change the performance of decision tree when trained and tested with smiley data. But setting really higher value like more than 65 really effects the performance of decision tree. So this shows that smiley data doesn't have some rare features. Oherwise smaller values of min_samples_split can cause overfitting by creating small nodes for rare features. But setting very high value also leads to low accuracy which means decision tree doesn't learn data pattern well.\n",
    "3. Changing <b>min_samples_leaf</b> (<u><i>minimal number of instances permissible per leaf</i></u>) of decision tree, it shows 100% accuracy until this value set to 9. At 10 accuracy starts reducing. This shows that each leaf can represent 9 number of samples with 100% accuracy. \n",
    "4. Setting <b>criterion</b> (<u><i>Splitting criteria</i></u>) to '<i>entropy</i>' showed more accuracy than <i>gini</i>, which means <i>entropy</i> spliting criteria works well with smiley data.\n",
    "5. <b>ccp_alpha</b> (<u><i>confidence threshold for pruning</i></u>) showed 100% accuracy until its value set to 0.1. Accuracy reduces on higher values. Actually, ccp_alpha is the value for removing unwanted features (that don't contribute in learning) from data. So, higher value of cpp_alpha is good to make less featured simpler tree. But setting more higher value can lead to aggressive pruning and overfitting, which means it removes even that features that contributes in decision tree learining. "
   ]
  },
  {
   "cell_type": "markdown",
   "id": "6057b8da",
   "metadata": {},
   "source": [
    "## For top marks: Moving training data into testing data"
   ]
  },
  {
   "cell_type": "markdown",
   "id": "33f0f9cd",
   "metadata": {},
   "source": [
    "##### Moving 30% training set into testing set"
   ]
  },
  {
   "cell_type": "code",
   "execution_count": 63,
   "id": "50e68586",
   "metadata": {},
   "outputs": [
    {
     "name": "stdout",
     "output_type": "stream",
     "text": [
      "Accuracy on the test set: 0.9516\n"
     ]
    }
   ],
   "source": [
    "# Spliting the dataset into training and testing sets\n",
    "X_train30, X_test30, y_train30, y_test30 = train_test_split(X_flat, Y, test_size=0.30, random_state=42)\n",
    "\n",
    "# Training the Decision Tree classifier\n",
    "dt_classifier30 = DecisionTreeClassifier(criterion='entropy', random_state=42)\n",
    "dt_classifier30.fit(X_train30, y_train30)\n",
    "\n",
    "# Predicting on the test set\n",
    "y_pred_test30 = dt_classifier30.predict(X_test30)\n",
    "\n",
    "# Measuring accuracy on the test set\n",
    "accuracy_test30 = accuracy_score(y_test30, y_pred_test30)\n",
    "print(f\"Accuracy on the test set: {accuracy_test30:.4f}\")"
   ]
  },
  {
   "cell_type": "markdown",
   "id": "0a50135e",
   "metadata": {},
   "source": [
    "##### Moving 60% training set into testing set"
   ]
  },
  {
   "cell_type": "code",
   "execution_count": 64,
   "id": "3ed384c5",
   "metadata": {},
   "outputs": [
    {
     "name": "stdout",
     "output_type": "stream",
     "text": [
      "Accuracy on the test set: 0.8943\n"
     ]
    }
   ],
   "source": [
    "# Spliting the dataset into training and testing sets\n",
    "X_train60, X_test60, y_train60, y_test60 = train_test_split(X_flat, Y, test_size=0.60, random_state=42)\n",
    "\n",
    "# Training the Decision Tree classifier\n",
    "dt_classifier60 = DecisionTreeClassifier(criterion='entropy', random_state=42)\n",
    "dt_classifier60.fit(X_train60, y_train60)\n",
    "\n",
    "# Predicting on the test set\n",
    "y_pred_test60 = dt_classifier60.predict(X_test60)\n",
    "\n",
    "# Measuring accuracy on the test set\n",
    "accuracy_test60 = accuracy_score(y_test60, y_pred_test60)\n",
    "print(f\"Accuracy on the test set: {accuracy_test60:.4f}\")"
   ]
  },
  {
   "cell_type": "markdown",
   "id": "3502932e",
   "metadata": {},
   "source": [
    "Previously, we saw accuracy on 12% testing set which was 100%. But in last two runs of code we saw that, moving data from training to testing by 30% and 60% reduced accuracy from 100% to 95% and 89% respectively. These experiments shows that the classifier is facing problem of overfitting. It doesn't generalize to new/unseen data that well as it was on big training dataset. But <i>amazingly</i>, On 60% of test data and only 40% of training data, the 89% accuracy is still a very higher. So, classifier faced overfitting on the 30% and 60% train/test split. But overall worked well."
   ]
  },
  {
   "cell_type": "markdown",
   "id": "a15a5bd6",
   "metadata": {},
   "source": [
    "## For top marks: Random Forest Classifier"
   ]
  },
  {
   "cell_type": "markdown",
   "id": "94ef9a58",
   "metadata": {},
   "source": [
    "### 10 Fold cross-validation"
   ]
  },
  {
   "cell_type": "code",
   "execution_count": 65,
   "id": "6b2ab8e1",
   "metadata": {},
   "outputs": [
    {
     "name": "stdout",
     "output_type": "stream",
     "text": [
      "[[72  0  0]\n",
      " [ 0 60  0]\n",
      " [ 0  0 72]]\n",
      "10-Fold Cross-Validation Accuracy: 1.0000\n",
      "10-Fold Cross-Validation TP Rate: 1.0000\n",
      "10-Fold Cross-Validation Precision: 1.0000\n",
      "10-Fold Cross-Validation Recall: 1.0000\n",
      "10-Fold Cross-Validation F Measure: 1.0000\n"
     ]
    }
   ],
   "source": [
    "# Creating a test set\n",
    "X_train, X_test, y_train, y_test = train_test_split(X_flat, Y, test_size=0.12, random_state=42)\n",
    "\n",
    "#Training a Random Forest model on the training set and measure its accuracy\n",
    "rf_classifier = RandomForestClassifier(random_state=42)\n",
    "rf_classifier.fit(X_train, y_train)\n",
    "\n",
    "# 10-fold cross-validation with cross_val_predict to get predictions\n",
    "y_pred_cv = cross_val_predict(rf_classifier, X_flat, Y, cv=10)\n",
    "\n",
    "# Evaluation metrics using the predictions from cross_val_predict\n",
    "conf_matrix = confusion_matrix(Y, y_pred_cv)\n",
    "cv_accuracy = accuracy_score(Y, y_pred_cv)\n",
    "cv_tp_rate = recall_score(Y, y_pred_cv, average='macro')\n",
    "cv_precision = precision_score(Y, y_pred_cv, average='macro')\n",
    "cv_recall = recall_score(Y, y_pred_cv, average='macro')\n",
    "cv_f_measure = f1_score(Y, y_pred_cv, average='macro')\n",
    "\n",
    "# Findings and display them\n",
    "print(conf_matrix)\n",
    "\n",
    "print(f'10-Fold Cross-Validation Accuracy: {cv_accuracy:.4f}')\n",
    "print(f'10-Fold Cross-Validation TP Rate: {cv_tp_rate:.4f}')\n",
    "print(f'10-Fold Cross-Validation Precision: {cv_precision:.4f}')\n",
    "print(f'10-Fold Cross-Validation Recall: {cv_recall:.4f}')\n",
    "print(f'10-Fold Cross-Validation F Measure: {cv_f_measure:.4f}')"
   ]
  },
  {
   "cell_type": "markdown",
   "id": "66d0aabf",
   "metadata": {},
   "source": [
    "### Test data validation"
   ]
  },
  {
   "cell_type": "code",
   "execution_count": 66,
   "id": "e7e3f1ce",
   "metadata": {},
   "outputs": [
    {
     "name": "stdout",
     "output_type": "stream",
     "text": [
      "Training Accuracy: 1.0000\n"
     ]
    }
   ],
   "source": [
    "#Training a Random Forest model on the training set and measure its accuracy\n",
    "rf_classifier = RandomForestClassifier(random_state=42)\n",
    "rf_classifier.fit(X_train, y_train)\n",
    "y_pred_train = rf_classifier.predict(X_train)\n",
    "train_accuracy = accuracy_score(y_train, y_pred_train)\n",
    "\n",
    "print(f'Training Accuracy: {train_accuracy:.4f}')"
   ]
  },
  {
   "cell_type": "markdown",
   "id": "565a1048",
   "metadata": {},
   "source": [
    "##### Moving 30% training set into testing set"
   ]
  },
  {
   "cell_type": "code",
   "execution_count": 67,
   "id": "abcce4c8",
   "metadata": {},
   "outputs": [
    {
     "name": "stdout",
     "output_type": "stream",
     "text": [
      "Training Accuracy: 1.0000\n"
     ]
    }
   ],
   "source": [
    "# Creating a test set\n",
    "X_train, X_test, y_train, y_test = train_test_split(X_flat, Y, test_size=0.30, random_state=42)\n",
    "\n",
    "#Training a Random Forest model on the training set and measure its accuracy\n",
    "rf_classifier = RandomForestClassifier(random_state=42)\n",
    "rf_classifier.fit(X_train, y_train)\n",
    "y_pred_train = rf_classifier.predict(X_train)\n",
    "train_accuracy = accuracy_score(y_train, y_pred_train)\n",
    "\n",
    "print(f'Training Accuracy: {train_accuracy:.4f}')"
   ]
  },
  {
   "cell_type": "markdown",
   "id": "e244713e",
   "metadata": {},
   "source": [
    "##### Moving 60% training set into testing set"
   ]
  },
  {
   "cell_type": "code",
   "execution_count": 68,
   "id": "a54c8df8",
   "metadata": {},
   "outputs": [
    {
     "name": "stdout",
     "output_type": "stream",
     "text": [
      "Training Accuracy: 1.0000\n"
     ]
    }
   ],
   "source": [
    "# Creating a test set\n",
    "X_train, X_test, y_train, y_test = train_test_split(X_flat, Y, test_size=0.60, random_state=42)\n",
    "\n",
    "#Training a Random Forest model on the training set and measure its accuracy\n",
    "rf_classifier = RandomForestClassifier(random_state=42)\n",
    "rf_classifier.fit(X_train, y_train)\n",
    "y_pred_train = rf_classifier.predict(X_train)\n",
    "train_accuracy = accuracy_score(y_train, y_pred_train)\n",
    "\n",
    "print(f'Training Accuracy: {train_accuracy:.4f}')"
   ]
  },
  {
   "cell_type": "markdown",
   "id": "3acc1569",
   "metadata": {},
   "source": [
    "##### Moving 90% training set into testing set"
   ]
  },
  {
   "cell_type": "code",
   "execution_count": 69,
   "id": "4bdf0dfb",
   "metadata": {},
   "outputs": [
    {
     "name": "stdout",
     "output_type": "stream",
     "text": [
      "Training Accuracy: 1.0000\n"
     ]
    }
   ],
   "source": [
    "# Creating a test set\n",
    "X_train, X_test, y_train, y_test = train_test_split(X_flat, Y, test_size=0.9, random_state=42)\n",
    "\n",
    "#Training a Random Forest model on the training set and measure its accuracy\n",
    "rf_classifier = RandomForestClassifier(random_state=42)\n",
    "rf_classifier.fit(X_train, y_train)\n",
    "y_pred_train = rf_classifier.predict(X_train)\n",
    "train_accuracy = accuracy_score(y_train, y_pred_train)\n",
    "\n",
    "print(f'Training Accuracy: {train_accuracy:.4f}')"
   ]
  },
  {
   "cell_type": "markdown",
   "id": "e7b7d5f0",
   "metadata": {},
   "source": [
    "##### 10-fold cross validation method to calculate matrics using Random Forest Classifier"
   ]
  },
  {
   "cell_type": "code",
   "execution_count": 70,
   "id": "dac4bfe4",
   "metadata": {},
   "outputs": [
    {
     "name": "stdout",
     "output_type": "stream",
     "text": [
      "Training Accuracy: 1.0000\n",
      "10-Fold Cross-Validation Accuracy: 1.0000\n",
      "10-Fold Cross-Validation TP Rate: 1.0000\n",
      "10-Fold Cross-Validation Precision: 1.0000\n",
      "10-Fold Cross-Validation Recall: 1.0000\n",
      "10-Fold Cross-Validation F Measure: 1.0000\n"
     ]
    }
   ],
   "source": [
    "# Creating a test set\n",
    "X_train, X_test, y_train, y_test = train_test_split(X_flat, Y, test_size=0.2, random_state=42)\n",
    "\n",
    "# Training a Random Forest model on the training set and measure its accuracy\n",
    "rf_classifier = RandomForestClassifier(random_state=42)\n",
    "rf_classifier.fit(X_train, y_train)\n",
    "y_pred_train = rf_classifier.predict(X_train)\n",
    "train_accuracy = accuracy_score(y_train, y_pred_train)\n",
    "\n",
    "# Using 10-fold cross-validation to measure metrics\n",
    "cv_accuracy = cross_val_score(rf_classifier, X_flat, Y, cv=10, scoring='accuracy')\n",
    "cv_tp_rate = cross_val_score(rf_classifier, X_flat, Y, cv=10, scoring='recall_macro')\n",
    "cv_precision = cross_val_score(rf_classifier, X_flat, Y, cv=10, scoring='precision_macro')\n",
    "cv_recall = cross_val_score(rf_classifier, X_flat, Y, cv=10, scoring='recall_macro')\n",
    "cv_f_measure = cross_val_score(rf_classifier, X_flat, Y, cv=10, scoring='f1_macro')\n",
    "\n",
    "# Recording findings and explain them\n",
    "print(f'Training Accuracy: {train_accuracy:.4f}')\n",
    "print(f'10-Fold Cross-Validation Accuracy: {np.mean(cv_accuracy):.4f}')\n",
    "\n",
    "# For the other metrics, taking the average of each cross-validated result\n",
    "print(f'10-Fold Cross-Validation TP Rate: {np.mean(cv_tp_rate):.4f}')\n",
    "print(f'10-Fold Cross-Validation Precision: {np.mean(cv_precision):.4f}')\n",
    "print(f'10-Fold Cross-Validation Recall: {np.mean(cv_recall):.4f}')\n",
    "print(f'10-Fold Cross-Validation F Measure: {np.mean(cv_f_measure):.4f}')"
   ]
  },
  {
   "cell_type": "markdown",
   "id": "aae8d9a7",
   "metadata": {},
   "source": [
    "#### Conclusion\n",
    "By looking at confusion matrix, accuracy and other matrices, it seems like Random forest classifier works well with data. it shows every thing 100% accurately. But by reducing training size and increasing test size it always shows 100% accuracy. This classifier is very very good with this data. Then tried 10-fold cross validation method to calculate same matrics. It again shows 100% results."
   ]
  },
  {
   "cell_type": "markdown",
   "id": "80f4c821",
   "metadata": {},
   "source": [
    "# Question 4"
   ]
  },
  {
   "cell_type": "markdown",
   "id": "64715faa",
   "metadata": {},
   "source": [
    "## Linear Classifier"
   ]
  },
  {
   "cell_type": "markdown",
   "id": "1057dbc7",
   "metadata": {},
   "source": [
    "### Using logistic regression classifier"
   ]
  },
  {
   "cell_type": "markdown",
   "id": "75f138b3",
   "metadata": {},
   "source": [
    "#### 10-fold cross validation"
   ]
  },
  {
   "cell_type": "code",
   "execution_count": 71,
   "id": "1851a3e4",
   "metadata": {},
   "outputs": [
    {
     "name": "stdout",
     "output_type": "stream",
     "text": [
      "Fold 1 Accuracy: 1.00\n",
      "Fold 2 Accuracy: 1.00\n",
      "Fold 3 Accuracy: 1.00\n",
      "Fold 4 Accuracy: 1.00\n",
      "Fold 5 Accuracy: 1.00\n",
      "Fold 6 Accuracy: 1.00\n",
      "Fold 7 Accuracy: 1.00\n",
      "Fold 8 Accuracy: 1.00\n",
      "Fold 9 Accuracy: 1.00\n",
      "Fold 10 Accuracy: 0.95\n",
      "Mean Accuracy: 0.99\n"
     ]
    }
   ],
   "source": [
    "# Spliting the data into training and testing sets\n",
    "X_train, X_test, y_train, y_test = train_test_split(X_flat, Y, test_size=0.2, random_state=42)\n",
    "\n",
    "# Creating and train the logistic regression model\n",
    "logreg = LogisticRegression(max_iter=1000, random_state=42)\n",
    "logreg.fit(X_train, y_train)\n",
    "\n",
    "# Performing 10-fold cross-validation\n",
    "cv_scores = cross_val_score(logreg, X_flat, Y, cv=10)\n",
    "\n",
    "# Printing the accuracy for each fold and the mean accuracy\n",
    "for fold_idx, accuracy in enumerate(cv_scores, start=1):\n",
    "    print(f'Fold {fold_idx} Accuracy: {accuracy:.2f}')\n",
    "\n",
    "print(f'Mean Accuracy: {np.mean(cv_scores):.2f}')"
   ]
  },
  {
   "cell_type": "markdown",
   "id": "0ec5b331",
   "metadata": {},
   "source": [
    "#### Train/test validation (new data)"
   ]
  },
  {
   "cell_type": "code",
   "execution_count": 72,
   "id": "ac3e4b8e",
   "metadata": {},
   "outputs": [
    {
     "name": "stdout",
     "output_type": "stream",
     "text": [
      "Accuracy: 1.00\n"
     ]
    }
   ],
   "source": [
    "# Making predictions on the test set\n",
    "y_pred = logreg.predict(X_test)\n",
    "\n",
    "# Calculating and print the accuracy\n",
    "accuracy = accuracy_score(y_test, y_pred)\n",
    "print(f'Accuracy: {accuracy:.2f}')"
   ]
  },
  {
   "cell_type": "markdown",
   "id": "fbcc806a",
   "metadata": {},
   "source": [
    "### Using Support Vector Machine (SVM) classifier"
   ]
  },
  {
   "cell_type": "markdown",
   "id": "2dc68474",
   "metadata": {},
   "source": [
    "#### 10-fold cross validation"
   ]
  },
  {
   "cell_type": "code",
   "execution_count": 73,
   "id": "dc666343",
   "metadata": {},
   "outputs": [
    {
     "name": "stdout",
     "output_type": "stream",
     "text": [
      "Fold 1 Accuracy: 1.00\n",
      "Fold 2 Accuracy: 1.00\n",
      "Fold 3 Accuracy: 1.00\n",
      "Fold 4 Accuracy: 1.00\n",
      "Fold 5 Accuracy: 0.90\n",
      "Fold 6 Accuracy: 1.00\n",
      "Fold 7 Accuracy: 0.95\n",
      "Fold 8 Accuracy: 1.00\n",
      "Fold 9 Accuracy: 1.00\n",
      "Fold 10 Accuracy: 0.95\n",
      "Mean Accuracy: 0.98\n"
     ]
    }
   ],
   "source": [
    "# Spliting the data into training and testing sets\n",
    "X_train, X_test, y_train, y_test = train_test_split(X_flat, Y, test_size=0.2, random_state=42)\n",
    "\n",
    "# Creating and train the linear SVM classifier\n",
    "svm_classifier = LinearSVC(random_state=42)\n",
    "svm_classifier.fit(X_train, y_train)\n",
    "\n",
    "# Performing 10-fold cross-validation\n",
    "cv_scores = cross_val_score(svm_classifier, X_flat, Y, cv=10)\n",
    "\n",
    "# Printing the accuracy for each fold and the mean accuracy\n",
    "for fold_idx, accuracy in enumerate(cv_scores, start=1):\n",
    "    print(f'Fold {fold_idx} Accuracy: {accuracy:.2f}')\n",
    "\n",
    "print(f'Mean Accuracy: {np.mean(cv_scores):.2f}')"
   ]
  },
  {
   "cell_type": "markdown",
   "id": "d98dfc04",
   "metadata": {},
   "source": [
    "#### Train/test validation (new data)"
   ]
  },
  {
   "cell_type": "code",
   "execution_count": 74,
   "id": "c0c5bf71",
   "metadata": {},
   "outputs": [
    {
     "name": "stdout",
     "output_type": "stream",
     "text": [
      "Accuracy: 0.98\n"
     ]
    }
   ],
   "source": [
    "# Making predictions on the test set\n",
    "y_pred = svm_classifier.predict(X_test)\n",
    "\n",
    "# Calculating and printing the accuracy\n",
    "accuracy = accuracy_score(y_test, y_pred)\n",
    "print(f'Accuracy: {accuracy:.2f}')"
   ]
  },
  {
   "cell_type": "markdown",
   "id": "821491d3",
   "metadata": {},
   "source": [
    "##### conclusion\n",
    "By looking at accuracies of 10-fold cross-validation, we saw that this data fits very with linear classifier. When we tested on new test data, it also showed 100% accuracy. So this classifier generalize to new data very well in this dataset. Results of above two tests (10-fold cross validation & test on new data) shows that this data is totally linear. Also this data is linearly separable."
   ]
  },
  {
   "cell_type": "markdown",
   "id": "159df0ac",
   "metadata": {},
   "source": [
    "## Multi Layer Perceptron"
   ]
  },
  {
   "cell_type": "markdown",
   "id": "aadf8207",
   "metadata": {},
   "source": [
    "#### Default hyper-parameters"
   ]
  },
  {
   "cell_type": "code",
   "execution_count": 75,
   "id": "edc2f0d0",
   "metadata": {},
   "outputs": [
    {
     "name": "stdout",
     "output_type": "stream",
     "text": [
      "Accuracy: 1.00\n"
     ]
    }
   ],
   "source": [
    "# Spliting the data into training and testing sets\n",
    "X_train, X_test, y_train, y_test = train_test_split(X_flat, Y, test_size=0.2, random_state=42)\n",
    "\n",
    "# Creating and train the MLPClassifier\n",
    "mlp = MLPClassifier(hidden_layer_sizes=(100,), activation='relu', solver='adam')\n",
    "mlp.fit(X_train, y_train)\n",
    "\n",
    "# Making predictions on the test set\n",
    "y_pred = mlp.predict(X_test)\n",
    "\n",
    "# Calculating and printing the accuracy\n",
    "accuracy = accuracy_score(y_test, y_pred)\n",
    "print(f'Accuracy: {accuracy:.2f}')"
   ]
  },
  {
   "cell_type": "markdown",
   "id": "44028f6d",
   "metadata": {},
   "source": [
    "Multi layer perceptron is showing 100% accuracy with default hyper-parameters."
   ]
  },
  {
   "cell_type": "markdown",
   "id": "3fb51398",
   "metadata": {},
   "source": [
    "### Try different parameters by:"
   ]
  },
  {
   "cell_type": "code",
   "execution_count": 79,
   "id": "343d9a39",
   "metadata": {},
   "outputs": [
    {
     "name": "stdout",
     "output_type": "stream",
     "text": [
      "1. Maximum iterations: 600 | Hidden Layers: (100,) | Activation: relu | Batch Size: 102 | Momentum: 0.9 | Learning Rate: 0.001 | Accuracy: 1.00\n",
      "2. Maximum iterations: 600 | Hidden Layers: (100,) | Activation: relu | Batch Size: 102 | Momentum: 0.95 | Learning Rate: 0.001 | Accuracy: 1.00\n",
      "3. Maximum iterations: 600 | Hidden Layers: (100,) | Activation: relu | Batch Size: 102 | Momentum: 0.99 | Learning Rate: 0.001 | Accuracy: 1.00\n",
      "4. Maximum iterations: 600 | Hidden Layers: (100,) | Activation: relu | Batch Size: 50 | Momentum: 0.9 | Learning Rate: 0.001 | Accuracy: 1.00\n",
      "5. Maximum iterations: 600 | Hidden Layers: (100,) | Activation: relu | Batch Size: 50 | Momentum: 0.95 | Learning Rate: 0.001 | Accuracy: 1.00\n",
      "6. Maximum iterations: 600 | Hidden Layers: (100,) | Activation: relu | Batch Size: 50 | Momentum: 0.99 | Learning Rate: 0.001 | Accuracy: 1.00\n",
      "7. Maximum iterations: 600 | Hidden Layers: (100,) | Activation: relu | Batch Size: 25 | Momentum: 0.9 | Learning Rate: 0.001 | Accuracy: 1.00\n",
      "8. Maximum iterations: 600 | Hidden Layers: (100,) | Activation: relu | Batch Size: 25 | Momentum: 0.95 | Learning Rate: 0.001 | Accuracy: 1.00\n",
      "9. Maximum iterations: 600 | Hidden Layers: (100,) | Activation: relu | Batch Size: 25 | Momentum: 0.99 | Learning Rate: 0.001 | Accuracy: 1.00\n",
      "10. Maximum iterations: 600 | Hidden Layers: (100,) | Activation: tanh | Batch Size: 102 | Momentum: 0.9 | Learning Rate: 0.001 | Accuracy: 1.00\n",
      "11. Maximum iterations: 600 | Hidden Layers: (100,) | Activation: tanh | Batch Size: 102 | Momentum: 0.95 | Learning Rate: 0.001 | Accuracy: 1.00\n",
      "12. Maximum iterations: 600 | Hidden Layers: (100,) | Activation: tanh | Batch Size: 102 | Momentum: 0.99 | Learning Rate: 0.001 | Accuracy: 1.00\n",
      "13. Maximum iterations: 600 | Hidden Layers: (100,) | Activation: tanh | Batch Size: 50 | Momentum: 0.9 | Learning Rate: 0.001 | Accuracy: 1.00\n",
      "14. Maximum iterations: 600 | Hidden Layers: (100,) | Activation: tanh | Batch Size: 50 | Momentum: 0.95 | Learning Rate: 0.001 | Accuracy: 1.00\n",
      "15. Maximum iterations: 600 | Hidden Layers: (100,) | Activation: tanh | Batch Size: 50 | Momentum: 0.99 | Learning Rate: 0.001 | Accuracy: 1.00\n",
      "16. Maximum iterations: 600 | Hidden Layers: (100,) | Activation: tanh | Batch Size: 25 | Momentum: 0.9 | Learning Rate: 0.001 | Accuracy: 1.00\n",
      "17. Maximum iterations: 600 | Hidden Layers: (100,) | Activation: tanh | Batch Size: 25 | Momentum: 0.95 | Learning Rate: 0.001 | Accuracy: 1.00\n",
      "18. Maximum iterations: 600 | Hidden Layers: (100,) | Activation: tanh | Batch Size: 25 | Momentum: 0.99 | Learning Rate: 0.001 | Accuracy: 1.00\n",
      "19. Maximum iterations: 600 | Hidden Layers: (100,) | Activation: logistic | Batch Size: 102 | Momentum: 0.9 | Learning Rate: 0.001 | Accuracy: 1.00\n",
      "20. Maximum iterations: 600 | Hidden Layers: (100,) | Activation: logistic | Batch Size: 102 | Momentum: 0.95 | Learning Rate: 0.001 | Accuracy: 1.00\n",
      "21. Maximum iterations: 600 | Hidden Layers: (100,) | Activation: logistic | Batch Size: 102 | Momentum: 0.99 | Learning Rate: 0.001 | Accuracy: 1.00\n",
      "22. Maximum iterations: 600 | Hidden Layers: (100,) | Activation: logistic | Batch Size: 50 | Momentum: 0.9 | Learning Rate: 0.001 | Accuracy: 1.00\n",
      "23. Maximum iterations: 600 | Hidden Layers: (100,) | Activation: logistic | Batch Size: 50 | Momentum: 0.95 | Learning Rate: 0.001 | Accuracy: 1.00\n",
      "24. Maximum iterations: 600 | Hidden Layers: (100,) | Activation: logistic | Batch Size: 50 | Momentum: 0.99 | Learning Rate: 0.001 | Accuracy: 1.00\n",
      "25. Maximum iterations: 600 | Hidden Layers: (100,) | Activation: logistic | Batch Size: 25 | Momentum: 0.9 | Learning Rate: 0.001 | Accuracy: 1.00\n",
      "26. Maximum iterations: 600 | Hidden Layers: (100,) | Activation: logistic | Batch Size: 25 | Momentum: 0.95 | Learning Rate: 0.001 | Accuracy: 1.00\n",
      "27. Maximum iterations: 600 | Hidden Layers: (100,) | Activation: logistic | Batch Size: 25 | Momentum: 0.99 | Learning Rate: 0.001 | Accuracy: 1.00\n",
      "28. Maximum iterations: 600 | Hidden Layers: (50,) | Activation: relu | Batch Size: 102 | Momentum: 0.9 | Learning Rate: 0.001 | Accuracy: 1.00\n",
      "29. Maximum iterations: 600 | Hidden Layers: (50,) | Activation: relu | Batch Size: 102 | Momentum: 0.95 | Learning Rate: 0.001 | Accuracy: 1.00\n",
      "30. Maximum iterations: 600 | Hidden Layers: (50,) | Activation: relu | Batch Size: 102 | Momentum: 0.99 | Learning Rate: 0.001 | Accuracy: 1.00\n",
      "31. Maximum iterations: 600 | Hidden Layers: (50,) | Activation: relu | Batch Size: 50 | Momentum: 0.9 | Learning Rate: 0.001 | Accuracy: 1.00\n",
      "32. Maximum iterations: 600 | Hidden Layers: (50,) | Activation: relu | Batch Size: 50 | Momentum: 0.95 | Learning Rate: 0.001 | Accuracy: 1.00\n",
      "33. Maximum iterations: 600 | Hidden Layers: (50,) | Activation: relu | Batch Size: 50 | Momentum: 0.99 | Learning Rate: 0.001 | Accuracy: 1.00\n",
      "34. Maximum iterations: 600 | Hidden Layers: (50,) | Activation: relu | Batch Size: 25 | Momentum: 0.9 | Learning Rate: 0.001 | Accuracy: 1.00\n",
      "35. Maximum iterations: 600 | Hidden Layers: (50,) | Activation: relu | Batch Size: 25 | Momentum: 0.95 | Learning Rate: 0.001 | Accuracy: 1.00\n",
      "36. Maximum iterations: 600 | Hidden Layers: (50,) | Activation: relu | Batch Size: 25 | Momentum: 0.99 | Learning Rate: 0.001 | Accuracy: 1.00\n",
      "37. Maximum iterations: 600 | Hidden Layers: (50,) | Activation: tanh | Batch Size: 102 | Momentum: 0.9 | Learning Rate: 0.001 | Accuracy: 1.00\n",
      "38. Maximum iterations: 600 | Hidden Layers: (50,) | Activation: tanh | Batch Size: 102 | Momentum: 0.95 | Learning Rate: 0.001 | Accuracy: 1.00\n",
      "39. Maximum iterations: 600 | Hidden Layers: (50,) | Activation: tanh | Batch Size: 102 | Momentum: 0.99 | Learning Rate: 0.001 | Accuracy: 1.00\n",
      "40. Maximum iterations: 600 | Hidden Layers: (50,) | Activation: tanh | Batch Size: 50 | Momentum: 0.9 | Learning Rate: 0.001 | Accuracy: 1.00\n",
      "41. Maximum iterations: 600 | Hidden Layers: (50,) | Activation: tanh | Batch Size: 50 | Momentum: 0.95 | Learning Rate: 0.001 | Accuracy: 1.00\n",
      "42. Maximum iterations: 600 | Hidden Layers: (50,) | Activation: tanh | Batch Size: 50 | Momentum: 0.99 | Learning Rate: 0.001 | Accuracy: 1.00\n",
      "43. Maximum iterations: 600 | Hidden Layers: (50,) | Activation: tanh | Batch Size: 25 | Momentum: 0.9 | Learning Rate: 0.001 | Accuracy: 1.00\n",
      "44. Maximum iterations: 600 | Hidden Layers: (50,) | Activation: tanh | Batch Size: 25 | Momentum: 0.95 | Learning Rate: 0.001 | Accuracy: 1.00\n",
      "45. Maximum iterations: 600 | Hidden Layers: (50,) | Activation: tanh | Batch Size: 25 | Momentum: 0.99 | Learning Rate: 0.001 | Accuracy: 1.00\n",
      "46. Maximum iterations: 600 | Hidden Layers: (50,) | Activation: logistic | Batch Size: 102 | Momentum: 0.9 | Learning Rate: 0.001 | Accuracy: 1.00\n",
      "47. Maximum iterations: 600 | Hidden Layers: (50,) | Activation: logistic | Batch Size: 102 | Momentum: 0.95 | Learning Rate: 0.001 | Accuracy: 1.00\n",
      "48. Maximum iterations: 600 | Hidden Layers: (50,) | Activation: logistic | Batch Size: 102 | Momentum: 0.99 | Learning Rate: 0.001 | Accuracy: 1.00\n",
      "49. Maximum iterations: 600 | Hidden Layers: (50,) | Activation: logistic | Batch Size: 50 | Momentum: 0.9 | Learning Rate: 0.001 | Accuracy: 1.00\n",
      "50. Maximum iterations: 600 | Hidden Layers: (50,) | Activation: logistic | Batch Size: 50 | Momentum: 0.95 | Learning Rate: 0.001 | Accuracy: 1.00\n",
      "51. Maximum iterations: 600 | Hidden Layers: (50,) | Activation: logistic | Batch Size: 50 | Momentum: 0.99 | Learning Rate: 0.001 | Accuracy: 1.00\n",
      "52. Maximum iterations: 600 | Hidden Layers: (50,) | Activation: logistic | Batch Size: 25 | Momentum: 0.9 | Learning Rate: 0.001 | Accuracy: 1.00\n",
      "53. Maximum iterations: 600 | Hidden Layers: (50,) | Activation: logistic | Batch Size: 25 | Momentum: 0.95 | Learning Rate: 0.001 | Accuracy: 1.00\n",
      "54. Maximum iterations: 600 | Hidden Layers: (50,) | Activation: logistic | Batch Size: 25 | Momentum: 0.99 | Learning Rate: 0.001 | Accuracy: 1.00\n",
      "55. Maximum iterations: 600 | Hidden Layers: (50, 50) | Activation: relu | Batch Size: 102 | Momentum: 0.9 | Learning Rate: 0.001 | Accuracy: 1.00\n",
      "56. Maximum iterations: 600 | Hidden Layers: (50, 50) | Activation: relu | Batch Size: 102 | Momentum: 0.95 | Learning Rate: 0.001 | Accuracy: 1.00\n",
      "57. Maximum iterations: 600 | Hidden Layers: (50, 50) | Activation: relu | Batch Size: 102 | Momentum: 0.99 | Learning Rate: 0.001 | Accuracy: 1.00\n",
      "58. Maximum iterations: 600 | Hidden Layers: (50, 50) | Activation: relu | Batch Size: 50 | Momentum: 0.9 | Learning Rate: 0.001 | Accuracy: 1.00\n",
      "59. Maximum iterations: 600 | Hidden Layers: (50, 50) | Activation: relu | Batch Size: 50 | Momentum: 0.95 | Learning Rate: 0.001 | Accuracy: 1.00\n",
      "60. Maximum iterations: 600 | Hidden Layers: (50, 50) | Activation: relu | Batch Size: 50 | Momentum: 0.99 | Learning Rate: 0.001 | Accuracy: 1.00\n",
      "61. Maximum iterations: 600 | Hidden Layers: (50, 50) | Activation: relu | Batch Size: 25 | Momentum: 0.9 | Learning Rate: 0.001 | Accuracy: 1.00\n",
      "62. Maximum iterations: 600 | Hidden Layers: (50, 50) | Activation: relu | Batch Size: 25 | Momentum: 0.95 | Learning Rate: 0.001 | Accuracy: 1.00\n",
      "63. Maximum iterations: 600 | Hidden Layers: (50, 50) | Activation: relu | Batch Size: 25 | Momentum: 0.99 | Learning Rate: 0.001 | Accuracy: 1.00\n",
      "64. Maximum iterations: 600 | Hidden Layers: (50, 50) | Activation: tanh | Batch Size: 102 | Momentum: 0.9 | Learning Rate: 0.001 | Accuracy: 1.00\n",
      "65. Maximum iterations: 600 | Hidden Layers: (50, 50) | Activation: tanh | Batch Size: 102 | Momentum: 0.95 | Learning Rate: 0.001 | Accuracy: 1.00\n",
      "66. Maximum iterations: 600 | Hidden Layers: (50, 50) | Activation: tanh | Batch Size: 102 | Momentum: 0.99 | Learning Rate: 0.001 | Accuracy: 1.00\n",
      "67. Maximum iterations: 600 | Hidden Layers: (50, 50) | Activation: tanh | Batch Size: 50 | Momentum: 0.9 | Learning Rate: 0.001 | Accuracy: 1.00\n",
      "68. Maximum iterations: 600 | Hidden Layers: (50, 50) | Activation: tanh | Batch Size: 50 | Momentum: 0.95 | Learning Rate: 0.001 | Accuracy: 1.00\n",
      "69. Maximum iterations: 600 | Hidden Layers: (50, 50) | Activation: tanh | Batch Size: 50 | Momentum: 0.99 | Learning Rate: 0.001 | Accuracy: 1.00\n",
      "70. Maximum iterations: 600 | Hidden Layers: (50, 50) | Activation: tanh | Batch Size: 25 | Momentum: 0.9 | Learning Rate: 0.001 | Accuracy: 1.00\n",
      "71. Maximum iterations: 600 | Hidden Layers: (50, 50) | Activation: tanh | Batch Size: 25 | Momentum: 0.95 | Learning Rate: 0.001 | Accuracy: 1.00\n",
      "72. Maximum iterations: 600 | Hidden Layers: (50, 50) | Activation: tanh | Batch Size: 25 | Momentum: 0.99 | Learning Rate: 0.001 | Accuracy: 1.00\n",
      "73. Maximum iterations: 600 | Hidden Layers: (50, 50) | Activation: logistic | Batch Size: 102 | Momentum: 0.9 | Learning Rate: 0.001 | Accuracy: 1.00\n",
      "74. Maximum iterations: 600 | Hidden Layers: (50, 50) | Activation: logistic | Batch Size: 102 | Momentum: 0.95 | Learning Rate: 0.001 | Accuracy: 1.00\n",
      "75. Maximum iterations: 600 | Hidden Layers: (50, 50) | Activation: logistic | Batch Size: 102 | Momentum: 0.99 | Learning Rate: 0.001 | Accuracy: 1.00\n",
      "76. Maximum iterations: 600 | Hidden Layers: (50, 50) | Activation: logistic | Batch Size: 50 | Momentum: 0.9 | Learning Rate: 0.001 | Accuracy: 1.00\n",
      "77. Maximum iterations: 600 | Hidden Layers: (50, 50) | Activation: logistic | Batch Size: 50 | Momentum: 0.95 | Learning Rate: 0.001 | Accuracy: 1.00\n",
      "78. Maximum iterations: 600 | Hidden Layers: (50, 50) | Activation: logistic | Batch Size: 50 | Momentum: 0.99 | Learning Rate: 0.001 | Accuracy: 1.00\n",
      "79. Maximum iterations: 600 | Hidden Layers: (50, 50) | Activation: logistic | Batch Size: 25 | Momentum: 0.9 | Learning Rate: 0.001 | Accuracy: 1.00\n",
      "80. Maximum iterations: 600 | Hidden Layers: (50, 50) | Activation: logistic | Batch Size: 25 | Momentum: 0.95 | Learning Rate: 0.001 | Accuracy: 1.00\n",
      "81. Maximum iterations: 600 | Hidden Layers: (50, 50) | Activation: logistic | Batch Size: 25 | Momentum: 0.99 | Learning Rate: 0.001 | Accuracy: 1.00\n",
      "82. Maximum iterations: 600 | Hidden Layers: (25, 25, 25) | Activation: relu | Batch Size: 102 | Momentum: 0.9 | Learning Rate: 0.001 | Accuracy: 1.00\n",
      "83. Maximum iterations: 600 | Hidden Layers: (25, 25, 25) | Activation: relu | Batch Size: 102 | Momentum: 0.95 | Learning Rate: 0.001 | Accuracy: 1.00\n",
      "84. Maximum iterations: 600 | Hidden Layers: (25, 25, 25) | Activation: relu | Batch Size: 102 | Momentum: 0.99 | Learning Rate: 0.001 | Accuracy: 1.00\n",
      "85. Maximum iterations: 600 | Hidden Layers: (25, 25, 25) | Activation: relu | Batch Size: 50 | Momentum: 0.9 | Learning Rate: 0.001 | Accuracy: 1.00\n",
      "86. Maximum iterations: 600 | Hidden Layers: (25, 25, 25) | Activation: relu | Batch Size: 50 | Momentum: 0.95 | Learning Rate: 0.001 | Accuracy: 1.00\n",
      "87. Maximum iterations: 600 | Hidden Layers: (25, 25, 25) | Activation: relu | Batch Size: 50 | Momentum: 0.99 | Learning Rate: 0.001 | Accuracy: 1.00\n",
      "88. Maximum iterations: 600 | Hidden Layers: (25, 25, 25) | Activation: relu | Batch Size: 25 | Momentum: 0.9 | Learning Rate: 0.001 | Accuracy: 1.00\n",
      "89. Maximum iterations: 600 | Hidden Layers: (25, 25, 25) | Activation: relu | Batch Size: 25 | Momentum: 0.95 | Learning Rate: 0.001 | Accuracy: 1.00\n",
      "90. Maximum iterations: 600 | Hidden Layers: (25, 25, 25) | Activation: relu | Batch Size: 25 | Momentum: 0.99 | Learning Rate: 0.001 | Accuracy: 1.00\n",
      "91. Maximum iterations: 600 | Hidden Layers: (25, 25, 25) | Activation: tanh | Batch Size: 102 | Momentum: 0.9 | Learning Rate: 0.001 | Accuracy: 1.00\n",
      "92. Maximum iterations: 600 | Hidden Layers: (25, 25, 25) | Activation: tanh | Batch Size: 102 | Momentum: 0.95 | Learning Rate: 0.001 | Accuracy: 1.00\n",
      "93. Maximum iterations: 600 | Hidden Layers: (25, 25, 25) | Activation: tanh | Batch Size: 102 | Momentum: 0.99 | Learning Rate: 0.001 | Accuracy: 1.00\n",
      "94. Maximum iterations: 600 | Hidden Layers: (25, 25, 25) | Activation: tanh | Batch Size: 50 | Momentum: 0.9 | Learning Rate: 0.001 | Accuracy: 1.00\n",
      "95. Maximum iterations: 600 | Hidden Layers: (25, 25, 25) | Activation: tanh | Batch Size: 50 | Momentum: 0.95 | Learning Rate: 0.001 | Accuracy: 1.00\n",
      "96. Maximum iterations: 600 | Hidden Layers: (25, 25, 25) | Activation: tanh | Batch Size: 50 | Momentum: 0.99 | Learning Rate: 0.001 | Accuracy: 1.00\n",
      "97. Maximum iterations: 600 | Hidden Layers: (25, 25, 25) | Activation: tanh | Batch Size: 25 | Momentum: 0.9 | Learning Rate: 0.001 | Accuracy: 1.00\n",
      "98. Maximum iterations: 600 | Hidden Layers: (25, 25, 25) | Activation: tanh | Batch Size: 25 | Momentum: 0.95 | Learning Rate: 0.001 | Accuracy: 1.00\n",
      "99. Maximum iterations: 600 | Hidden Layers: (25, 25, 25) | Activation: tanh | Batch Size: 25 | Momentum: 0.99 | Learning Rate: 0.001 | Accuracy: 1.00\n",
      "100. Maximum iterations: 600 | Hidden Layers: (25, 25, 25) | Activation: logistic | Batch Size: 102 | Momentum: 0.9 | Learning Rate: 0.001 | Accuracy: 1.00\n",
      "101. Maximum iterations: 600 | Hidden Layers: (25, 25, 25) | Activation: logistic | Batch Size: 102 | Momentum: 0.95 | Learning Rate: 0.001 | Accuracy: 1.00\n",
      "102. Maximum iterations: 600 | Hidden Layers: (25, 25, 25) | Activation: logistic | Batch Size: 102 | Momentum: 0.99 | Learning Rate: 0.001 | Accuracy: 1.00\n",
      "103. Maximum iterations: 600 | Hidden Layers: (25, 25, 25) | Activation: logistic | Batch Size: 50 | Momentum: 0.9 | Learning Rate: 0.001 | Accuracy: 1.00\n",
      "104. Maximum iterations: 600 | Hidden Layers: (25, 25, 25) | Activation: logistic | Batch Size: 50 | Momentum: 0.95 | Learning Rate: 0.001 | Accuracy: 1.00\n",
      "105. Maximum iterations: 600 | Hidden Layers: (25, 25, 25) | Activation: logistic | Batch Size: 50 | Momentum: 0.99 | Learning Rate: 0.001 | Accuracy: 1.00\n",
      "106. Maximum iterations: 600 | Hidden Layers: (25, 25, 25) | Activation: logistic | Batch Size: 25 | Momentum: 0.9 | Learning Rate: 0.001 | Accuracy: 1.00\n",
      "107. Maximum iterations: 600 | Hidden Layers: (25, 25, 25) | Activation: logistic | Batch Size: 25 | Momentum: 0.95 | Learning Rate: 0.001 | Accuracy: 1.00\n",
      "108. Maximum iterations: 600 | Hidden Layers: (25, 25, 25) | Activation: logistic | Batch Size: 25 | Momentum: 0.99 | Learning Rate: 0.001 | Accuracy: 1.00\n",
      "109. Maximum iterations: 400 | Hidden Layers: (100,) | Activation: relu | Batch Size: 102 | Momentum: 0.9 | Learning Rate: 0.001 | Accuracy: 1.00\n",
      "110. Maximum iterations: 400 | Hidden Layers: (100,) | Activation: relu | Batch Size: 102 | Momentum: 0.95 | Learning Rate: 0.001 | Accuracy: 1.00\n",
      "111. Maximum iterations: 400 | Hidden Layers: (100,) | Activation: relu | Batch Size: 102 | Momentum: 0.99 | Learning Rate: 0.001 | Accuracy: 1.00\n",
      "112. Maximum iterations: 400 | Hidden Layers: (100,) | Activation: relu | Batch Size: 50 | Momentum: 0.9 | Learning Rate: 0.001 | Accuracy: 1.00\n",
      "113. Maximum iterations: 400 | Hidden Layers: (100,) | Activation: relu | Batch Size: 50 | Momentum: 0.95 | Learning Rate: 0.001 | Accuracy: 1.00\n",
      "114. Maximum iterations: 400 | Hidden Layers: (100,) | Activation: relu | Batch Size: 50 | Momentum: 0.99 | Learning Rate: 0.001 | Accuracy: 1.00\n",
      "115. Maximum iterations: 400 | Hidden Layers: (100,) | Activation: relu | Batch Size: 25 | Momentum: 0.9 | Learning Rate: 0.001 | Accuracy: 1.00\n",
      "116. Maximum iterations: 400 | Hidden Layers: (100,) | Activation: relu | Batch Size: 25 | Momentum: 0.95 | Learning Rate: 0.001 | Accuracy: 1.00\n",
      "117. Maximum iterations: 400 | Hidden Layers: (100,) | Activation: relu | Batch Size: 25 | Momentum: 0.99 | Learning Rate: 0.001 | Accuracy: 1.00\n",
      "118. Maximum iterations: 400 | Hidden Layers: (100,) | Activation: tanh | Batch Size: 102 | Momentum: 0.9 | Learning Rate: 0.001 | Accuracy: 1.00\n",
      "119. Maximum iterations: 400 | Hidden Layers: (100,) | Activation: tanh | Batch Size: 102 | Momentum: 0.95 | Learning Rate: 0.001 | Accuracy: 1.00\n",
      "120. Maximum iterations: 400 | Hidden Layers: (100,) | Activation: tanh | Batch Size: 102 | Momentum: 0.99 | Learning Rate: 0.001 | Accuracy: 1.00\n",
      "121. Maximum iterations: 400 | Hidden Layers: (100,) | Activation: tanh | Batch Size: 50 | Momentum: 0.9 | Learning Rate: 0.001 | Accuracy: 1.00\n",
      "122. Maximum iterations: 400 | Hidden Layers: (100,) | Activation: tanh | Batch Size: 50 | Momentum: 0.95 | Learning Rate: 0.001 | Accuracy: 1.00\n",
      "123. Maximum iterations: 400 | Hidden Layers: (100,) | Activation: tanh | Batch Size: 50 | Momentum: 0.99 | Learning Rate: 0.001 | Accuracy: 1.00\n",
      "124. Maximum iterations: 400 | Hidden Layers: (100,) | Activation: tanh | Batch Size: 25 | Momentum: 0.9 | Learning Rate: 0.001 | Accuracy: 1.00\n",
      "125. Maximum iterations: 400 | Hidden Layers: (100,) | Activation: tanh | Batch Size: 25 | Momentum: 0.95 | Learning Rate: 0.001 | Accuracy: 1.00\n",
      "126. Maximum iterations: 400 | Hidden Layers: (100,) | Activation: tanh | Batch Size: 25 | Momentum: 0.99 | Learning Rate: 0.001 | Accuracy: 1.00\n",
      "127. Maximum iterations: 400 | Hidden Layers: (100,) | Activation: logistic | Batch Size: 102 | Momentum: 0.9 | Learning Rate: 0.001 | Accuracy: 1.00\n",
      "128. Maximum iterations: 400 | Hidden Layers: (100,) | Activation: logistic | Batch Size: 102 | Momentum: 0.95 | Learning Rate: 0.001 | Accuracy: 1.00\n",
      "129. Maximum iterations: 400 | Hidden Layers: (100,) | Activation: logistic | Batch Size: 102 | Momentum: 0.99 | Learning Rate: 0.001 | Accuracy: 1.00\n",
      "130. Maximum iterations: 400 | Hidden Layers: (100,) | Activation: logistic | Batch Size: 50 | Momentum: 0.9 | Learning Rate: 0.001 | Accuracy: 1.00\n",
      "131. Maximum iterations: 400 | Hidden Layers: (100,) | Activation: logistic | Batch Size: 50 | Momentum: 0.95 | Learning Rate: 0.001 | Accuracy: 1.00\n",
      "132. Maximum iterations: 400 | Hidden Layers: (100,) | Activation: logistic | Batch Size: 50 | Momentum: 0.99 | Learning Rate: 0.001 | Accuracy: 1.00\n",
      "133. Maximum iterations: 400 | Hidden Layers: (100,) | Activation: logistic | Batch Size: 25 | Momentum: 0.9 | Learning Rate: 0.001 | Accuracy: 1.00\n",
      "134. Maximum iterations: 400 | Hidden Layers: (100,) | Activation: logistic | Batch Size: 25 | Momentum: 0.95 | Learning Rate: 0.001 | Accuracy: 1.00\n",
      "135. Maximum iterations: 400 | Hidden Layers: (100,) | Activation: logistic | Batch Size: 25 | Momentum: 0.99 | Learning Rate: 0.001 | Accuracy: 1.00\n",
      "136. Maximum iterations: 400 | Hidden Layers: (50,) | Activation: relu | Batch Size: 102 | Momentum: 0.9 | Learning Rate: 0.001 | Accuracy: 1.00\n",
      "137. Maximum iterations: 400 | Hidden Layers: (50,) | Activation: relu | Batch Size: 102 | Momentum: 0.95 | Learning Rate: 0.001 | Accuracy: 1.00\n",
      "138. Maximum iterations: 400 | Hidden Layers: (50,) | Activation: relu | Batch Size: 102 | Momentum: 0.99 | Learning Rate: 0.001 | Accuracy: 1.00\n",
      "139. Maximum iterations: 400 | Hidden Layers: (50,) | Activation: relu | Batch Size: 50 | Momentum: 0.9 | Learning Rate: 0.001 | Accuracy: 1.00\n",
      "140. Maximum iterations: 400 | Hidden Layers: (50,) | Activation: relu | Batch Size: 50 | Momentum: 0.95 | Learning Rate: 0.001 | Accuracy: 1.00\n",
      "141. Maximum iterations: 400 | Hidden Layers: (50,) | Activation: relu | Batch Size: 50 | Momentum: 0.99 | Learning Rate: 0.001 | Accuracy: 1.00\n",
      "142. Maximum iterations: 400 | Hidden Layers: (50,) | Activation: relu | Batch Size: 25 | Momentum: 0.9 | Learning Rate: 0.001 | Accuracy: 1.00\n",
      "143. Maximum iterations: 400 | Hidden Layers: (50,) | Activation: relu | Batch Size: 25 | Momentum: 0.95 | Learning Rate: 0.001 | Accuracy: 1.00\n",
      "144. Maximum iterations: 400 | Hidden Layers: (50,) | Activation: relu | Batch Size: 25 | Momentum: 0.99 | Learning Rate: 0.001 | Accuracy: 1.00\n",
      "145. Maximum iterations: 400 | Hidden Layers: (50,) | Activation: tanh | Batch Size: 102 | Momentum: 0.9 | Learning Rate: 0.001 | Accuracy: 1.00\n",
      "146. Maximum iterations: 400 | Hidden Layers: (50,) | Activation: tanh | Batch Size: 102 | Momentum: 0.95 | Learning Rate: 0.001 | Accuracy: 1.00\n",
      "147. Maximum iterations: 400 | Hidden Layers: (50,) | Activation: tanh | Batch Size: 102 | Momentum: 0.99 | Learning Rate: 0.001 | Accuracy: 1.00\n",
      "148. Maximum iterations: 400 | Hidden Layers: (50,) | Activation: tanh | Batch Size: 50 | Momentum: 0.9 | Learning Rate: 0.001 | Accuracy: 1.00\n",
      "149. Maximum iterations: 400 | Hidden Layers: (50,) | Activation: tanh | Batch Size: 50 | Momentum: 0.95 | Learning Rate: 0.001 | Accuracy: 1.00\n",
      "150. Maximum iterations: 400 | Hidden Layers: (50,) | Activation: tanh | Batch Size: 50 | Momentum: 0.99 | Learning Rate: 0.001 | Accuracy: 1.00\n",
      "151. Maximum iterations: 400 | Hidden Layers: (50,) | Activation: tanh | Batch Size: 25 | Momentum: 0.9 | Learning Rate: 0.001 | Accuracy: 1.00\n",
      "152. Maximum iterations: 400 | Hidden Layers: (50,) | Activation: tanh | Batch Size: 25 | Momentum: 0.95 | Learning Rate: 0.001 | Accuracy: 1.00\n",
      "153. Maximum iterations: 400 | Hidden Layers: (50,) | Activation: tanh | Batch Size: 25 | Momentum: 0.99 | Learning Rate: 0.001 | Accuracy: 1.00\n",
      "154. Maximum iterations: 400 | Hidden Layers: (50,) | Activation: logistic | Batch Size: 102 | Momentum: 0.9 | Learning Rate: 0.001 | Accuracy: 1.00\n",
      "155. Maximum iterations: 400 | Hidden Layers: (50,) | Activation: logistic | Batch Size: 102 | Momentum: 0.95 | Learning Rate: 0.001 | Accuracy: 1.00\n",
      "156. Maximum iterations: 400 | Hidden Layers: (50,) | Activation: logistic | Batch Size: 102 | Momentum: 0.99 | Learning Rate: 0.001 | Accuracy: 1.00\n",
      "157. Maximum iterations: 400 | Hidden Layers: (50,) | Activation: logistic | Batch Size: 50 | Momentum: 0.9 | Learning Rate: 0.001 | Accuracy: 1.00\n",
      "158. Maximum iterations: 400 | Hidden Layers: (50,) | Activation: logistic | Batch Size: 50 | Momentum: 0.95 | Learning Rate: 0.001 | Accuracy: 1.00\n",
      "159. Maximum iterations: 400 | Hidden Layers: (50,) | Activation: logistic | Batch Size: 50 | Momentum: 0.99 | Learning Rate: 0.001 | Accuracy: 1.00\n",
      "160. Maximum iterations: 400 | Hidden Layers: (50,) | Activation: logistic | Batch Size: 25 | Momentum: 0.9 | Learning Rate: 0.001 | Accuracy: 1.00\n",
      "161. Maximum iterations: 400 | Hidden Layers: (50,) | Activation: logistic | Batch Size: 25 | Momentum: 0.95 | Learning Rate: 0.001 | Accuracy: 1.00\n",
      "162. Maximum iterations: 400 | Hidden Layers: (50,) | Activation: logistic | Batch Size: 25 | Momentum: 0.99 | Learning Rate: 0.001 | Accuracy: 1.00\n",
      "163. Maximum iterations: 400 | Hidden Layers: (50, 50) | Activation: relu | Batch Size: 102 | Momentum: 0.9 | Learning Rate: 0.001 | Accuracy: 1.00\n",
      "164. Maximum iterations: 400 | Hidden Layers: (50, 50) | Activation: relu | Batch Size: 102 | Momentum: 0.95 | Learning Rate: 0.001 | Accuracy: 1.00\n",
      "165. Maximum iterations: 400 | Hidden Layers: (50, 50) | Activation: relu | Batch Size: 102 | Momentum: 0.99 | Learning Rate: 0.001 | Accuracy: 1.00\n",
      "166. Maximum iterations: 400 | Hidden Layers: (50, 50) | Activation: relu | Batch Size: 50 | Momentum: 0.9 | Learning Rate: 0.001 | Accuracy: 1.00\n",
      "167. Maximum iterations: 400 | Hidden Layers: (50, 50) | Activation: relu | Batch Size: 50 | Momentum: 0.95 | Learning Rate: 0.001 | Accuracy: 1.00\n",
      "168. Maximum iterations: 400 | Hidden Layers: (50, 50) | Activation: relu | Batch Size: 50 | Momentum: 0.99 | Learning Rate: 0.001 | Accuracy: 1.00\n",
      "169. Maximum iterations: 400 | Hidden Layers: (50, 50) | Activation: relu | Batch Size: 25 | Momentum: 0.9 | Learning Rate: 0.001 | Accuracy: 1.00\n",
      "170. Maximum iterations: 400 | Hidden Layers: (50, 50) | Activation: relu | Batch Size: 25 | Momentum: 0.95 | Learning Rate: 0.001 | Accuracy: 1.00\n",
      "171. Maximum iterations: 400 | Hidden Layers: (50, 50) | Activation: relu | Batch Size: 25 | Momentum: 0.99 | Learning Rate: 0.001 | Accuracy: 1.00\n",
      "172. Maximum iterations: 400 | Hidden Layers: (50, 50) | Activation: tanh | Batch Size: 102 | Momentum: 0.9 | Learning Rate: 0.001 | Accuracy: 1.00\n",
      "173. Maximum iterations: 400 | Hidden Layers: (50, 50) | Activation: tanh | Batch Size: 102 | Momentum: 0.95 | Learning Rate: 0.001 | Accuracy: 1.00\n",
      "174. Maximum iterations: 400 | Hidden Layers: (50, 50) | Activation: tanh | Batch Size: 102 | Momentum: 0.99 | Learning Rate: 0.001 | Accuracy: 1.00\n",
      "175. Maximum iterations: 400 | Hidden Layers: (50, 50) | Activation: tanh | Batch Size: 50 | Momentum: 0.9 | Learning Rate: 0.001 | Accuracy: 1.00\n",
      "176. Maximum iterations: 400 | Hidden Layers: (50, 50) | Activation: tanh | Batch Size: 50 | Momentum: 0.95 | Learning Rate: 0.001 | Accuracy: 1.00\n",
      "177. Maximum iterations: 400 | Hidden Layers: (50, 50) | Activation: tanh | Batch Size: 50 | Momentum: 0.99 | Learning Rate: 0.001 | Accuracy: 1.00\n",
      "178. Maximum iterations: 400 | Hidden Layers: (50, 50) | Activation: tanh | Batch Size: 25 | Momentum: 0.9 | Learning Rate: 0.001 | Accuracy: 1.00\n",
      "179. Maximum iterations: 400 | Hidden Layers: (50, 50) | Activation: tanh | Batch Size: 25 | Momentum: 0.95 | Learning Rate: 0.001 | Accuracy: 1.00\n",
      "180. Maximum iterations: 400 | Hidden Layers: (50, 50) | Activation: tanh | Batch Size: 25 | Momentum: 0.99 | Learning Rate: 0.001 | Accuracy: 1.00\n",
      "181. Maximum iterations: 400 | Hidden Layers: (50, 50) | Activation: logistic | Batch Size: 102 | Momentum: 0.9 | Learning Rate: 0.001 | Accuracy: 1.00\n",
      "182. Maximum iterations: 400 | Hidden Layers: (50, 50) | Activation: logistic | Batch Size: 102 | Momentum: 0.95 | Learning Rate: 0.001 | Accuracy: 1.00\n",
      "183. Maximum iterations: 400 | Hidden Layers: (50, 50) | Activation: logistic | Batch Size: 102 | Momentum: 0.99 | Learning Rate: 0.001 | Accuracy: 1.00\n",
      "184. Maximum iterations: 400 | Hidden Layers: (50, 50) | Activation: logistic | Batch Size: 50 | Momentum: 0.9 | Learning Rate: 0.001 | Accuracy: 1.00\n",
      "185. Maximum iterations: 400 | Hidden Layers: (50, 50) | Activation: logistic | Batch Size: 50 | Momentum: 0.95 | Learning Rate: 0.001 | Accuracy: 1.00\n",
      "186. Maximum iterations: 400 | Hidden Layers: (50, 50) | Activation: logistic | Batch Size: 50 | Momentum: 0.99 | Learning Rate: 0.001 | Accuracy: 1.00\n",
      "187. Maximum iterations: 400 | Hidden Layers: (50, 50) | Activation: logistic | Batch Size: 25 | Momentum: 0.9 | Learning Rate: 0.001 | Accuracy: 1.00\n",
      "188. Maximum iterations: 400 | Hidden Layers: (50, 50) | Activation: logistic | Batch Size: 25 | Momentum: 0.95 | Learning Rate: 0.001 | Accuracy: 1.00\n",
      "189. Maximum iterations: 400 | Hidden Layers: (50, 50) | Activation: logistic | Batch Size: 25 | Momentum: 0.99 | Learning Rate: 0.001 | Accuracy: 1.00\n",
      "190. Maximum iterations: 400 | Hidden Layers: (25, 25, 25) | Activation: relu | Batch Size: 102 | Momentum: 0.9 | Learning Rate: 0.001 | Accuracy: 1.00\n",
      "191. Maximum iterations: 400 | Hidden Layers: (25, 25, 25) | Activation: relu | Batch Size: 102 | Momentum: 0.95 | Learning Rate: 0.001 | Accuracy: 1.00\n",
      "192. Maximum iterations: 400 | Hidden Layers: (25, 25, 25) | Activation: relu | Batch Size: 102 | Momentum: 0.99 | Learning Rate: 0.001 | Accuracy: 1.00\n",
      "193. Maximum iterations: 400 | Hidden Layers: (25, 25, 25) | Activation: relu | Batch Size: 50 | Momentum: 0.9 | Learning Rate: 0.001 | Accuracy: 1.00\n",
      "194. Maximum iterations: 400 | Hidden Layers: (25, 25, 25) | Activation: relu | Batch Size: 50 | Momentum: 0.95 | Learning Rate: 0.001 | Accuracy: 1.00\n",
      "195. Maximum iterations: 400 | Hidden Layers: (25, 25, 25) | Activation: relu | Batch Size: 50 | Momentum: 0.99 | Learning Rate: 0.001 | Accuracy: 1.00\n",
      "196. Maximum iterations: 400 | Hidden Layers: (25, 25, 25) | Activation: relu | Batch Size: 25 | Momentum: 0.9 | Learning Rate: 0.001 | Accuracy: 1.00\n",
      "197. Maximum iterations: 400 | Hidden Layers: (25, 25, 25) | Activation: relu | Batch Size: 25 | Momentum: 0.95 | Learning Rate: 0.001 | Accuracy: 1.00\n",
      "198. Maximum iterations: 400 | Hidden Layers: (25, 25, 25) | Activation: relu | Batch Size: 25 | Momentum: 0.99 | Learning Rate: 0.001 | Accuracy: 1.00\n",
      "199. Maximum iterations: 400 | Hidden Layers: (25, 25, 25) | Activation: tanh | Batch Size: 102 | Momentum: 0.9 | Learning Rate: 0.001 | Accuracy: 1.00\n",
      "200. Maximum iterations: 400 | Hidden Layers: (25, 25, 25) | Activation: tanh | Batch Size: 102 | Momentum: 0.95 | Learning Rate: 0.001 | Accuracy: 1.00\n",
      "201. Maximum iterations: 400 | Hidden Layers: (25, 25, 25) | Activation: tanh | Batch Size: 102 | Momentum: 0.99 | Learning Rate: 0.001 | Accuracy: 1.00\n",
      "202. Maximum iterations: 400 | Hidden Layers: (25, 25, 25) | Activation: tanh | Batch Size: 50 | Momentum: 0.9 | Learning Rate: 0.001 | Accuracy: 1.00\n",
      "203. Maximum iterations: 400 | Hidden Layers: (25, 25, 25) | Activation: tanh | Batch Size: 50 | Momentum: 0.95 | Learning Rate: 0.001 | Accuracy: 1.00\n",
      "204. Maximum iterations: 400 | Hidden Layers: (25, 25, 25) | Activation: tanh | Batch Size: 50 | Momentum: 0.99 | Learning Rate: 0.001 | Accuracy: 1.00\n",
      "205. Maximum iterations: 400 | Hidden Layers: (25, 25, 25) | Activation: tanh | Batch Size: 25 | Momentum: 0.9 | Learning Rate: 0.001 | Accuracy: 1.00\n",
      "206. Maximum iterations: 400 | Hidden Layers: (25, 25, 25) | Activation: tanh | Batch Size: 25 | Momentum: 0.95 | Learning Rate: 0.001 | Accuracy: 1.00\n",
      "207. Maximum iterations: 400 | Hidden Layers: (25, 25, 25) | Activation: tanh | Batch Size: 25 | Momentum: 0.99 | Learning Rate: 0.001 | Accuracy: 1.00\n",
      "208. Maximum iterations: 400 | Hidden Layers: (25, 25, 25) | Activation: logistic | Batch Size: 102 | Momentum: 0.9 | Learning Rate: 0.001 | Accuracy: 1.00\n",
      "209. Maximum iterations: 400 | Hidden Layers: (25, 25, 25) | Activation: logistic | Batch Size: 102 | Momentum: 0.95 | Learning Rate: 0.001 | Accuracy: 1.00\n",
      "210. Maximum iterations: 400 | Hidden Layers: (25, 25, 25) | Activation: logistic | Batch Size: 102 | Momentum: 0.99 | Learning Rate: 0.001 | Accuracy: 1.00\n",
      "211. Maximum iterations: 400 | Hidden Layers: (25, 25, 25) | Activation: logistic | Batch Size: 50 | Momentum: 0.9 | Learning Rate: 0.001 | Accuracy: 1.00\n",
      "212. Maximum iterations: 400 | Hidden Layers: (25, 25, 25) | Activation: logistic | Batch Size: 50 | Momentum: 0.95 | Learning Rate: 0.001 | Accuracy: 1.00\n",
      "213. Maximum iterations: 400 | Hidden Layers: (25, 25, 25) | Activation: logistic | Batch Size: 50 | Momentum: 0.99 | Learning Rate: 0.001 | Accuracy: 1.00\n",
      "214. Maximum iterations: 400 | Hidden Layers: (25, 25, 25) | Activation: logistic | Batch Size: 25 | Momentum: 0.9 | Learning Rate: 0.001 | Accuracy: 1.00\n",
      "215. Maximum iterations: 400 | Hidden Layers: (25, 25, 25) | Activation: logistic | Batch Size: 25 | Momentum: 0.95 | Learning Rate: 0.001 | Accuracy: 1.00\n",
      "216. Maximum iterations: 400 | Hidden Layers: (25, 25, 25) | Activation: logistic | Batch Size: 25 | Momentum: 0.99 | Learning Rate: 0.001 | Accuracy: 1.00\n",
      "217. Maximum iterations: 200 | Hidden Layers: (100,) | Activation: relu | Batch Size: 102 | Momentum: 0.9 | Learning Rate: 0.001 | Accuracy: 1.00\n",
      "218. Maximum iterations: 200 | Hidden Layers: (100,) | Activation: relu | Batch Size: 102 | Momentum: 0.95 | Learning Rate: 0.001 | Accuracy: 1.00\n",
      "219. Maximum iterations: 200 | Hidden Layers: (100,) | Activation: relu | Batch Size: 102 | Momentum: 0.99 | Learning Rate: 0.001 | Accuracy: 1.00\n",
      "220. Maximum iterations: 200 | Hidden Layers: (100,) | Activation: relu | Batch Size: 50 | Momentum: 0.9 | Learning Rate: 0.001 | Accuracy: 1.00\n",
      "221. Maximum iterations: 200 | Hidden Layers: (100,) | Activation: relu | Batch Size: 50 | Momentum: 0.95 | Learning Rate: 0.001 | Accuracy: 1.00\n",
      "222. Maximum iterations: 200 | Hidden Layers: (100,) | Activation: relu | Batch Size: 50 | Momentum: 0.99 | Learning Rate: 0.001 | Accuracy: 1.00\n",
      "223. Maximum iterations: 200 | Hidden Layers: (100,) | Activation: relu | Batch Size: 25 | Momentum: 0.9 | Learning Rate: 0.001 | Accuracy: 1.00\n",
      "224. Maximum iterations: 200 | Hidden Layers: (100,) | Activation: relu | Batch Size: 25 | Momentum: 0.95 | Learning Rate: 0.001 | Accuracy: 1.00\n",
      "225. Maximum iterations: 200 | Hidden Layers: (100,) | Activation: relu | Batch Size: 25 | Momentum: 0.99 | Learning Rate: 0.001 | Accuracy: 1.00\n",
      "226. Maximum iterations: 200 | Hidden Layers: (100,) | Activation: tanh | Batch Size: 102 | Momentum: 0.9 | Learning Rate: 0.001 | Accuracy: 1.00\n",
      "227. Maximum iterations: 200 | Hidden Layers: (100,) | Activation: tanh | Batch Size: 102 | Momentum: 0.95 | Learning Rate: 0.001 | Accuracy: 1.00\n",
      "228. Maximum iterations: 200 | Hidden Layers: (100,) | Activation: tanh | Batch Size: 102 | Momentum: 0.99 | Learning Rate: 0.001 | Accuracy: 1.00\n",
      "229. Maximum iterations: 200 | Hidden Layers: (100,) | Activation: tanh | Batch Size: 50 | Momentum: 0.9 | Learning Rate: 0.001 | Accuracy: 1.00\n",
      "230. Maximum iterations: 200 | Hidden Layers: (100,) | Activation: tanh | Batch Size: 50 | Momentum: 0.95 | Learning Rate: 0.001 | Accuracy: 1.00\n",
      "231. Maximum iterations: 200 | Hidden Layers: (100,) | Activation: tanh | Batch Size: 50 | Momentum: 0.99 | Learning Rate: 0.001 | Accuracy: 1.00\n",
      "232. Maximum iterations: 200 | Hidden Layers: (100,) | Activation: tanh | Batch Size: 25 | Momentum: 0.9 | Learning Rate: 0.001 | Accuracy: 1.00\n",
      "233. Maximum iterations: 200 | Hidden Layers: (100,) | Activation: tanh | Batch Size: 25 | Momentum: 0.95 | Learning Rate: 0.001 | Accuracy: 1.00\n",
      "234. Maximum iterations: 200 | Hidden Layers: (100,) | Activation: tanh | Batch Size: 25 | Momentum: 0.99 | Learning Rate: 0.001 | Accuracy: 1.00\n",
      "235. Maximum iterations: 200 | Hidden Layers: (100,) | Activation: logistic | Batch Size: 102 | Momentum: 0.9 | Learning Rate: 0.001 | Accuracy: 1.00\n",
      "236. Maximum iterations: 200 | Hidden Layers: (100,) | Activation: logistic | Batch Size: 102 | Momentum: 0.95 | Learning Rate: 0.001 | Accuracy: 1.00\n",
      "237. Maximum iterations: 200 | Hidden Layers: (100,) | Activation: logistic | Batch Size: 102 | Momentum: 0.99 | Learning Rate: 0.001 | Accuracy: 1.00\n",
      "238. Maximum iterations: 200 | Hidden Layers: (100,) | Activation: logistic | Batch Size: 50 | Momentum: 0.9 | Learning Rate: 0.001 | Accuracy: 1.00\n",
      "239. Maximum iterations: 200 | Hidden Layers: (100,) | Activation: logistic | Batch Size: 50 | Momentum: 0.95 | Learning Rate: 0.001 | Accuracy: 1.00\n",
      "240. Maximum iterations: 200 | Hidden Layers: (100,) | Activation: logistic | Batch Size: 50 | Momentum: 0.99 | Learning Rate: 0.001 | Accuracy: 1.00\n",
      "241. Maximum iterations: 200 | Hidden Layers: (100,) | Activation: logistic | Batch Size: 25 | Momentum: 0.9 | Learning Rate: 0.001 | Accuracy: 1.00\n",
      "242. Maximum iterations: 200 | Hidden Layers: (100,) | Activation: logistic | Batch Size: 25 | Momentum: 0.95 | Learning Rate: 0.001 | Accuracy: 1.00\n",
      "243. Maximum iterations: 200 | Hidden Layers: (100,) | Activation: logistic | Batch Size: 25 | Momentum: 0.99 | Learning Rate: 0.001 | Accuracy: 1.00\n",
      "244. Maximum iterations: 200 | Hidden Layers: (50,) | Activation: relu | Batch Size: 102 | Momentum: 0.9 | Learning Rate: 0.001 | Accuracy: 1.00\n",
      "245. Maximum iterations: 200 | Hidden Layers: (50,) | Activation: relu | Batch Size: 102 | Momentum: 0.95 | Learning Rate: 0.001 | Accuracy: 1.00\n",
      "246. Maximum iterations: 200 | Hidden Layers: (50,) | Activation: relu | Batch Size: 102 | Momentum: 0.99 | Learning Rate: 0.001 | Accuracy: 1.00\n",
      "247. Maximum iterations: 200 | Hidden Layers: (50,) | Activation: relu | Batch Size: 50 | Momentum: 0.9 | Learning Rate: 0.001 | Accuracy: 1.00\n",
      "248. Maximum iterations: 200 | Hidden Layers: (50,) | Activation: relu | Batch Size: 50 | Momentum: 0.95 | Learning Rate: 0.001 | Accuracy: 1.00\n",
      "249. Maximum iterations: 200 | Hidden Layers: (50,) | Activation: relu | Batch Size: 50 | Momentum: 0.99 | Learning Rate: 0.001 | Accuracy: 1.00\n",
      "250. Maximum iterations: 200 | Hidden Layers: (50,) | Activation: relu | Batch Size: 25 | Momentum: 0.9 | Learning Rate: 0.001 | Accuracy: 1.00\n",
      "251. Maximum iterations: 200 | Hidden Layers: (50,) | Activation: relu | Batch Size: 25 | Momentum: 0.95 | Learning Rate: 0.001 | Accuracy: 1.00\n",
      "252. Maximum iterations: 200 | Hidden Layers: (50,) | Activation: relu | Batch Size: 25 | Momentum: 0.99 | Learning Rate: 0.001 | Accuracy: 1.00\n",
      "253. Maximum iterations: 200 | Hidden Layers: (50,) | Activation: tanh | Batch Size: 102 | Momentum: 0.9 | Learning Rate: 0.001 | Accuracy: 1.00\n",
      "254. Maximum iterations: 200 | Hidden Layers: (50,) | Activation: tanh | Batch Size: 102 | Momentum: 0.95 | Learning Rate: 0.001 | Accuracy: 1.00\n",
      "255. Maximum iterations: 200 | Hidden Layers: (50,) | Activation: tanh | Batch Size: 102 | Momentum: 0.99 | Learning Rate: 0.001 | Accuracy: 1.00\n",
      "256. Maximum iterations: 200 | Hidden Layers: (50,) | Activation: tanh | Batch Size: 50 | Momentum: 0.9 | Learning Rate: 0.001 | Accuracy: 1.00\n",
      "257. Maximum iterations: 200 | Hidden Layers: (50,) | Activation: tanh | Batch Size: 50 | Momentum: 0.95 | Learning Rate: 0.001 | Accuracy: 1.00\n",
      "258. Maximum iterations: 200 | Hidden Layers: (50,) | Activation: tanh | Batch Size: 50 | Momentum: 0.99 | Learning Rate: 0.001 | Accuracy: 1.00\n",
      "259. Maximum iterations: 200 | Hidden Layers: (50,) | Activation: tanh | Batch Size: 25 | Momentum: 0.9 | Learning Rate: 0.001 | Accuracy: 1.00\n",
      "260. Maximum iterations: 200 | Hidden Layers: (50,) | Activation: tanh | Batch Size: 25 | Momentum: 0.95 | Learning Rate: 0.001 | Accuracy: 1.00\n",
      "261. Maximum iterations: 200 | Hidden Layers: (50,) | Activation: tanh | Batch Size: 25 | Momentum: 0.99 | Learning Rate: 0.001 | Accuracy: 1.00\n",
      "262. Maximum iterations: 200 | Hidden Layers: (50,) | Activation: logistic | Batch Size: 102 | Momentum: 0.9 | Learning Rate: 0.001 | Accuracy: 0.90\n",
      "263. Maximum iterations: 200 | Hidden Layers: (50,) | Activation: logistic | Batch Size: 102 | Momentum: 0.95 | Learning Rate: 0.001 | Accuracy: 0.90\n",
      "264. Maximum iterations: 200 | Hidden Layers: (50,) | Activation: logistic | Batch Size: 102 | Momentum: 0.99 | Learning Rate: 0.001 | Accuracy: 0.90\n",
      "265. Maximum iterations: 200 | Hidden Layers: (50,) | Activation: logistic | Batch Size: 50 | Momentum: 0.9 | Learning Rate: 0.001 | Accuracy: 1.00\n",
      "266. Maximum iterations: 200 | Hidden Layers: (50,) | Activation: logistic | Batch Size: 50 | Momentum: 0.95 | Learning Rate: 0.001 | Accuracy: 1.00\n",
      "267. Maximum iterations: 200 | Hidden Layers: (50,) | Activation: logistic | Batch Size: 50 | Momentum: 0.99 | Learning Rate: 0.001 | Accuracy: 1.00\n",
      "268. Maximum iterations: 200 | Hidden Layers: (50,) | Activation: logistic | Batch Size: 25 | Momentum: 0.9 | Learning Rate: 0.001 | Accuracy: 1.00\n",
      "269. Maximum iterations: 200 | Hidden Layers: (50,) | Activation: logistic | Batch Size: 25 | Momentum: 0.95 | Learning Rate: 0.001 | Accuracy: 1.00\n",
      "270. Maximum iterations: 200 | Hidden Layers: (50,) | Activation: logistic | Batch Size: 25 | Momentum: 0.99 | Learning Rate: 0.001 | Accuracy: 1.00\n",
      "271. Maximum iterations: 200 | Hidden Layers: (50, 50) | Activation: relu | Batch Size: 102 | Momentum: 0.9 | Learning Rate: 0.001 | Accuracy: 1.00\n",
      "272. Maximum iterations: 200 | Hidden Layers: (50, 50) | Activation: relu | Batch Size: 102 | Momentum: 0.95 | Learning Rate: 0.001 | Accuracy: 1.00\n",
      "273. Maximum iterations: 200 | Hidden Layers: (50, 50) | Activation: relu | Batch Size: 102 | Momentum: 0.99 | Learning Rate: 0.001 | Accuracy: 1.00\n",
      "274. Maximum iterations: 200 | Hidden Layers: (50, 50) | Activation: relu | Batch Size: 50 | Momentum: 0.9 | Learning Rate: 0.001 | Accuracy: 1.00\n",
      "275. Maximum iterations: 200 | Hidden Layers: (50, 50) | Activation: relu | Batch Size: 50 | Momentum: 0.95 | Learning Rate: 0.001 | Accuracy: 1.00\n",
      "276. Maximum iterations: 200 | Hidden Layers: (50, 50) | Activation: relu | Batch Size: 50 | Momentum: 0.99 | Learning Rate: 0.001 | Accuracy: 1.00\n",
      "277. Maximum iterations: 200 | Hidden Layers: (50, 50) | Activation: relu | Batch Size: 25 | Momentum: 0.9 | Learning Rate: 0.001 | Accuracy: 1.00\n",
      "278. Maximum iterations: 200 | Hidden Layers: (50, 50) | Activation: relu | Batch Size: 25 | Momentum: 0.95 | Learning Rate: 0.001 | Accuracy: 1.00\n",
      "279. Maximum iterations: 200 | Hidden Layers: (50, 50) | Activation: relu | Batch Size: 25 | Momentum: 0.99 | Learning Rate: 0.001 | Accuracy: 1.00\n",
      "280. Maximum iterations: 200 | Hidden Layers: (50, 50) | Activation: tanh | Batch Size: 102 | Momentum: 0.9 | Learning Rate: 0.001 | Accuracy: 1.00\n",
      "281. Maximum iterations: 200 | Hidden Layers: (50, 50) | Activation: tanh | Batch Size: 102 | Momentum: 0.95 | Learning Rate: 0.001 | Accuracy: 1.00\n",
      "282. Maximum iterations: 200 | Hidden Layers: (50, 50) | Activation: tanh | Batch Size: 102 | Momentum: 0.99 | Learning Rate: 0.001 | Accuracy: 1.00\n",
      "283. Maximum iterations: 200 | Hidden Layers: (50, 50) | Activation: tanh | Batch Size: 50 | Momentum: 0.9 | Learning Rate: 0.001 | Accuracy: 1.00\n",
      "284. Maximum iterations: 200 | Hidden Layers: (50, 50) | Activation: tanh | Batch Size: 50 | Momentum: 0.95 | Learning Rate: 0.001 | Accuracy: 1.00\n",
      "285. Maximum iterations: 200 | Hidden Layers: (50, 50) | Activation: tanh | Batch Size: 50 | Momentum: 0.99 | Learning Rate: 0.001 | Accuracy: 1.00\n",
      "286. Maximum iterations: 200 | Hidden Layers: (50, 50) | Activation: tanh | Batch Size: 25 | Momentum: 0.9 | Learning Rate: 0.001 | Accuracy: 1.00\n",
      "287. Maximum iterations: 200 | Hidden Layers: (50, 50) | Activation: tanh | Batch Size: 25 | Momentum: 0.95 | Learning Rate: 0.001 | Accuracy: 1.00\n",
      "288. Maximum iterations: 200 | Hidden Layers: (50, 50) | Activation: tanh | Batch Size: 25 | Momentum: 0.99 | Learning Rate: 0.001 | Accuracy: 1.00\n",
      "289. Maximum iterations: 200 | Hidden Layers: (50, 50) | Activation: logistic | Batch Size: 102 | Momentum: 0.9 | Learning Rate: 0.001 | Accuracy: 1.00\n",
      "290. Maximum iterations: 200 | Hidden Layers: (50, 50) | Activation: logistic | Batch Size: 102 | Momentum: 0.95 | Learning Rate: 0.001 | Accuracy: 1.00\n",
      "291. Maximum iterations: 200 | Hidden Layers: (50, 50) | Activation: logistic | Batch Size: 102 | Momentum: 0.99 | Learning Rate: 0.001 | Accuracy: 1.00\n",
      "292. Maximum iterations: 200 | Hidden Layers: (50, 50) | Activation: logistic | Batch Size: 50 | Momentum: 0.9 | Learning Rate: 0.001 | Accuracy: 1.00\n",
      "293. Maximum iterations: 200 | Hidden Layers: (50, 50) | Activation: logistic | Batch Size: 50 | Momentum: 0.95 | Learning Rate: 0.001 | Accuracy: 1.00\n",
      "294. Maximum iterations: 200 | Hidden Layers: (50, 50) | Activation: logistic | Batch Size: 50 | Momentum: 0.99 | Learning Rate: 0.001 | Accuracy: 1.00\n",
      "295. Maximum iterations: 200 | Hidden Layers: (50, 50) | Activation: logistic | Batch Size: 25 | Momentum: 0.9 | Learning Rate: 0.001 | Accuracy: 1.00\n",
      "296. Maximum iterations: 200 | Hidden Layers: (50, 50) | Activation: logistic | Batch Size: 25 | Momentum: 0.95 | Learning Rate: 0.001 | Accuracy: 1.00\n",
      "297. Maximum iterations: 200 | Hidden Layers: (50, 50) | Activation: logistic | Batch Size: 25 | Momentum: 0.99 | Learning Rate: 0.001 | Accuracy: 1.00\n",
      "298. Maximum iterations: 200 | Hidden Layers: (25, 25, 25) | Activation: relu | Batch Size: 102 | Momentum: 0.9 | Learning Rate: 0.001 | Accuracy: 1.00\n",
      "299. Maximum iterations: 200 | Hidden Layers: (25, 25, 25) | Activation: relu | Batch Size: 102 | Momentum: 0.95 | Learning Rate: 0.001 | Accuracy: 1.00\n",
      "300. Maximum iterations: 200 | Hidden Layers: (25, 25, 25) | Activation: relu | Batch Size: 102 | Momentum: 0.99 | Learning Rate: 0.001 | Accuracy: 1.00\n",
      "301. Maximum iterations: 200 | Hidden Layers: (25, 25, 25) | Activation: relu | Batch Size: 50 | Momentum: 0.9 | Learning Rate: 0.001 | Accuracy: 1.00\n",
      "302. Maximum iterations: 200 | Hidden Layers: (25, 25, 25) | Activation: relu | Batch Size: 50 | Momentum: 0.95 | Learning Rate: 0.001 | Accuracy: 1.00\n",
      "303. Maximum iterations: 200 | Hidden Layers: (25, 25, 25) | Activation: relu | Batch Size: 50 | Momentum: 0.99 | Learning Rate: 0.001 | Accuracy: 1.00\n",
      "304. Maximum iterations: 200 | Hidden Layers: (25, 25, 25) | Activation: relu | Batch Size: 25 | Momentum: 0.9 | Learning Rate: 0.001 | Accuracy: 1.00\n",
      "305. Maximum iterations: 200 | Hidden Layers: (25, 25, 25) | Activation: relu | Batch Size: 25 | Momentum: 0.95 | Learning Rate: 0.001 | Accuracy: 1.00\n",
      "306. Maximum iterations: 200 | Hidden Layers: (25, 25, 25) | Activation: relu | Batch Size: 25 | Momentum: 0.99 | Learning Rate: 0.001 | Accuracy: 1.00\n",
      "307. Maximum iterations: 200 | Hidden Layers: (25, 25, 25) | Activation: tanh | Batch Size: 102 | Momentum: 0.9 | Learning Rate: 0.001 | Accuracy: 1.00\n",
      "308. Maximum iterations: 200 | Hidden Layers: (25, 25, 25) | Activation: tanh | Batch Size: 102 | Momentum: 0.95 | Learning Rate: 0.001 | Accuracy: 1.00\n",
      "309. Maximum iterations: 200 | Hidden Layers: (25, 25, 25) | Activation: tanh | Batch Size: 102 | Momentum: 0.99 | Learning Rate: 0.001 | Accuracy: 1.00\n",
      "310. Maximum iterations: 200 | Hidden Layers: (25, 25, 25) | Activation: tanh | Batch Size: 50 | Momentum: 0.9 | Learning Rate: 0.001 | Accuracy: 1.00\n",
      "311. Maximum iterations: 200 | Hidden Layers: (25, 25, 25) | Activation: tanh | Batch Size: 50 | Momentum: 0.95 | Learning Rate: 0.001 | Accuracy: 1.00\n",
      "312. Maximum iterations: 200 | Hidden Layers: (25, 25, 25) | Activation: tanh | Batch Size: 50 | Momentum: 0.99 | Learning Rate: 0.001 | Accuracy: 1.00\n",
      "313. Maximum iterations: 200 | Hidden Layers: (25, 25, 25) | Activation: tanh | Batch Size: 25 | Momentum: 0.9 | Learning Rate: 0.001 | Accuracy: 1.00\n",
      "314. Maximum iterations: 200 | Hidden Layers: (25, 25, 25) | Activation: tanh | Batch Size: 25 | Momentum: 0.95 | Learning Rate: 0.001 | Accuracy: 1.00\n",
      "315. Maximum iterations: 200 | Hidden Layers: (25, 25, 25) | Activation: tanh | Batch Size: 25 | Momentum: 0.99 | Learning Rate: 0.001 | Accuracy: 1.00\n",
      "316. Maximum iterations: 200 | Hidden Layers: (25, 25, 25) | Activation: logistic | Batch Size: 102 | Momentum: 0.9 | Learning Rate: 0.001 | Accuracy: 1.00\n",
      "317. Maximum iterations: 200 | Hidden Layers: (25, 25, 25) | Activation: logistic | Batch Size: 102 | Momentum: 0.95 | Learning Rate: 0.001 | Accuracy: 1.00\n",
      "318. Maximum iterations: 200 | Hidden Layers: (25, 25, 25) | Activation: logistic | Batch Size: 102 | Momentum: 0.99 | Learning Rate: 0.001 | Accuracy: 1.00\n",
      "319. Maximum iterations: 200 | Hidden Layers: (25, 25, 25) | Activation: logistic | Batch Size: 50 | Momentum: 0.9 | Learning Rate: 0.001 | Accuracy: 1.00\n",
      "320. Maximum iterations: 200 | Hidden Layers: (25, 25, 25) | Activation: logistic | Batch Size: 50 | Momentum: 0.95 | Learning Rate: 0.001 | Accuracy: 1.00\n",
      "321. Maximum iterations: 200 | Hidden Layers: (25, 25, 25) | Activation: logistic | Batch Size: 50 | Momentum: 0.99 | Learning Rate: 0.001 | Accuracy: 1.00\n",
      "322. Maximum iterations: 200 | Hidden Layers: (25, 25, 25) | Activation: logistic | Batch Size: 25 | Momentum: 0.9 | Learning Rate: 0.001 | Accuracy: 1.00\n",
      "323. Maximum iterations: 200 | Hidden Layers: (25, 25, 25) | Activation: logistic | Batch Size: 25 | Momentum: 0.95 | Learning Rate: 0.001 | Accuracy: 1.00\n",
      "324. Maximum iterations: 200 | Hidden Layers: (25, 25, 25) | Activation: logistic | Batch Size: 25 | Momentum: 0.99 | Learning Rate: 0.001 | Accuracy: 1.00\n",
      "325. Maximum iterations: 600 | Hidden Layers: (100,) | Activation: relu | Batch Size: 102 | Momentum: 0.9 | Learning Rate: 0.01 | Accuracy: 1.00\n",
      "326. Maximum iterations: 600 | Hidden Layers: (100,) | Activation: relu | Batch Size: 102 | Momentum: 0.95 | Learning Rate: 0.01 | Accuracy: 1.00\n",
      "327. Maximum iterations: 600 | Hidden Layers: (100,) | Activation: relu | Batch Size: 102 | Momentum: 0.99 | Learning Rate: 0.01 | Accuracy: 1.00\n",
      "328. Maximum iterations: 600 | Hidden Layers: (100,) | Activation: relu | Batch Size: 50 | Momentum: 0.9 | Learning Rate: 0.01 | Accuracy: 1.00\n",
      "329. Maximum iterations: 600 | Hidden Layers: (100,) | Activation: relu | Batch Size: 50 | Momentum: 0.95 | Learning Rate: 0.01 | Accuracy: 1.00\n",
      "330. Maximum iterations: 600 | Hidden Layers: (100,) | Activation: relu | Batch Size: 50 | Momentum: 0.99 | Learning Rate: 0.01 | Accuracy: 1.00\n",
      "331. Maximum iterations: 600 | Hidden Layers: (100,) | Activation: relu | Batch Size: 25 | Momentum: 0.9 | Learning Rate: 0.01 | Accuracy: 1.00\n",
      "332. Maximum iterations: 600 | Hidden Layers: (100,) | Activation: relu | Batch Size: 25 | Momentum: 0.95 | Learning Rate: 0.01 | Accuracy: 1.00\n",
      "333. Maximum iterations: 600 | Hidden Layers: (100,) | Activation: relu | Batch Size: 25 | Momentum: 0.99 | Learning Rate: 0.01 | Accuracy: 1.00\n",
      "334. Maximum iterations: 600 | Hidden Layers: (100,) | Activation: tanh | Batch Size: 102 | Momentum: 0.9 | Learning Rate: 0.01 | Accuracy: 1.00\n",
      "335. Maximum iterations: 600 | Hidden Layers: (100,) | Activation: tanh | Batch Size: 102 | Momentum: 0.95 | Learning Rate: 0.01 | Accuracy: 1.00\n",
      "336. Maximum iterations: 600 | Hidden Layers: (100,) | Activation: tanh | Batch Size: 102 | Momentum: 0.99 | Learning Rate: 0.01 | Accuracy: 1.00\n",
      "337. Maximum iterations: 600 | Hidden Layers: (100,) | Activation: tanh | Batch Size: 50 | Momentum: 0.9 | Learning Rate: 0.01 | Accuracy: 1.00\n",
      "338. Maximum iterations: 600 | Hidden Layers: (100,) | Activation: tanh | Batch Size: 50 | Momentum: 0.95 | Learning Rate: 0.01 | Accuracy: 1.00\n",
      "339. Maximum iterations: 600 | Hidden Layers: (100,) | Activation: tanh | Batch Size: 50 | Momentum: 0.99 | Learning Rate: 0.01 | Accuracy: 1.00\n",
      "340. Maximum iterations: 600 | Hidden Layers: (100,) | Activation: tanh | Batch Size: 25 | Momentum: 0.9 | Learning Rate: 0.01 | Accuracy: 1.00\n",
      "341. Maximum iterations: 600 | Hidden Layers: (100,) | Activation: tanh | Batch Size: 25 | Momentum: 0.95 | Learning Rate: 0.01 | Accuracy: 1.00\n",
      "342. Maximum iterations: 600 | Hidden Layers: (100,) | Activation: tanh | Batch Size: 25 | Momentum: 0.99 | Learning Rate: 0.01 | Accuracy: 1.00\n",
      "343. Maximum iterations: 600 | Hidden Layers: (100,) | Activation: logistic | Batch Size: 102 | Momentum: 0.9 | Learning Rate: 0.01 | Accuracy: 1.00\n",
      "344. Maximum iterations: 600 | Hidden Layers: (100,) | Activation: logistic | Batch Size: 102 | Momentum: 0.95 | Learning Rate: 0.01 | Accuracy: 1.00\n",
      "345. Maximum iterations: 600 | Hidden Layers: (100,) | Activation: logistic | Batch Size: 102 | Momentum: 0.99 | Learning Rate: 0.01 | Accuracy: 1.00\n",
      "346. Maximum iterations: 600 | Hidden Layers: (100,) | Activation: logistic | Batch Size: 50 | Momentum: 0.9 | Learning Rate: 0.01 | Accuracy: 1.00\n",
      "347. Maximum iterations: 600 | Hidden Layers: (100,) | Activation: logistic | Batch Size: 50 | Momentum: 0.95 | Learning Rate: 0.01 | Accuracy: 1.00\n",
      "348. Maximum iterations: 600 | Hidden Layers: (100,) | Activation: logistic | Batch Size: 50 | Momentum: 0.99 | Learning Rate: 0.01 | Accuracy: 1.00\n",
      "349. Maximum iterations: 600 | Hidden Layers: (100,) | Activation: logistic | Batch Size: 25 | Momentum: 0.9 | Learning Rate: 0.01 | Accuracy: 1.00\n",
      "350. Maximum iterations: 600 | Hidden Layers: (100,) | Activation: logistic | Batch Size: 25 | Momentum: 0.95 | Learning Rate: 0.01 | Accuracy: 1.00\n",
      "351. Maximum iterations: 600 | Hidden Layers: (100,) | Activation: logistic | Batch Size: 25 | Momentum: 0.99 | Learning Rate: 0.01 | Accuracy: 1.00\n",
      "352. Maximum iterations: 600 | Hidden Layers: (50,) | Activation: relu | Batch Size: 102 | Momentum: 0.9 | Learning Rate: 0.01 | Accuracy: 1.00\n",
      "353. Maximum iterations: 600 | Hidden Layers: (50,) | Activation: relu | Batch Size: 102 | Momentum: 0.95 | Learning Rate: 0.01 | Accuracy: 1.00\n",
      "354. Maximum iterations: 600 | Hidden Layers: (50,) | Activation: relu | Batch Size: 102 | Momentum: 0.99 | Learning Rate: 0.01 | Accuracy: 1.00\n",
      "355. Maximum iterations: 600 | Hidden Layers: (50,) | Activation: relu | Batch Size: 50 | Momentum: 0.9 | Learning Rate: 0.01 | Accuracy: 1.00\n",
      "356. Maximum iterations: 600 | Hidden Layers: (50,) | Activation: relu | Batch Size: 50 | Momentum: 0.95 | Learning Rate: 0.01 | Accuracy: 1.00\n",
      "357. Maximum iterations: 600 | Hidden Layers: (50,) | Activation: relu | Batch Size: 50 | Momentum: 0.99 | Learning Rate: 0.01 | Accuracy: 1.00\n",
      "358. Maximum iterations: 600 | Hidden Layers: (50,) | Activation: relu | Batch Size: 25 | Momentum: 0.9 | Learning Rate: 0.01 | Accuracy: 1.00\n",
      "359. Maximum iterations: 600 | Hidden Layers: (50,) | Activation: relu | Batch Size: 25 | Momentum: 0.95 | Learning Rate: 0.01 | Accuracy: 1.00\n",
      "360. Maximum iterations: 600 | Hidden Layers: (50,) | Activation: relu | Batch Size: 25 | Momentum: 0.99 | Learning Rate: 0.01 | Accuracy: 1.00\n",
      "361. Maximum iterations: 600 | Hidden Layers: (50,) | Activation: tanh | Batch Size: 102 | Momentum: 0.9 | Learning Rate: 0.01 | Accuracy: 1.00\n",
      "362. Maximum iterations: 600 | Hidden Layers: (50,) | Activation: tanh | Batch Size: 102 | Momentum: 0.95 | Learning Rate: 0.01 | Accuracy: 1.00\n",
      "363. Maximum iterations: 600 | Hidden Layers: (50,) | Activation: tanh | Batch Size: 102 | Momentum: 0.99 | Learning Rate: 0.01 | Accuracy: 1.00\n",
      "364. Maximum iterations: 600 | Hidden Layers: (50,) | Activation: tanh | Batch Size: 50 | Momentum: 0.9 | Learning Rate: 0.01 | Accuracy: 1.00\n",
      "365. Maximum iterations: 600 | Hidden Layers: (50,) | Activation: tanh | Batch Size: 50 | Momentum: 0.95 | Learning Rate: 0.01 | Accuracy: 1.00\n",
      "366. Maximum iterations: 600 | Hidden Layers: (50,) | Activation: tanh | Batch Size: 50 | Momentum: 0.99 | Learning Rate: 0.01 | Accuracy: 1.00\n",
      "367. Maximum iterations: 600 | Hidden Layers: (50,) | Activation: tanh | Batch Size: 25 | Momentum: 0.9 | Learning Rate: 0.01 | Accuracy: 1.00\n",
      "368. Maximum iterations: 600 | Hidden Layers: (50,) | Activation: tanh | Batch Size: 25 | Momentum: 0.95 | Learning Rate: 0.01 | Accuracy: 1.00\n",
      "369. Maximum iterations: 600 | Hidden Layers: (50,) | Activation: tanh | Batch Size: 25 | Momentum: 0.99 | Learning Rate: 0.01 | Accuracy: 1.00\n",
      "370. Maximum iterations: 600 | Hidden Layers: (50,) | Activation: logistic | Batch Size: 102 | Momentum: 0.9 | Learning Rate: 0.01 | Accuracy: 1.00\n",
      "371. Maximum iterations: 600 | Hidden Layers: (50,) | Activation: logistic | Batch Size: 102 | Momentum: 0.95 | Learning Rate: 0.01 | Accuracy: 1.00\n",
      "372. Maximum iterations: 600 | Hidden Layers: (50,) | Activation: logistic | Batch Size: 102 | Momentum: 0.99 | Learning Rate: 0.01 | Accuracy: 1.00\n",
      "373. Maximum iterations: 600 | Hidden Layers: (50,) | Activation: logistic | Batch Size: 50 | Momentum: 0.9 | Learning Rate: 0.01 | Accuracy: 1.00\n",
      "374. Maximum iterations: 600 | Hidden Layers: (50,) | Activation: logistic | Batch Size: 50 | Momentum: 0.95 | Learning Rate: 0.01 | Accuracy: 1.00\n",
      "375. Maximum iterations: 600 | Hidden Layers: (50,) | Activation: logistic | Batch Size: 50 | Momentum: 0.99 | Learning Rate: 0.01 | Accuracy: 1.00\n",
      "376. Maximum iterations: 600 | Hidden Layers: (50,) | Activation: logistic | Batch Size: 25 | Momentum: 0.9 | Learning Rate: 0.01 | Accuracy: 1.00\n",
      "377. Maximum iterations: 600 | Hidden Layers: (50,) | Activation: logistic | Batch Size: 25 | Momentum: 0.95 | Learning Rate: 0.01 | Accuracy: 1.00\n",
      "378. Maximum iterations: 600 | Hidden Layers: (50,) | Activation: logistic | Batch Size: 25 | Momentum: 0.99 | Learning Rate: 0.01 | Accuracy: 1.00\n",
      "379. Maximum iterations: 600 | Hidden Layers: (50, 50) | Activation: relu | Batch Size: 102 | Momentum: 0.9 | Learning Rate: 0.01 | Accuracy: 1.00\n",
      "380. Maximum iterations: 600 | Hidden Layers: (50, 50) | Activation: relu | Batch Size: 102 | Momentum: 0.95 | Learning Rate: 0.01 | Accuracy: 1.00\n",
      "381. Maximum iterations: 600 | Hidden Layers: (50, 50) | Activation: relu | Batch Size: 102 | Momentum: 0.99 | Learning Rate: 0.01 | Accuracy: 1.00\n",
      "382. Maximum iterations: 600 | Hidden Layers: (50, 50) | Activation: relu | Batch Size: 50 | Momentum: 0.9 | Learning Rate: 0.01 | Accuracy: 1.00\n",
      "383. Maximum iterations: 600 | Hidden Layers: (50, 50) | Activation: relu | Batch Size: 50 | Momentum: 0.95 | Learning Rate: 0.01 | Accuracy: 1.00\n",
      "384. Maximum iterations: 600 | Hidden Layers: (50, 50) | Activation: relu | Batch Size: 50 | Momentum: 0.99 | Learning Rate: 0.01 | Accuracy: 1.00\n",
      "385. Maximum iterations: 600 | Hidden Layers: (50, 50) | Activation: relu | Batch Size: 25 | Momentum: 0.9 | Learning Rate: 0.01 | Accuracy: 1.00\n",
      "386. Maximum iterations: 600 | Hidden Layers: (50, 50) | Activation: relu | Batch Size: 25 | Momentum: 0.95 | Learning Rate: 0.01 | Accuracy: 1.00\n",
      "387. Maximum iterations: 600 | Hidden Layers: (50, 50) | Activation: relu | Batch Size: 25 | Momentum: 0.99 | Learning Rate: 0.01 | Accuracy: 1.00\n",
      "388. Maximum iterations: 600 | Hidden Layers: (50, 50) | Activation: tanh | Batch Size: 102 | Momentum: 0.9 | Learning Rate: 0.01 | Accuracy: 1.00\n",
      "389. Maximum iterations: 600 | Hidden Layers: (50, 50) | Activation: tanh | Batch Size: 102 | Momentum: 0.95 | Learning Rate: 0.01 | Accuracy: 1.00\n",
      "390. Maximum iterations: 600 | Hidden Layers: (50, 50) | Activation: tanh | Batch Size: 102 | Momentum: 0.99 | Learning Rate: 0.01 | Accuracy: 1.00\n",
      "391. Maximum iterations: 600 | Hidden Layers: (50, 50) | Activation: tanh | Batch Size: 50 | Momentum: 0.9 | Learning Rate: 0.01 | Accuracy: 1.00\n",
      "392. Maximum iterations: 600 | Hidden Layers: (50, 50) | Activation: tanh | Batch Size: 50 | Momentum: 0.95 | Learning Rate: 0.01 | Accuracy: 1.00\n",
      "393. Maximum iterations: 600 | Hidden Layers: (50, 50) | Activation: tanh | Batch Size: 50 | Momentum: 0.99 | Learning Rate: 0.01 | Accuracy: 1.00\n",
      "394. Maximum iterations: 600 | Hidden Layers: (50, 50) | Activation: tanh | Batch Size: 25 | Momentum: 0.9 | Learning Rate: 0.01 | Accuracy: 1.00\n",
      "395. Maximum iterations: 600 | Hidden Layers: (50, 50) | Activation: tanh | Batch Size: 25 | Momentum: 0.95 | Learning Rate: 0.01 | Accuracy: 1.00\n",
      "396. Maximum iterations: 600 | Hidden Layers: (50, 50) | Activation: tanh | Batch Size: 25 | Momentum: 0.99 | Learning Rate: 0.01 | Accuracy: 1.00\n",
      "397. Maximum iterations: 600 | Hidden Layers: (50, 50) | Activation: logistic | Batch Size: 102 | Momentum: 0.9 | Learning Rate: 0.01 | Accuracy: 1.00\n",
      "398. Maximum iterations: 600 | Hidden Layers: (50, 50) | Activation: logistic | Batch Size: 102 | Momentum: 0.95 | Learning Rate: 0.01 | Accuracy: 1.00\n",
      "399. Maximum iterations: 600 | Hidden Layers: (50, 50) | Activation: logistic | Batch Size: 102 | Momentum: 0.99 | Learning Rate: 0.01 | Accuracy: 1.00\n",
      "400. Maximum iterations: 600 | Hidden Layers: (50, 50) | Activation: logistic | Batch Size: 50 | Momentum: 0.9 | Learning Rate: 0.01 | Accuracy: 1.00\n",
      "401. Maximum iterations: 600 | Hidden Layers: (50, 50) | Activation: logistic | Batch Size: 50 | Momentum: 0.95 | Learning Rate: 0.01 | Accuracy: 1.00\n",
      "402. Maximum iterations: 600 | Hidden Layers: (50, 50) | Activation: logistic | Batch Size: 50 | Momentum: 0.99 | Learning Rate: 0.01 | Accuracy: 1.00\n",
      "403. Maximum iterations: 600 | Hidden Layers: (50, 50) | Activation: logistic | Batch Size: 25 | Momentum: 0.9 | Learning Rate: 0.01 | Accuracy: 1.00\n",
      "404. Maximum iterations: 600 | Hidden Layers: (50, 50) | Activation: logistic | Batch Size: 25 | Momentum: 0.95 | Learning Rate: 0.01 | Accuracy: 1.00\n",
      "405. Maximum iterations: 600 | Hidden Layers: (50, 50) | Activation: logistic | Batch Size: 25 | Momentum: 0.99 | Learning Rate: 0.01 | Accuracy: 1.00\n",
      "406. Maximum iterations: 600 | Hidden Layers: (25, 25, 25) | Activation: relu | Batch Size: 102 | Momentum: 0.9 | Learning Rate: 0.01 | Accuracy: 1.00\n",
      "407. Maximum iterations: 600 | Hidden Layers: (25, 25, 25) | Activation: relu | Batch Size: 102 | Momentum: 0.95 | Learning Rate: 0.01 | Accuracy: 1.00\n",
      "408. Maximum iterations: 600 | Hidden Layers: (25, 25, 25) | Activation: relu | Batch Size: 102 | Momentum: 0.99 | Learning Rate: 0.01 | Accuracy: 1.00\n",
      "409. Maximum iterations: 600 | Hidden Layers: (25, 25, 25) | Activation: relu | Batch Size: 50 | Momentum: 0.9 | Learning Rate: 0.01 | Accuracy: 1.00\n",
      "410. Maximum iterations: 600 | Hidden Layers: (25, 25, 25) | Activation: relu | Batch Size: 50 | Momentum: 0.95 | Learning Rate: 0.01 | Accuracy: 1.00\n",
      "411. Maximum iterations: 600 | Hidden Layers: (25, 25, 25) | Activation: relu | Batch Size: 50 | Momentum: 0.99 | Learning Rate: 0.01 | Accuracy: 1.00\n",
      "412. Maximum iterations: 600 | Hidden Layers: (25, 25, 25) | Activation: relu | Batch Size: 25 | Momentum: 0.9 | Learning Rate: 0.01 | Accuracy: 1.00\n",
      "413. Maximum iterations: 600 | Hidden Layers: (25, 25, 25) | Activation: relu | Batch Size: 25 | Momentum: 0.95 | Learning Rate: 0.01 | Accuracy: 1.00\n",
      "414. Maximum iterations: 600 | Hidden Layers: (25, 25, 25) | Activation: relu | Batch Size: 25 | Momentum: 0.99 | Learning Rate: 0.01 | Accuracy: 1.00\n",
      "415. Maximum iterations: 600 | Hidden Layers: (25, 25, 25) | Activation: tanh | Batch Size: 102 | Momentum: 0.9 | Learning Rate: 0.01 | Accuracy: 1.00\n",
      "416. Maximum iterations: 600 | Hidden Layers: (25, 25, 25) | Activation: tanh | Batch Size: 102 | Momentum: 0.95 | Learning Rate: 0.01 | Accuracy: 1.00\n",
      "417. Maximum iterations: 600 | Hidden Layers: (25, 25, 25) | Activation: tanh | Batch Size: 102 | Momentum: 0.99 | Learning Rate: 0.01 | Accuracy: 1.00\n",
      "418. Maximum iterations: 600 | Hidden Layers: (25, 25, 25) | Activation: tanh | Batch Size: 50 | Momentum: 0.9 | Learning Rate: 0.01 | Accuracy: 1.00\n",
      "419. Maximum iterations: 600 | Hidden Layers: (25, 25, 25) | Activation: tanh | Batch Size: 50 | Momentum: 0.95 | Learning Rate: 0.01 | Accuracy: 1.00\n",
      "420. Maximum iterations: 600 | Hidden Layers: (25, 25, 25) | Activation: tanh | Batch Size: 50 | Momentum: 0.99 | Learning Rate: 0.01 | Accuracy: 1.00\n",
      "421. Maximum iterations: 600 | Hidden Layers: (25, 25, 25) | Activation: tanh | Batch Size: 25 | Momentum: 0.9 | Learning Rate: 0.01 | Accuracy: 0.98\n",
      "422. Maximum iterations: 600 | Hidden Layers: (25, 25, 25) | Activation: tanh | Batch Size: 25 | Momentum: 0.95 | Learning Rate: 0.01 | Accuracy: 0.98\n",
      "423. Maximum iterations: 600 | Hidden Layers: (25, 25, 25) | Activation: tanh | Batch Size: 25 | Momentum: 0.99 | Learning Rate: 0.01 | Accuracy: 0.98\n",
      "424. Maximum iterations: 600 | Hidden Layers: (25, 25, 25) | Activation: logistic | Batch Size: 102 | Momentum: 0.9 | Learning Rate: 0.01 | Accuracy: 1.00\n",
      "425. Maximum iterations: 600 | Hidden Layers: (25, 25, 25) | Activation: logistic | Batch Size: 102 | Momentum: 0.95 | Learning Rate: 0.01 | Accuracy: 1.00\n",
      "426. Maximum iterations: 600 | Hidden Layers: (25, 25, 25) | Activation: logistic | Batch Size: 102 | Momentum: 0.99 | Learning Rate: 0.01 | Accuracy: 1.00\n",
      "427. Maximum iterations: 600 | Hidden Layers: (25, 25, 25) | Activation: logistic | Batch Size: 50 | Momentum: 0.9 | Learning Rate: 0.01 | Accuracy: 1.00\n",
      "428. Maximum iterations: 600 | Hidden Layers: (25, 25, 25) | Activation: logistic | Batch Size: 50 | Momentum: 0.95 | Learning Rate: 0.01 | Accuracy: 1.00\n",
      "429. Maximum iterations: 600 | Hidden Layers: (25, 25, 25) | Activation: logistic | Batch Size: 50 | Momentum: 0.99 | Learning Rate: 0.01 | Accuracy: 1.00\n",
      "430. Maximum iterations: 600 | Hidden Layers: (25, 25, 25) | Activation: logistic | Batch Size: 25 | Momentum: 0.9 | Learning Rate: 0.01 | Accuracy: 1.00\n",
      "431. Maximum iterations: 600 | Hidden Layers: (25, 25, 25) | Activation: logistic | Batch Size: 25 | Momentum: 0.95 | Learning Rate: 0.01 | Accuracy: 1.00\n",
      "432. Maximum iterations: 600 | Hidden Layers: (25, 25, 25) | Activation: logistic | Batch Size: 25 | Momentum: 0.99 | Learning Rate: 0.01 | Accuracy: 1.00\n",
      "433. Maximum iterations: 400 | Hidden Layers: (100,) | Activation: relu | Batch Size: 102 | Momentum: 0.9 | Learning Rate: 0.01 | Accuracy: 1.00\n",
      "434. Maximum iterations: 400 | Hidden Layers: (100,) | Activation: relu | Batch Size: 102 | Momentum: 0.95 | Learning Rate: 0.01 | Accuracy: 1.00\n",
      "435. Maximum iterations: 400 | Hidden Layers: (100,) | Activation: relu | Batch Size: 102 | Momentum: 0.99 | Learning Rate: 0.01 | Accuracy: 1.00\n",
      "436. Maximum iterations: 400 | Hidden Layers: (100,) | Activation: relu | Batch Size: 50 | Momentum: 0.9 | Learning Rate: 0.01 | Accuracy: 1.00\n",
      "437. Maximum iterations: 400 | Hidden Layers: (100,) | Activation: relu | Batch Size: 50 | Momentum: 0.95 | Learning Rate: 0.01 | Accuracy: 1.00\n",
      "438. Maximum iterations: 400 | Hidden Layers: (100,) | Activation: relu | Batch Size: 50 | Momentum: 0.99 | Learning Rate: 0.01 | Accuracy: 1.00\n",
      "439. Maximum iterations: 400 | Hidden Layers: (100,) | Activation: relu | Batch Size: 25 | Momentum: 0.9 | Learning Rate: 0.01 | Accuracy: 1.00\n",
      "440. Maximum iterations: 400 | Hidden Layers: (100,) | Activation: relu | Batch Size: 25 | Momentum: 0.95 | Learning Rate: 0.01 | Accuracy: 1.00\n",
      "441. Maximum iterations: 400 | Hidden Layers: (100,) | Activation: relu | Batch Size: 25 | Momentum: 0.99 | Learning Rate: 0.01 | Accuracy: 1.00\n",
      "442. Maximum iterations: 400 | Hidden Layers: (100,) | Activation: tanh | Batch Size: 102 | Momentum: 0.9 | Learning Rate: 0.01 | Accuracy: 1.00\n",
      "443. Maximum iterations: 400 | Hidden Layers: (100,) | Activation: tanh | Batch Size: 102 | Momentum: 0.95 | Learning Rate: 0.01 | Accuracy: 1.00\n",
      "444. Maximum iterations: 400 | Hidden Layers: (100,) | Activation: tanh | Batch Size: 102 | Momentum: 0.99 | Learning Rate: 0.01 | Accuracy: 1.00\n",
      "445. Maximum iterations: 400 | Hidden Layers: (100,) | Activation: tanh | Batch Size: 50 | Momentum: 0.9 | Learning Rate: 0.01 | Accuracy: 1.00\n",
      "446. Maximum iterations: 400 | Hidden Layers: (100,) | Activation: tanh | Batch Size: 50 | Momentum: 0.95 | Learning Rate: 0.01 | Accuracy: 1.00\n",
      "447. Maximum iterations: 400 | Hidden Layers: (100,) | Activation: tanh | Batch Size: 50 | Momentum: 0.99 | Learning Rate: 0.01 | Accuracy: 1.00\n",
      "448. Maximum iterations: 400 | Hidden Layers: (100,) | Activation: tanh | Batch Size: 25 | Momentum: 0.9 | Learning Rate: 0.01 | Accuracy: 1.00\n",
      "449. Maximum iterations: 400 | Hidden Layers: (100,) | Activation: tanh | Batch Size: 25 | Momentum: 0.95 | Learning Rate: 0.01 | Accuracy: 1.00\n",
      "450. Maximum iterations: 400 | Hidden Layers: (100,) | Activation: tanh | Batch Size: 25 | Momentum: 0.99 | Learning Rate: 0.01 | Accuracy: 1.00\n",
      "451. Maximum iterations: 400 | Hidden Layers: (100,) | Activation: logistic | Batch Size: 102 | Momentum: 0.9 | Learning Rate: 0.01 | Accuracy: 1.00\n",
      "452. Maximum iterations: 400 | Hidden Layers: (100,) | Activation: logistic | Batch Size: 102 | Momentum: 0.95 | Learning Rate: 0.01 | Accuracy: 1.00\n",
      "453. Maximum iterations: 400 | Hidden Layers: (100,) | Activation: logistic | Batch Size: 102 | Momentum: 0.99 | Learning Rate: 0.01 | Accuracy: 1.00\n",
      "454. Maximum iterations: 400 | Hidden Layers: (100,) | Activation: logistic | Batch Size: 50 | Momentum: 0.9 | Learning Rate: 0.01 | Accuracy: 1.00\n",
      "455. Maximum iterations: 400 | Hidden Layers: (100,) | Activation: logistic | Batch Size: 50 | Momentum: 0.95 | Learning Rate: 0.01 | Accuracy: 1.00\n",
      "456. Maximum iterations: 400 | Hidden Layers: (100,) | Activation: logistic | Batch Size: 50 | Momentum: 0.99 | Learning Rate: 0.01 | Accuracy: 1.00\n",
      "457. Maximum iterations: 400 | Hidden Layers: (100,) | Activation: logistic | Batch Size: 25 | Momentum: 0.9 | Learning Rate: 0.01 | Accuracy: 1.00\n",
      "458. Maximum iterations: 400 | Hidden Layers: (100,) | Activation: logistic | Batch Size: 25 | Momentum: 0.95 | Learning Rate: 0.01 | Accuracy: 1.00\n",
      "459. Maximum iterations: 400 | Hidden Layers: (100,) | Activation: logistic | Batch Size: 25 | Momentum: 0.99 | Learning Rate: 0.01 | Accuracy: 1.00\n",
      "460. Maximum iterations: 400 | Hidden Layers: (50,) | Activation: relu | Batch Size: 102 | Momentum: 0.9 | Learning Rate: 0.01 | Accuracy: 1.00\n",
      "461. Maximum iterations: 400 | Hidden Layers: (50,) | Activation: relu | Batch Size: 102 | Momentum: 0.95 | Learning Rate: 0.01 | Accuracy: 1.00\n",
      "462. Maximum iterations: 400 | Hidden Layers: (50,) | Activation: relu | Batch Size: 102 | Momentum: 0.99 | Learning Rate: 0.01 | Accuracy: 1.00\n",
      "463. Maximum iterations: 400 | Hidden Layers: (50,) | Activation: relu | Batch Size: 50 | Momentum: 0.9 | Learning Rate: 0.01 | Accuracy: 1.00\n",
      "464. Maximum iterations: 400 | Hidden Layers: (50,) | Activation: relu | Batch Size: 50 | Momentum: 0.95 | Learning Rate: 0.01 | Accuracy: 1.00\n",
      "465. Maximum iterations: 400 | Hidden Layers: (50,) | Activation: relu | Batch Size: 50 | Momentum: 0.99 | Learning Rate: 0.01 | Accuracy: 1.00\n",
      "466. Maximum iterations: 400 | Hidden Layers: (50,) | Activation: relu | Batch Size: 25 | Momentum: 0.9 | Learning Rate: 0.01 | Accuracy: 1.00\n",
      "467. Maximum iterations: 400 | Hidden Layers: (50,) | Activation: relu | Batch Size: 25 | Momentum: 0.95 | Learning Rate: 0.01 | Accuracy: 1.00\n",
      "468. Maximum iterations: 400 | Hidden Layers: (50,) | Activation: relu | Batch Size: 25 | Momentum: 0.99 | Learning Rate: 0.01 | Accuracy: 1.00\n",
      "469. Maximum iterations: 400 | Hidden Layers: (50,) | Activation: tanh | Batch Size: 102 | Momentum: 0.9 | Learning Rate: 0.01 | Accuracy: 1.00\n",
      "470. Maximum iterations: 400 | Hidden Layers: (50,) | Activation: tanh | Batch Size: 102 | Momentum: 0.95 | Learning Rate: 0.01 | Accuracy: 1.00\n",
      "471. Maximum iterations: 400 | Hidden Layers: (50,) | Activation: tanh | Batch Size: 102 | Momentum: 0.99 | Learning Rate: 0.01 | Accuracy: 1.00\n",
      "472. Maximum iterations: 400 | Hidden Layers: (50,) | Activation: tanh | Batch Size: 50 | Momentum: 0.9 | Learning Rate: 0.01 | Accuracy: 1.00\n",
      "473. Maximum iterations: 400 | Hidden Layers: (50,) | Activation: tanh | Batch Size: 50 | Momentum: 0.95 | Learning Rate: 0.01 | Accuracy: 1.00\n",
      "474. Maximum iterations: 400 | Hidden Layers: (50,) | Activation: tanh | Batch Size: 50 | Momentum: 0.99 | Learning Rate: 0.01 | Accuracy: 1.00\n",
      "475. Maximum iterations: 400 | Hidden Layers: (50,) | Activation: tanh | Batch Size: 25 | Momentum: 0.9 | Learning Rate: 0.01 | Accuracy: 1.00\n",
      "476. Maximum iterations: 400 | Hidden Layers: (50,) | Activation: tanh | Batch Size: 25 | Momentum: 0.95 | Learning Rate: 0.01 | Accuracy: 1.00\n",
      "477. Maximum iterations: 400 | Hidden Layers: (50,) | Activation: tanh | Batch Size: 25 | Momentum: 0.99 | Learning Rate: 0.01 | Accuracy: 1.00\n",
      "478. Maximum iterations: 400 | Hidden Layers: (50,) | Activation: logistic | Batch Size: 102 | Momentum: 0.9 | Learning Rate: 0.01 | Accuracy: 1.00\n",
      "479. Maximum iterations: 400 | Hidden Layers: (50,) | Activation: logistic | Batch Size: 102 | Momentum: 0.95 | Learning Rate: 0.01 | Accuracy: 1.00\n",
      "480. Maximum iterations: 400 | Hidden Layers: (50,) | Activation: logistic | Batch Size: 102 | Momentum: 0.99 | Learning Rate: 0.01 | Accuracy: 1.00\n",
      "481. Maximum iterations: 400 | Hidden Layers: (50,) | Activation: logistic | Batch Size: 50 | Momentum: 0.9 | Learning Rate: 0.01 | Accuracy: 1.00\n",
      "482. Maximum iterations: 400 | Hidden Layers: (50,) | Activation: logistic | Batch Size: 50 | Momentum: 0.95 | Learning Rate: 0.01 | Accuracy: 1.00\n",
      "483. Maximum iterations: 400 | Hidden Layers: (50,) | Activation: logistic | Batch Size: 50 | Momentum: 0.99 | Learning Rate: 0.01 | Accuracy: 1.00\n",
      "484. Maximum iterations: 400 | Hidden Layers: (50,) | Activation: logistic | Batch Size: 25 | Momentum: 0.9 | Learning Rate: 0.01 | Accuracy: 1.00\n",
      "485. Maximum iterations: 400 | Hidden Layers: (50,) | Activation: logistic | Batch Size: 25 | Momentum: 0.95 | Learning Rate: 0.01 | Accuracy: 1.00\n",
      "486. Maximum iterations: 400 | Hidden Layers: (50,) | Activation: logistic | Batch Size: 25 | Momentum: 0.99 | Learning Rate: 0.01 | Accuracy: 1.00\n",
      "487. Maximum iterations: 400 | Hidden Layers: (50, 50) | Activation: relu | Batch Size: 102 | Momentum: 0.9 | Learning Rate: 0.01 | Accuracy: 1.00\n",
      "488. Maximum iterations: 400 | Hidden Layers: (50, 50) | Activation: relu | Batch Size: 102 | Momentum: 0.95 | Learning Rate: 0.01 | Accuracy: 1.00\n",
      "489. Maximum iterations: 400 | Hidden Layers: (50, 50) | Activation: relu | Batch Size: 102 | Momentum: 0.99 | Learning Rate: 0.01 | Accuracy: 1.00\n",
      "490. Maximum iterations: 400 | Hidden Layers: (50, 50) | Activation: relu | Batch Size: 50 | Momentum: 0.9 | Learning Rate: 0.01 | Accuracy: 1.00\n",
      "491. Maximum iterations: 400 | Hidden Layers: (50, 50) | Activation: relu | Batch Size: 50 | Momentum: 0.95 | Learning Rate: 0.01 | Accuracy: 1.00\n",
      "492. Maximum iterations: 400 | Hidden Layers: (50, 50) | Activation: relu | Batch Size: 50 | Momentum: 0.99 | Learning Rate: 0.01 | Accuracy: 1.00\n",
      "493. Maximum iterations: 400 | Hidden Layers: (50, 50) | Activation: relu | Batch Size: 25 | Momentum: 0.9 | Learning Rate: 0.01 | Accuracy: 1.00\n",
      "494. Maximum iterations: 400 | Hidden Layers: (50, 50) | Activation: relu | Batch Size: 25 | Momentum: 0.95 | Learning Rate: 0.01 | Accuracy: 1.00\n",
      "495. Maximum iterations: 400 | Hidden Layers: (50, 50) | Activation: relu | Batch Size: 25 | Momentum: 0.99 | Learning Rate: 0.01 | Accuracy: 1.00\n",
      "496. Maximum iterations: 400 | Hidden Layers: (50, 50) | Activation: tanh | Batch Size: 102 | Momentum: 0.9 | Learning Rate: 0.01 | Accuracy: 1.00\n",
      "497. Maximum iterations: 400 | Hidden Layers: (50, 50) | Activation: tanh | Batch Size: 102 | Momentum: 0.95 | Learning Rate: 0.01 | Accuracy: 1.00\n",
      "498. Maximum iterations: 400 | Hidden Layers: (50, 50) | Activation: tanh | Batch Size: 102 | Momentum: 0.99 | Learning Rate: 0.01 | Accuracy: 1.00\n",
      "499. Maximum iterations: 400 | Hidden Layers: (50, 50) | Activation: tanh | Batch Size: 50 | Momentum: 0.9 | Learning Rate: 0.01 | Accuracy: 1.00\n",
      "500. Maximum iterations: 400 | Hidden Layers: (50, 50) | Activation: tanh | Batch Size: 50 | Momentum: 0.95 | Learning Rate: 0.01 | Accuracy: 1.00\n",
      "501. Maximum iterations: 400 | Hidden Layers: (50, 50) | Activation: tanh | Batch Size: 50 | Momentum: 0.99 | Learning Rate: 0.01 | Accuracy: 1.00\n",
      "502. Maximum iterations: 400 | Hidden Layers: (50, 50) | Activation: tanh | Batch Size: 25 | Momentum: 0.9 | Learning Rate: 0.01 | Accuracy: 1.00\n",
      "503. Maximum iterations: 400 | Hidden Layers: (50, 50) | Activation: tanh | Batch Size: 25 | Momentum: 0.95 | Learning Rate: 0.01 | Accuracy: 1.00\n",
      "504. Maximum iterations: 400 | Hidden Layers: (50, 50) | Activation: tanh | Batch Size: 25 | Momentum: 0.99 | Learning Rate: 0.01 | Accuracy: 1.00\n",
      "505. Maximum iterations: 400 | Hidden Layers: (50, 50) | Activation: logistic | Batch Size: 102 | Momentum: 0.9 | Learning Rate: 0.01 | Accuracy: 1.00\n",
      "506. Maximum iterations: 400 | Hidden Layers: (50, 50) | Activation: logistic | Batch Size: 102 | Momentum: 0.95 | Learning Rate: 0.01 | Accuracy: 1.00\n",
      "507. Maximum iterations: 400 | Hidden Layers: (50, 50) | Activation: logistic | Batch Size: 102 | Momentum: 0.99 | Learning Rate: 0.01 | Accuracy: 1.00\n",
      "508. Maximum iterations: 400 | Hidden Layers: (50, 50) | Activation: logistic | Batch Size: 50 | Momentum: 0.9 | Learning Rate: 0.01 | Accuracy: 1.00\n",
      "509. Maximum iterations: 400 | Hidden Layers: (50, 50) | Activation: logistic | Batch Size: 50 | Momentum: 0.95 | Learning Rate: 0.01 | Accuracy: 1.00\n",
      "510. Maximum iterations: 400 | Hidden Layers: (50, 50) | Activation: logistic | Batch Size: 50 | Momentum: 0.99 | Learning Rate: 0.01 | Accuracy: 1.00\n",
      "511. Maximum iterations: 400 | Hidden Layers: (50, 50) | Activation: logistic | Batch Size: 25 | Momentum: 0.9 | Learning Rate: 0.01 | Accuracy: 1.00\n",
      "512. Maximum iterations: 400 | Hidden Layers: (50, 50) | Activation: logistic | Batch Size: 25 | Momentum: 0.95 | Learning Rate: 0.01 | Accuracy: 1.00\n",
      "513. Maximum iterations: 400 | Hidden Layers: (50, 50) | Activation: logistic | Batch Size: 25 | Momentum: 0.99 | Learning Rate: 0.01 | Accuracy: 1.00\n",
      "514. Maximum iterations: 400 | Hidden Layers: (25, 25, 25) | Activation: relu | Batch Size: 102 | Momentum: 0.9 | Learning Rate: 0.01 | Accuracy: 1.00\n",
      "515. Maximum iterations: 400 | Hidden Layers: (25, 25, 25) | Activation: relu | Batch Size: 102 | Momentum: 0.95 | Learning Rate: 0.01 | Accuracy: 1.00\n",
      "516. Maximum iterations: 400 | Hidden Layers: (25, 25, 25) | Activation: relu | Batch Size: 102 | Momentum: 0.99 | Learning Rate: 0.01 | Accuracy: 1.00\n",
      "517. Maximum iterations: 400 | Hidden Layers: (25, 25, 25) | Activation: relu | Batch Size: 50 | Momentum: 0.9 | Learning Rate: 0.01 | Accuracy: 1.00\n",
      "518. Maximum iterations: 400 | Hidden Layers: (25, 25, 25) | Activation: relu | Batch Size: 50 | Momentum: 0.95 | Learning Rate: 0.01 | Accuracy: 1.00\n",
      "519. Maximum iterations: 400 | Hidden Layers: (25, 25, 25) | Activation: relu | Batch Size: 50 | Momentum: 0.99 | Learning Rate: 0.01 | Accuracy: 1.00\n",
      "520. Maximum iterations: 400 | Hidden Layers: (25, 25, 25) | Activation: relu | Batch Size: 25 | Momentum: 0.9 | Learning Rate: 0.01 | Accuracy: 1.00\n",
      "521. Maximum iterations: 400 | Hidden Layers: (25, 25, 25) | Activation: relu | Batch Size: 25 | Momentum: 0.95 | Learning Rate: 0.01 | Accuracy: 1.00\n",
      "522. Maximum iterations: 400 | Hidden Layers: (25, 25, 25) | Activation: relu | Batch Size: 25 | Momentum: 0.99 | Learning Rate: 0.01 | Accuracy: 1.00\n",
      "523. Maximum iterations: 400 | Hidden Layers: (25, 25, 25) | Activation: tanh | Batch Size: 102 | Momentum: 0.9 | Learning Rate: 0.01 | Accuracy: 1.00\n",
      "524. Maximum iterations: 400 | Hidden Layers: (25, 25, 25) | Activation: tanh | Batch Size: 102 | Momentum: 0.95 | Learning Rate: 0.01 | Accuracy: 1.00\n",
      "525. Maximum iterations: 400 | Hidden Layers: (25, 25, 25) | Activation: tanh | Batch Size: 102 | Momentum: 0.99 | Learning Rate: 0.01 | Accuracy: 1.00\n",
      "526. Maximum iterations: 400 | Hidden Layers: (25, 25, 25) | Activation: tanh | Batch Size: 50 | Momentum: 0.9 | Learning Rate: 0.01 | Accuracy: 1.00\n",
      "527. Maximum iterations: 400 | Hidden Layers: (25, 25, 25) | Activation: tanh | Batch Size: 50 | Momentum: 0.95 | Learning Rate: 0.01 | Accuracy: 1.00\n",
      "528. Maximum iterations: 400 | Hidden Layers: (25, 25, 25) | Activation: tanh | Batch Size: 50 | Momentum: 0.99 | Learning Rate: 0.01 | Accuracy: 1.00\n",
      "529. Maximum iterations: 400 | Hidden Layers: (25, 25, 25) | Activation: tanh | Batch Size: 25 | Momentum: 0.9 | Learning Rate: 0.01 | Accuracy: 0.98\n",
      "530. Maximum iterations: 400 | Hidden Layers: (25, 25, 25) | Activation: tanh | Batch Size: 25 | Momentum: 0.95 | Learning Rate: 0.01 | Accuracy: 0.98\n",
      "531. Maximum iterations: 400 | Hidden Layers: (25, 25, 25) | Activation: tanh | Batch Size: 25 | Momentum: 0.99 | Learning Rate: 0.01 | Accuracy: 0.98\n",
      "532. Maximum iterations: 400 | Hidden Layers: (25, 25, 25) | Activation: logistic | Batch Size: 102 | Momentum: 0.9 | Learning Rate: 0.01 | Accuracy: 1.00\n",
      "533. Maximum iterations: 400 | Hidden Layers: (25, 25, 25) | Activation: logistic | Batch Size: 102 | Momentum: 0.95 | Learning Rate: 0.01 | Accuracy: 1.00\n",
      "534. Maximum iterations: 400 | Hidden Layers: (25, 25, 25) | Activation: logistic | Batch Size: 102 | Momentum: 0.99 | Learning Rate: 0.01 | Accuracy: 1.00\n",
      "535. Maximum iterations: 400 | Hidden Layers: (25, 25, 25) | Activation: logistic | Batch Size: 50 | Momentum: 0.9 | Learning Rate: 0.01 | Accuracy: 1.00\n",
      "536. Maximum iterations: 400 | Hidden Layers: (25, 25, 25) | Activation: logistic | Batch Size: 50 | Momentum: 0.95 | Learning Rate: 0.01 | Accuracy: 1.00\n",
      "537. Maximum iterations: 400 | Hidden Layers: (25, 25, 25) | Activation: logistic | Batch Size: 50 | Momentum: 0.99 | Learning Rate: 0.01 | Accuracy: 1.00\n",
      "538. Maximum iterations: 400 | Hidden Layers: (25, 25, 25) | Activation: logistic | Batch Size: 25 | Momentum: 0.9 | Learning Rate: 0.01 | Accuracy: 1.00\n",
      "539. Maximum iterations: 400 | Hidden Layers: (25, 25, 25) | Activation: logistic | Batch Size: 25 | Momentum: 0.95 | Learning Rate: 0.01 | Accuracy: 1.00\n",
      "540. Maximum iterations: 400 | Hidden Layers: (25, 25, 25) | Activation: logistic | Batch Size: 25 | Momentum: 0.99 | Learning Rate: 0.01 | Accuracy: 1.00\n",
      "541. Maximum iterations: 200 | Hidden Layers: (100,) | Activation: relu | Batch Size: 102 | Momentum: 0.9 | Learning Rate: 0.01 | Accuracy: 1.00\n",
      "542. Maximum iterations: 200 | Hidden Layers: (100,) | Activation: relu | Batch Size: 102 | Momentum: 0.95 | Learning Rate: 0.01 | Accuracy: 1.00\n",
      "543. Maximum iterations: 200 | Hidden Layers: (100,) | Activation: relu | Batch Size: 102 | Momentum: 0.99 | Learning Rate: 0.01 | Accuracy: 1.00\n",
      "544. Maximum iterations: 200 | Hidden Layers: (100,) | Activation: relu | Batch Size: 50 | Momentum: 0.9 | Learning Rate: 0.01 | Accuracy: 1.00\n",
      "545. Maximum iterations: 200 | Hidden Layers: (100,) | Activation: relu | Batch Size: 50 | Momentum: 0.95 | Learning Rate: 0.01 | Accuracy: 1.00\n",
      "546. Maximum iterations: 200 | Hidden Layers: (100,) | Activation: relu | Batch Size: 50 | Momentum: 0.99 | Learning Rate: 0.01 | Accuracy: 1.00\n",
      "547. Maximum iterations: 200 | Hidden Layers: (100,) | Activation: relu | Batch Size: 25 | Momentum: 0.9 | Learning Rate: 0.01 | Accuracy: 1.00\n",
      "548. Maximum iterations: 200 | Hidden Layers: (100,) | Activation: relu | Batch Size: 25 | Momentum: 0.95 | Learning Rate: 0.01 | Accuracy: 1.00\n",
      "549. Maximum iterations: 200 | Hidden Layers: (100,) | Activation: relu | Batch Size: 25 | Momentum: 0.99 | Learning Rate: 0.01 | Accuracy: 1.00\n",
      "550. Maximum iterations: 200 | Hidden Layers: (100,) | Activation: tanh | Batch Size: 102 | Momentum: 0.9 | Learning Rate: 0.01 | Accuracy: 1.00\n",
      "551. Maximum iterations: 200 | Hidden Layers: (100,) | Activation: tanh | Batch Size: 102 | Momentum: 0.95 | Learning Rate: 0.01 | Accuracy: 1.00\n",
      "552. Maximum iterations: 200 | Hidden Layers: (100,) | Activation: tanh | Batch Size: 102 | Momentum: 0.99 | Learning Rate: 0.01 | Accuracy: 1.00\n",
      "553. Maximum iterations: 200 | Hidden Layers: (100,) | Activation: tanh | Batch Size: 50 | Momentum: 0.9 | Learning Rate: 0.01 | Accuracy: 1.00\n",
      "554. Maximum iterations: 200 | Hidden Layers: (100,) | Activation: tanh | Batch Size: 50 | Momentum: 0.95 | Learning Rate: 0.01 | Accuracy: 1.00\n",
      "555. Maximum iterations: 200 | Hidden Layers: (100,) | Activation: tanh | Batch Size: 50 | Momentum: 0.99 | Learning Rate: 0.01 | Accuracy: 1.00\n",
      "556. Maximum iterations: 200 | Hidden Layers: (100,) | Activation: tanh | Batch Size: 25 | Momentum: 0.9 | Learning Rate: 0.01 | Accuracy: 1.00\n",
      "557. Maximum iterations: 200 | Hidden Layers: (100,) | Activation: tanh | Batch Size: 25 | Momentum: 0.95 | Learning Rate: 0.01 | Accuracy: 1.00\n",
      "558. Maximum iterations: 200 | Hidden Layers: (100,) | Activation: tanh | Batch Size: 25 | Momentum: 0.99 | Learning Rate: 0.01 | Accuracy: 1.00\n",
      "559. Maximum iterations: 200 | Hidden Layers: (100,) | Activation: logistic | Batch Size: 102 | Momentum: 0.9 | Learning Rate: 0.01 | Accuracy: 1.00\n",
      "560. Maximum iterations: 200 | Hidden Layers: (100,) | Activation: logistic | Batch Size: 102 | Momentum: 0.95 | Learning Rate: 0.01 | Accuracy: 1.00\n",
      "561. Maximum iterations: 200 | Hidden Layers: (100,) | Activation: logistic | Batch Size: 102 | Momentum: 0.99 | Learning Rate: 0.01 | Accuracy: 1.00\n",
      "562. Maximum iterations: 200 | Hidden Layers: (100,) | Activation: logistic | Batch Size: 50 | Momentum: 0.9 | Learning Rate: 0.01 | Accuracy: 1.00\n",
      "563. Maximum iterations: 200 | Hidden Layers: (100,) | Activation: logistic | Batch Size: 50 | Momentum: 0.95 | Learning Rate: 0.01 | Accuracy: 1.00\n",
      "564. Maximum iterations: 200 | Hidden Layers: (100,) | Activation: logistic | Batch Size: 50 | Momentum: 0.99 | Learning Rate: 0.01 | Accuracy: 1.00\n",
      "565. Maximum iterations: 200 | Hidden Layers: (100,) | Activation: logistic | Batch Size: 25 | Momentum: 0.9 | Learning Rate: 0.01 | Accuracy: 1.00\n",
      "566. Maximum iterations: 200 | Hidden Layers: (100,) | Activation: logistic | Batch Size: 25 | Momentum: 0.95 | Learning Rate: 0.01 | Accuracy: 1.00\n",
      "567. Maximum iterations: 200 | Hidden Layers: (100,) | Activation: logistic | Batch Size: 25 | Momentum: 0.99 | Learning Rate: 0.01 | Accuracy: 1.00\n",
      "568. Maximum iterations: 200 | Hidden Layers: (50,) | Activation: relu | Batch Size: 102 | Momentum: 0.9 | Learning Rate: 0.01 | Accuracy: 1.00\n",
      "569. Maximum iterations: 200 | Hidden Layers: (50,) | Activation: relu | Batch Size: 102 | Momentum: 0.95 | Learning Rate: 0.01 | Accuracy: 1.00\n",
      "570. Maximum iterations: 200 | Hidden Layers: (50,) | Activation: relu | Batch Size: 102 | Momentum: 0.99 | Learning Rate: 0.01 | Accuracy: 1.00\n",
      "571. Maximum iterations: 200 | Hidden Layers: (50,) | Activation: relu | Batch Size: 50 | Momentum: 0.9 | Learning Rate: 0.01 | Accuracy: 1.00\n",
      "572. Maximum iterations: 200 | Hidden Layers: (50,) | Activation: relu | Batch Size: 50 | Momentum: 0.95 | Learning Rate: 0.01 | Accuracy: 1.00\n",
      "573. Maximum iterations: 200 | Hidden Layers: (50,) | Activation: relu | Batch Size: 50 | Momentum: 0.99 | Learning Rate: 0.01 | Accuracy: 1.00\n",
      "574. Maximum iterations: 200 | Hidden Layers: (50,) | Activation: relu | Batch Size: 25 | Momentum: 0.9 | Learning Rate: 0.01 | Accuracy: 1.00\n",
      "575. Maximum iterations: 200 | Hidden Layers: (50,) | Activation: relu | Batch Size: 25 | Momentum: 0.95 | Learning Rate: 0.01 | Accuracy: 1.00\n",
      "576. Maximum iterations: 200 | Hidden Layers: (50,) | Activation: relu | Batch Size: 25 | Momentum: 0.99 | Learning Rate: 0.01 | Accuracy: 1.00\n",
      "577. Maximum iterations: 200 | Hidden Layers: (50,) | Activation: tanh | Batch Size: 102 | Momentum: 0.9 | Learning Rate: 0.01 | Accuracy: 1.00\n",
      "578. Maximum iterations: 200 | Hidden Layers: (50,) | Activation: tanh | Batch Size: 102 | Momentum: 0.95 | Learning Rate: 0.01 | Accuracy: 1.00\n",
      "579. Maximum iterations: 200 | Hidden Layers: (50,) | Activation: tanh | Batch Size: 102 | Momentum: 0.99 | Learning Rate: 0.01 | Accuracy: 1.00\n",
      "580. Maximum iterations: 200 | Hidden Layers: (50,) | Activation: tanh | Batch Size: 50 | Momentum: 0.9 | Learning Rate: 0.01 | Accuracy: 1.00\n",
      "581. Maximum iterations: 200 | Hidden Layers: (50,) | Activation: tanh | Batch Size: 50 | Momentum: 0.95 | Learning Rate: 0.01 | Accuracy: 1.00\n",
      "582. Maximum iterations: 200 | Hidden Layers: (50,) | Activation: tanh | Batch Size: 50 | Momentum: 0.99 | Learning Rate: 0.01 | Accuracy: 1.00\n",
      "583. Maximum iterations: 200 | Hidden Layers: (50,) | Activation: tanh | Batch Size: 25 | Momentum: 0.9 | Learning Rate: 0.01 | Accuracy: 1.00\n",
      "584. Maximum iterations: 200 | Hidden Layers: (50,) | Activation: tanh | Batch Size: 25 | Momentum: 0.95 | Learning Rate: 0.01 | Accuracy: 1.00\n",
      "585. Maximum iterations: 200 | Hidden Layers: (50,) | Activation: tanh | Batch Size: 25 | Momentum: 0.99 | Learning Rate: 0.01 | Accuracy: 1.00\n",
      "586. Maximum iterations: 200 | Hidden Layers: (50,) | Activation: logistic | Batch Size: 102 | Momentum: 0.9 | Learning Rate: 0.01 | Accuracy: 1.00\n",
      "587. Maximum iterations: 200 | Hidden Layers: (50,) | Activation: logistic | Batch Size: 102 | Momentum: 0.95 | Learning Rate: 0.01 | Accuracy: 1.00\n",
      "588. Maximum iterations: 200 | Hidden Layers: (50,) | Activation: logistic | Batch Size: 102 | Momentum: 0.99 | Learning Rate: 0.01 | Accuracy: 1.00\n",
      "589. Maximum iterations: 200 | Hidden Layers: (50,) | Activation: logistic | Batch Size: 50 | Momentum: 0.9 | Learning Rate: 0.01 | Accuracy: 1.00\n",
      "590. Maximum iterations: 200 | Hidden Layers: (50,) | Activation: logistic | Batch Size: 50 | Momentum: 0.95 | Learning Rate: 0.01 | Accuracy: 1.00\n",
      "591. Maximum iterations: 200 | Hidden Layers: (50,) | Activation: logistic | Batch Size: 50 | Momentum: 0.99 | Learning Rate: 0.01 | Accuracy: 1.00\n",
      "592. Maximum iterations: 200 | Hidden Layers: (50,) | Activation: logistic | Batch Size: 25 | Momentum: 0.9 | Learning Rate: 0.01 | Accuracy: 1.00\n",
      "593. Maximum iterations: 200 | Hidden Layers: (50,) | Activation: logistic | Batch Size: 25 | Momentum: 0.95 | Learning Rate: 0.01 | Accuracy: 1.00\n",
      "594. Maximum iterations: 200 | Hidden Layers: (50,) | Activation: logistic | Batch Size: 25 | Momentum: 0.99 | Learning Rate: 0.01 | Accuracy: 1.00\n",
      "595. Maximum iterations: 200 | Hidden Layers: (50, 50) | Activation: relu | Batch Size: 102 | Momentum: 0.9 | Learning Rate: 0.01 | Accuracy: 1.00\n",
      "596. Maximum iterations: 200 | Hidden Layers: (50, 50) | Activation: relu | Batch Size: 102 | Momentum: 0.95 | Learning Rate: 0.01 | Accuracy: 1.00\n",
      "597. Maximum iterations: 200 | Hidden Layers: (50, 50) | Activation: relu | Batch Size: 102 | Momentum: 0.99 | Learning Rate: 0.01 | Accuracy: 1.00\n",
      "598. Maximum iterations: 200 | Hidden Layers: (50, 50) | Activation: relu | Batch Size: 50 | Momentum: 0.9 | Learning Rate: 0.01 | Accuracy: 1.00\n",
      "599. Maximum iterations: 200 | Hidden Layers: (50, 50) | Activation: relu | Batch Size: 50 | Momentum: 0.95 | Learning Rate: 0.01 | Accuracy: 1.00\n",
      "600. Maximum iterations: 200 | Hidden Layers: (50, 50) | Activation: relu | Batch Size: 50 | Momentum: 0.99 | Learning Rate: 0.01 | Accuracy: 1.00\n",
      "601. Maximum iterations: 200 | Hidden Layers: (50, 50) | Activation: relu | Batch Size: 25 | Momentum: 0.9 | Learning Rate: 0.01 | Accuracy: 1.00\n",
      "602. Maximum iterations: 200 | Hidden Layers: (50, 50) | Activation: relu | Batch Size: 25 | Momentum: 0.95 | Learning Rate: 0.01 | Accuracy: 1.00\n",
      "603. Maximum iterations: 200 | Hidden Layers: (50, 50) | Activation: relu | Batch Size: 25 | Momentum: 0.99 | Learning Rate: 0.01 | Accuracy: 1.00\n",
      "604. Maximum iterations: 200 | Hidden Layers: (50, 50) | Activation: tanh | Batch Size: 102 | Momentum: 0.9 | Learning Rate: 0.01 | Accuracy: 1.00\n",
      "605. Maximum iterations: 200 | Hidden Layers: (50, 50) | Activation: tanh | Batch Size: 102 | Momentum: 0.95 | Learning Rate: 0.01 | Accuracy: 1.00\n",
      "606. Maximum iterations: 200 | Hidden Layers: (50, 50) | Activation: tanh | Batch Size: 102 | Momentum: 0.99 | Learning Rate: 0.01 | Accuracy: 1.00\n",
      "607. Maximum iterations: 200 | Hidden Layers: (50, 50) | Activation: tanh | Batch Size: 50 | Momentum: 0.9 | Learning Rate: 0.01 | Accuracy: 1.00\n",
      "608. Maximum iterations: 200 | Hidden Layers: (50, 50) | Activation: tanh | Batch Size: 50 | Momentum: 0.95 | Learning Rate: 0.01 | Accuracy: 1.00\n",
      "609. Maximum iterations: 200 | Hidden Layers: (50, 50) | Activation: tanh | Batch Size: 50 | Momentum: 0.99 | Learning Rate: 0.01 | Accuracy: 1.00\n",
      "610. Maximum iterations: 200 | Hidden Layers: (50, 50) | Activation: tanh | Batch Size: 25 | Momentum: 0.9 | Learning Rate: 0.01 | Accuracy: 1.00\n",
      "611. Maximum iterations: 200 | Hidden Layers: (50, 50) | Activation: tanh | Batch Size: 25 | Momentum: 0.95 | Learning Rate: 0.01 | Accuracy: 1.00\n",
      "612. Maximum iterations: 200 | Hidden Layers: (50, 50) | Activation: tanh | Batch Size: 25 | Momentum: 0.99 | Learning Rate: 0.01 | Accuracy: 1.00\n",
      "613. Maximum iterations: 200 | Hidden Layers: (50, 50) | Activation: logistic | Batch Size: 102 | Momentum: 0.9 | Learning Rate: 0.01 | Accuracy: 1.00\n",
      "614. Maximum iterations: 200 | Hidden Layers: (50, 50) | Activation: logistic | Batch Size: 102 | Momentum: 0.95 | Learning Rate: 0.01 | Accuracy: 1.00\n",
      "615. Maximum iterations: 200 | Hidden Layers: (50, 50) | Activation: logistic | Batch Size: 102 | Momentum: 0.99 | Learning Rate: 0.01 | Accuracy: 1.00\n",
      "616. Maximum iterations: 200 | Hidden Layers: (50, 50) | Activation: logistic | Batch Size: 50 | Momentum: 0.9 | Learning Rate: 0.01 | Accuracy: 1.00\n",
      "617. Maximum iterations: 200 | Hidden Layers: (50, 50) | Activation: logistic | Batch Size: 50 | Momentum: 0.95 | Learning Rate: 0.01 | Accuracy: 1.00\n",
      "618. Maximum iterations: 200 | Hidden Layers: (50, 50) | Activation: logistic | Batch Size: 50 | Momentum: 0.99 | Learning Rate: 0.01 | Accuracy: 1.00\n",
      "619. Maximum iterations: 200 | Hidden Layers: (50, 50) | Activation: logistic | Batch Size: 25 | Momentum: 0.9 | Learning Rate: 0.01 | Accuracy: 1.00\n",
      "620. Maximum iterations: 200 | Hidden Layers: (50, 50) | Activation: logistic | Batch Size: 25 | Momentum: 0.95 | Learning Rate: 0.01 | Accuracy: 1.00\n",
      "621. Maximum iterations: 200 | Hidden Layers: (50, 50) | Activation: logistic | Batch Size: 25 | Momentum: 0.99 | Learning Rate: 0.01 | Accuracy: 1.00\n",
      "622. Maximum iterations: 200 | Hidden Layers: (25, 25, 25) | Activation: relu | Batch Size: 102 | Momentum: 0.9 | Learning Rate: 0.01 | Accuracy: 1.00\n",
      "623. Maximum iterations: 200 | Hidden Layers: (25, 25, 25) | Activation: relu | Batch Size: 102 | Momentum: 0.95 | Learning Rate: 0.01 | Accuracy: 1.00\n",
      "624. Maximum iterations: 200 | Hidden Layers: (25, 25, 25) | Activation: relu | Batch Size: 102 | Momentum: 0.99 | Learning Rate: 0.01 | Accuracy: 1.00\n",
      "625. Maximum iterations: 200 | Hidden Layers: (25, 25, 25) | Activation: relu | Batch Size: 50 | Momentum: 0.9 | Learning Rate: 0.01 | Accuracy: 1.00\n",
      "626. Maximum iterations: 200 | Hidden Layers: (25, 25, 25) | Activation: relu | Batch Size: 50 | Momentum: 0.95 | Learning Rate: 0.01 | Accuracy: 1.00\n",
      "627. Maximum iterations: 200 | Hidden Layers: (25, 25, 25) | Activation: relu | Batch Size: 50 | Momentum: 0.99 | Learning Rate: 0.01 | Accuracy: 1.00\n",
      "628. Maximum iterations: 200 | Hidden Layers: (25, 25, 25) | Activation: relu | Batch Size: 25 | Momentum: 0.9 | Learning Rate: 0.01 | Accuracy: 1.00\n",
      "629. Maximum iterations: 200 | Hidden Layers: (25, 25, 25) | Activation: relu | Batch Size: 25 | Momentum: 0.95 | Learning Rate: 0.01 | Accuracy: 1.00\n",
      "630. Maximum iterations: 200 | Hidden Layers: (25, 25, 25) | Activation: relu | Batch Size: 25 | Momentum: 0.99 | Learning Rate: 0.01 | Accuracy: 1.00\n",
      "631. Maximum iterations: 200 | Hidden Layers: (25, 25, 25) | Activation: tanh | Batch Size: 102 | Momentum: 0.9 | Learning Rate: 0.01 | Accuracy: 1.00\n",
      "632. Maximum iterations: 200 | Hidden Layers: (25, 25, 25) | Activation: tanh | Batch Size: 102 | Momentum: 0.95 | Learning Rate: 0.01 | Accuracy: 1.00\n",
      "633. Maximum iterations: 200 | Hidden Layers: (25, 25, 25) | Activation: tanh | Batch Size: 102 | Momentum: 0.99 | Learning Rate: 0.01 | Accuracy: 1.00\n",
      "634. Maximum iterations: 200 | Hidden Layers: (25, 25, 25) | Activation: tanh | Batch Size: 50 | Momentum: 0.9 | Learning Rate: 0.01 | Accuracy: 1.00\n",
      "635. Maximum iterations: 200 | Hidden Layers: (25, 25, 25) | Activation: tanh | Batch Size: 50 | Momentum: 0.95 | Learning Rate: 0.01 | Accuracy: 1.00\n",
      "636. Maximum iterations: 200 | Hidden Layers: (25, 25, 25) | Activation: tanh | Batch Size: 50 | Momentum: 0.99 | Learning Rate: 0.01 | Accuracy: 1.00\n",
      "637. Maximum iterations: 200 | Hidden Layers: (25, 25, 25) | Activation: tanh | Batch Size: 25 | Momentum: 0.9 | Learning Rate: 0.01 | Accuracy: 0.98\n",
      "638. Maximum iterations: 200 | Hidden Layers: (25, 25, 25) | Activation: tanh | Batch Size: 25 | Momentum: 0.95 | Learning Rate: 0.01 | Accuracy: 0.98\n",
      "639. Maximum iterations: 200 | Hidden Layers: (25, 25, 25) | Activation: tanh | Batch Size: 25 | Momentum: 0.99 | Learning Rate: 0.01 | Accuracy: 0.98\n",
      "640. Maximum iterations: 200 | Hidden Layers: (25, 25, 25) | Activation: logistic | Batch Size: 102 | Momentum: 0.9 | Learning Rate: 0.01 | Accuracy: 1.00\n",
      "641. Maximum iterations: 200 | Hidden Layers: (25, 25, 25) | Activation: logistic | Batch Size: 102 | Momentum: 0.95 | Learning Rate: 0.01 | Accuracy: 1.00\n",
      "642. Maximum iterations: 200 | Hidden Layers: (25, 25, 25) | Activation: logistic | Batch Size: 102 | Momentum: 0.99 | Learning Rate: 0.01 | Accuracy: 1.00\n",
      "643. Maximum iterations: 200 | Hidden Layers: (25, 25, 25) | Activation: logistic | Batch Size: 50 | Momentum: 0.9 | Learning Rate: 0.01 | Accuracy: 1.00\n",
      "644. Maximum iterations: 200 | Hidden Layers: (25, 25, 25) | Activation: logistic | Batch Size: 50 | Momentum: 0.95 | Learning Rate: 0.01 | Accuracy: 1.00\n",
      "645. Maximum iterations: 200 | Hidden Layers: (25, 25, 25) | Activation: logistic | Batch Size: 50 | Momentum: 0.99 | Learning Rate: 0.01 | Accuracy: 1.00\n",
      "646. Maximum iterations: 200 | Hidden Layers: (25, 25, 25) | Activation: logistic | Batch Size: 25 | Momentum: 0.9 | Learning Rate: 0.01 | Accuracy: 1.00\n",
      "647. Maximum iterations: 200 | Hidden Layers: (25, 25, 25) | Activation: logistic | Batch Size: 25 | Momentum: 0.95 | Learning Rate: 0.01 | Accuracy: 1.00\n",
      "648. Maximum iterations: 200 | Hidden Layers: (25, 25, 25) | Activation: logistic | Batch Size: 25 | Momentum: 0.99 | Learning Rate: 0.01 | Accuracy: 1.00\n",
      "649. Maximum iterations: 600 | Hidden Layers: (100,) | Activation: relu | Batch Size: 102 | Momentum: 0.9 | Learning Rate: 0.1 | Accuracy: 1.00\n",
      "650. Maximum iterations: 600 | Hidden Layers: (100,) | Activation: relu | Batch Size: 102 | Momentum: 0.95 | Learning Rate: 0.1 | Accuracy: 1.00\n",
      "651. Maximum iterations: 600 | Hidden Layers: (100,) | Activation: relu | Batch Size: 102 | Momentum: 0.99 | Learning Rate: 0.1 | Accuracy: 1.00\n",
      "652. Maximum iterations: 600 | Hidden Layers: (100,) | Activation: relu | Batch Size: 50 | Momentum: 0.9 | Learning Rate: 0.1 | Accuracy: 1.00\n",
      "653. Maximum iterations: 600 | Hidden Layers: (100,) | Activation: relu | Batch Size: 50 | Momentum: 0.95 | Learning Rate: 0.1 | Accuracy: 1.00\n",
      "654. Maximum iterations: 600 | Hidden Layers: (100,) | Activation: relu | Batch Size: 50 | Momentum: 0.99 | Learning Rate: 0.1 | Accuracy: 1.00\n",
      "655. Maximum iterations: 600 | Hidden Layers: (100,) | Activation: relu | Batch Size: 25 | Momentum: 0.9 | Learning Rate: 0.1 | Accuracy: 1.00\n",
      "656. Maximum iterations: 600 | Hidden Layers: (100,) | Activation: relu | Batch Size: 25 | Momentum: 0.95 | Learning Rate: 0.1 | Accuracy: 1.00\n",
      "657. Maximum iterations: 600 | Hidden Layers: (100,) | Activation: relu | Batch Size: 25 | Momentum: 0.99 | Learning Rate: 0.1 | Accuracy: 1.00\n",
      "658. Maximum iterations: 600 | Hidden Layers: (100,) | Activation: tanh | Batch Size: 102 | Momentum: 0.9 | Learning Rate: 0.1 | Accuracy: 1.00\n",
      "659. Maximum iterations: 600 | Hidden Layers: (100,) | Activation: tanh | Batch Size: 102 | Momentum: 0.95 | Learning Rate: 0.1 | Accuracy: 1.00\n",
      "660. Maximum iterations: 600 | Hidden Layers: (100,) | Activation: tanh | Batch Size: 102 | Momentum: 0.99 | Learning Rate: 0.1 | Accuracy: 1.00\n",
      "661. Maximum iterations: 600 | Hidden Layers: (100,) | Activation: tanh | Batch Size: 50 | Momentum: 0.9 | Learning Rate: 0.1 | Accuracy: 0.98\n",
      "662. Maximum iterations: 600 | Hidden Layers: (100,) | Activation: tanh | Batch Size: 50 | Momentum: 0.95 | Learning Rate: 0.1 | Accuracy: 0.98\n",
      "663. Maximum iterations: 600 | Hidden Layers: (100,) | Activation: tanh | Batch Size: 50 | Momentum: 0.99 | Learning Rate: 0.1 | Accuracy: 0.98\n",
      "664. Maximum iterations: 600 | Hidden Layers: (100,) | Activation: tanh | Batch Size: 25 | Momentum: 0.9 | Learning Rate: 0.1 | Accuracy: 0.98\n",
      "665. Maximum iterations: 600 | Hidden Layers: (100,) | Activation: tanh | Batch Size: 25 | Momentum: 0.95 | Learning Rate: 0.1 | Accuracy: 0.98\n",
      "666. Maximum iterations: 600 | Hidden Layers: (100,) | Activation: tanh | Batch Size: 25 | Momentum: 0.99 | Learning Rate: 0.1 | Accuracy: 0.98\n",
      "667. Maximum iterations: 600 | Hidden Layers: (100,) | Activation: logistic | Batch Size: 102 | Momentum: 0.9 | Learning Rate: 0.1 | Accuracy: 1.00\n",
      "668. Maximum iterations: 600 | Hidden Layers: (100,) | Activation: logistic | Batch Size: 102 | Momentum: 0.95 | Learning Rate: 0.1 | Accuracy: 1.00\n",
      "669. Maximum iterations: 600 | Hidden Layers: (100,) | Activation: logistic | Batch Size: 102 | Momentum: 0.99 | Learning Rate: 0.1 | Accuracy: 1.00\n",
      "670. Maximum iterations: 600 | Hidden Layers: (100,) | Activation: logistic | Batch Size: 50 | Momentum: 0.9 | Learning Rate: 0.1 | Accuracy: 1.00\n",
      "671. Maximum iterations: 600 | Hidden Layers: (100,) | Activation: logistic | Batch Size: 50 | Momentum: 0.95 | Learning Rate: 0.1 | Accuracy: 1.00\n",
      "672. Maximum iterations: 600 | Hidden Layers: (100,) | Activation: logistic | Batch Size: 50 | Momentum: 0.99 | Learning Rate: 0.1 | Accuracy: 1.00\n",
      "673. Maximum iterations: 600 | Hidden Layers: (100,) | Activation: logistic | Batch Size: 25 | Momentum: 0.9 | Learning Rate: 0.1 | Accuracy: 1.00\n",
      "674. Maximum iterations: 600 | Hidden Layers: (100,) | Activation: logistic | Batch Size: 25 | Momentum: 0.95 | Learning Rate: 0.1 | Accuracy: 1.00\n",
      "675. Maximum iterations: 600 | Hidden Layers: (100,) | Activation: logistic | Batch Size: 25 | Momentum: 0.99 | Learning Rate: 0.1 | Accuracy: 1.00\n",
      "676. Maximum iterations: 600 | Hidden Layers: (50,) | Activation: relu | Batch Size: 102 | Momentum: 0.9 | Learning Rate: 0.1 | Accuracy: 1.00\n",
      "677. Maximum iterations: 600 | Hidden Layers: (50,) | Activation: relu | Batch Size: 102 | Momentum: 0.95 | Learning Rate: 0.1 | Accuracy: 1.00\n",
      "678. Maximum iterations: 600 | Hidden Layers: (50,) | Activation: relu | Batch Size: 102 | Momentum: 0.99 | Learning Rate: 0.1 | Accuracy: 1.00\n",
      "679. Maximum iterations: 600 | Hidden Layers: (50,) | Activation: relu | Batch Size: 50 | Momentum: 0.9 | Learning Rate: 0.1 | Accuracy: 1.00\n",
      "680. Maximum iterations: 600 | Hidden Layers: (50,) | Activation: relu | Batch Size: 50 | Momentum: 0.95 | Learning Rate: 0.1 | Accuracy: 1.00\n",
      "681. Maximum iterations: 600 | Hidden Layers: (50,) | Activation: relu | Batch Size: 50 | Momentum: 0.99 | Learning Rate: 0.1 | Accuracy: 1.00\n",
      "682. Maximum iterations: 600 | Hidden Layers: (50,) | Activation: relu | Batch Size: 25 | Momentum: 0.9 | Learning Rate: 0.1 | Accuracy: 1.00\n",
      "683. Maximum iterations: 600 | Hidden Layers: (50,) | Activation: relu | Batch Size: 25 | Momentum: 0.95 | Learning Rate: 0.1 | Accuracy: 1.00\n",
      "684. Maximum iterations: 600 | Hidden Layers: (50,) | Activation: relu | Batch Size: 25 | Momentum: 0.99 | Learning Rate: 0.1 | Accuracy: 1.00\n",
      "685. Maximum iterations: 600 | Hidden Layers: (50,) | Activation: tanh | Batch Size: 102 | Momentum: 0.9 | Learning Rate: 0.1 | Accuracy: 1.00\n",
      "686. Maximum iterations: 600 | Hidden Layers: (50,) | Activation: tanh | Batch Size: 102 | Momentum: 0.95 | Learning Rate: 0.1 | Accuracy: 1.00\n",
      "687. Maximum iterations: 600 | Hidden Layers: (50,) | Activation: tanh | Batch Size: 102 | Momentum: 0.99 | Learning Rate: 0.1 | Accuracy: 1.00\n",
      "688. Maximum iterations: 600 | Hidden Layers: (50,) | Activation: tanh | Batch Size: 50 | Momentum: 0.9 | Learning Rate: 0.1 | Accuracy: 1.00\n",
      "689. Maximum iterations: 600 | Hidden Layers: (50,) | Activation: tanh | Batch Size: 50 | Momentum: 0.95 | Learning Rate: 0.1 | Accuracy: 1.00\n",
      "690. Maximum iterations: 600 | Hidden Layers: (50,) | Activation: tanh | Batch Size: 50 | Momentum: 0.99 | Learning Rate: 0.1 | Accuracy: 1.00\n",
      "691. Maximum iterations: 600 | Hidden Layers: (50,) | Activation: tanh | Batch Size: 25 | Momentum: 0.9 | Learning Rate: 0.1 | Accuracy: 1.00\n",
      "692. Maximum iterations: 600 | Hidden Layers: (50,) | Activation: tanh | Batch Size: 25 | Momentum: 0.95 | Learning Rate: 0.1 | Accuracy: 1.00\n",
      "693. Maximum iterations: 600 | Hidden Layers: (50,) | Activation: tanh | Batch Size: 25 | Momentum: 0.99 | Learning Rate: 0.1 | Accuracy: 1.00\n",
      "694. Maximum iterations: 600 | Hidden Layers: (50,) | Activation: logistic | Batch Size: 102 | Momentum: 0.9 | Learning Rate: 0.1 | Accuracy: 1.00\n",
      "695. Maximum iterations: 600 | Hidden Layers: (50,) | Activation: logistic | Batch Size: 102 | Momentum: 0.95 | Learning Rate: 0.1 | Accuracy: 1.00\n",
      "696. Maximum iterations: 600 | Hidden Layers: (50,) | Activation: logistic | Batch Size: 102 | Momentum: 0.99 | Learning Rate: 0.1 | Accuracy: 1.00\n",
      "697. Maximum iterations: 600 | Hidden Layers: (50,) | Activation: logistic | Batch Size: 50 | Momentum: 0.9 | Learning Rate: 0.1 | Accuracy: 1.00\n",
      "698. Maximum iterations: 600 | Hidden Layers: (50,) | Activation: logistic | Batch Size: 50 | Momentum: 0.95 | Learning Rate: 0.1 | Accuracy: 1.00\n",
      "699. Maximum iterations: 600 | Hidden Layers: (50,) | Activation: logistic | Batch Size: 50 | Momentum: 0.99 | Learning Rate: 0.1 | Accuracy: 1.00\n",
      "700. Maximum iterations: 600 | Hidden Layers: (50,) | Activation: logistic | Batch Size: 25 | Momentum: 0.9 | Learning Rate: 0.1 | Accuracy: 1.00\n",
      "701. Maximum iterations: 600 | Hidden Layers: (50,) | Activation: logistic | Batch Size: 25 | Momentum: 0.95 | Learning Rate: 0.1 | Accuracy: 1.00\n",
      "702. Maximum iterations: 600 | Hidden Layers: (50,) | Activation: logistic | Batch Size: 25 | Momentum: 0.99 | Learning Rate: 0.1 | Accuracy: 1.00\n",
      "703. Maximum iterations: 600 | Hidden Layers: (50, 50) | Activation: relu | Batch Size: 102 | Momentum: 0.9 | Learning Rate: 0.1 | Accuracy: 1.00\n",
      "704. Maximum iterations: 600 | Hidden Layers: (50, 50) | Activation: relu | Batch Size: 102 | Momentum: 0.95 | Learning Rate: 0.1 | Accuracy: 1.00\n",
      "705. Maximum iterations: 600 | Hidden Layers: (50, 50) | Activation: relu | Batch Size: 102 | Momentum: 0.99 | Learning Rate: 0.1 | Accuracy: 1.00\n",
      "706. Maximum iterations: 600 | Hidden Layers: (50, 50) | Activation: relu | Batch Size: 50 | Momentum: 0.9 | Learning Rate: 0.1 | Accuracy: 0.95\n",
      "707. Maximum iterations: 600 | Hidden Layers: (50, 50) | Activation: relu | Batch Size: 50 | Momentum: 0.95 | Learning Rate: 0.1 | Accuracy: 0.95\n",
      "708. Maximum iterations: 600 | Hidden Layers: (50, 50) | Activation: relu | Batch Size: 50 | Momentum: 0.99 | Learning Rate: 0.1 | Accuracy: 0.95\n",
      "709. Maximum iterations: 600 | Hidden Layers: (50, 50) | Activation: relu | Batch Size: 25 | Momentum: 0.9 | Learning Rate: 0.1 | Accuracy: 0.98\n",
      "710. Maximum iterations: 600 | Hidden Layers: (50, 50) | Activation: relu | Batch Size: 25 | Momentum: 0.95 | Learning Rate: 0.1 | Accuracy: 0.98\n",
      "711. Maximum iterations: 600 | Hidden Layers: (50, 50) | Activation: relu | Batch Size: 25 | Momentum: 0.99 | Learning Rate: 0.1 | Accuracy: 0.98\n",
      "712. Maximum iterations: 600 | Hidden Layers: (50, 50) | Activation: tanh | Batch Size: 102 | Momentum: 0.9 | Learning Rate: 0.1 | Accuracy: 0.98\n",
      "713. Maximum iterations: 600 | Hidden Layers: (50, 50) | Activation: tanh | Batch Size: 102 | Momentum: 0.95 | Learning Rate: 0.1 | Accuracy: 0.98\n",
      "714. Maximum iterations: 600 | Hidden Layers: (50, 50) | Activation: tanh | Batch Size: 102 | Momentum: 0.99 | Learning Rate: 0.1 | Accuracy: 0.98\n",
      "715. Maximum iterations: 600 | Hidden Layers: (50, 50) | Activation: tanh | Batch Size: 50 | Momentum: 0.9 | Learning Rate: 0.1 | Accuracy: 0.98\n",
      "716. Maximum iterations: 600 | Hidden Layers: (50, 50) | Activation: tanh | Batch Size: 50 | Momentum: 0.95 | Learning Rate: 0.1 | Accuracy: 0.98\n",
      "717. Maximum iterations: 600 | Hidden Layers: (50, 50) | Activation: tanh | Batch Size: 50 | Momentum: 0.99 | Learning Rate: 0.1 | Accuracy: 0.98\n",
      "718. Maximum iterations: 600 | Hidden Layers: (50, 50) | Activation: tanh | Batch Size: 25 | Momentum: 0.9 | Learning Rate: 0.1 | Accuracy: 1.00\n",
      "719. Maximum iterations: 600 | Hidden Layers: (50, 50) | Activation: tanh | Batch Size: 25 | Momentum: 0.95 | Learning Rate: 0.1 | Accuracy: 1.00\n",
      "720. Maximum iterations: 600 | Hidden Layers: (50, 50) | Activation: tanh | Batch Size: 25 | Momentum: 0.99 | Learning Rate: 0.1 | Accuracy: 1.00\n",
      "721. Maximum iterations: 600 | Hidden Layers: (50, 50) | Activation: logistic | Batch Size: 102 | Momentum: 0.9 | Learning Rate: 0.1 | Accuracy: 1.00\n",
      "722. Maximum iterations: 600 | Hidden Layers: (50, 50) | Activation: logistic | Batch Size: 102 | Momentum: 0.95 | Learning Rate: 0.1 | Accuracy: 1.00\n",
      "723. Maximum iterations: 600 | Hidden Layers: (50, 50) | Activation: logistic | Batch Size: 102 | Momentum: 0.99 | Learning Rate: 0.1 | Accuracy: 1.00\n",
      "724. Maximum iterations: 600 | Hidden Layers: (50, 50) | Activation: logistic | Batch Size: 50 | Momentum: 0.9 | Learning Rate: 0.1 | Accuracy: 1.00\n",
      "725. Maximum iterations: 600 | Hidden Layers: (50, 50) | Activation: logistic | Batch Size: 50 | Momentum: 0.95 | Learning Rate: 0.1 | Accuracy: 1.00\n",
      "726. Maximum iterations: 600 | Hidden Layers: (50, 50) | Activation: logistic | Batch Size: 50 | Momentum: 0.99 | Learning Rate: 0.1 | Accuracy: 1.00\n",
      "727. Maximum iterations: 600 | Hidden Layers: (50, 50) | Activation: logistic | Batch Size: 25 | Momentum: 0.9 | Learning Rate: 0.1 | Accuracy: 0.98\n",
      "728. Maximum iterations: 600 | Hidden Layers: (50, 50) | Activation: logistic | Batch Size: 25 | Momentum: 0.95 | Learning Rate: 0.1 | Accuracy: 0.98\n",
      "729. Maximum iterations: 600 | Hidden Layers: (50, 50) | Activation: logistic | Batch Size: 25 | Momentum: 0.99 | Learning Rate: 0.1 | Accuracy: 0.98\n",
      "730. Maximum iterations: 600 | Hidden Layers: (25, 25, 25) | Activation: relu | Batch Size: 102 | Momentum: 0.9 | Learning Rate: 0.1 | Accuracy: 1.00\n",
      "731. Maximum iterations: 600 | Hidden Layers: (25, 25, 25) | Activation: relu | Batch Size: 102 | Momentum: 0.95 | Learning Rate: 0.1 | Accuracy: 1.00\n",
      "732. Maximum iterations: 600 | Hidden Layers: (25, 25, 25) | Activation: relu | Batch Size: 102 | Momentum: 0.99 | Learning Rate: 0.1 | Accuracy: 1.00\n",
      "733. Maximum iterations: 600 | Hidden Layers: (25, 25, 25) | Activation: relu | Batch Size: 50 | Momentum: 0.9 | Learning Rate: 0.1 | Accuracy: 0.98\n",
      "734. Maximum iterations: 600 | Hidden Layers: (25, 25, 25) | Activation: relu | Batch Size: 50 | Momentum: 0.95 | Learning Rate: 0.1 | Accuracy: 0.98\n",
      "735. Maximum iterations: 600 | Hidden Layers: (25, 25, 25) | Activation: relu | Batch Size: 50 | Momentum: 0.99 | Learning Rate: 0.1 | Accuracy: 0.98\n",
      "736. Maximum iterations: 600 | Hidden Layers: (25, 25, 25) | Activation: relu | Batch Size: 25 | Momentum: 0.9 | Learning Rate: 0.1 | Accuracy: 1.00\n",
      "737. Maximum iterations: 600 | Hidden Layers: (25, 25, 25) | Activation: relu | Batch Size: 25 | Momentum: 0.95 | Learning Rate: 0.1 | Accuracy: 1.00\n",
      "738. Maximum iterations: 600 | Hidden Layers: (25, 25, 25) | Activation: relu | Batch Size: 25 | Momentum: 0.99 | Learning Rate: 0.1 | Accuracy: 1.00\n",
      "739. Maximum iterations: 600 | Hidden Layers: (25, 25, 25) | Activation: tanh | Batch Size: 102 | Momentum: 0.9 | Learning Rate: 0.1 | Accuracy: 1.00\n",
      "740. Maximum iterations: 600 | Hidden Layers: (25, 25, 25) | Activation: tanh | Batch Size: 102 | Momentum: 0.95 | Learning Rate: 0.1 | Accuracy: 1.00\n",
      "741. Maximum iterations: 600 | Hidden Layers: (25, 25, 25) | Activation: tanh | Batch Size: 102 | Momentum: 0.99 | Learning Rate: 0.1 | Accuracy: 1.00\n",
      "742. Maximum iterations: 600 | Hidden Layers: (25, 25, 25) | Activation: tanh | Batch Size: 50 | Momentum: 0.9 | Learning Rate: 0.1 | Accuracy: 0.98\n",
      "743. Maximum iterations: 600 | Hidden Layers: (25, 25, 25) | Activation: tanh | Batch Size: 50 | Momentum: 0.95 | Learning Rate: 0.1 | Accuracy: 0.98\n",
      "744. Maximum iterations: 600 | Hidden Layers: (25, 25, 25) | Activation: tanh | Batch Size: 50 | Momentum: 0.99 | Learning Rate: 0.1 | Accuracy: 0.98\n",
      "745. Maximum iterations: 600 | Hidden Layers: (25, 25, 25) | Activation: tanh | Batch Size: 25 | Momentum: 0.9 | Learning Rate: 0.1 | Accuracy: 0.98\n",
      "746. Maximum iterations: 600 | Hidden Layers: (25, 25, 25) | Activation: tanh | Batch Size: 25 | Momentum: 0.95 | Learning Rate: 0.1 | Accuracy: 0.98\n",
      "747. Maximum iterations: 600 | Hidden Layers: (25, 25, 25) | Activation: tanh | Batch Size: 25 | Momentum: 0.99 | Learning Rate: 0.1 | Accuracy: 0.98\n",
      "748. Maximum iterations: 600 | Hidden Layers: (25, 25, 25) | Activation: logistic | Batch Size: 102 | Momentum: 0.9 | Learning Rate: 0.1 | Accuracy: 0.98\n",
      "749. Maximum iterations: 600 | Hidden Layers: (25, 25, 25) | Activation: logistic | Batch Size: 102 | Momentum: 0.95 | Learning Rate: 0.1 | Accuracy: 0.98\n",
      "750. Maximum iterations: 600 | Hidden Layers: (25, 25, 25) | Activation: logistic | Batch Size: 102 | Momentum: 0.99 | Learning Rate: 0.1 | Accuracy: 0.98\n",
      "751. Maximum iterations: 600 | Hidden Layers: (25, 25, 25) | Activation: logistic | Batch Size: 50 | Momentum: 0.9 | Learning Rate: 0.1 | Accuracy: 1.00\n",
      "752. Maximum iterations: 600 | Hidden Layers: (25, 25, 25) | Activation: logistic | Batch Size: 50 | Momentum: 0.95 | Learning Rate: 0.1 | Accuracy: 1.00\n",
      "753. Maximum iterations: 600 | Hidden Layers: (25, 25, 25) | Activation: logistic | Batch Size: 50 | Momentum: 0.99 | Learning Rate: 0.1 | Accuracy: 1.00\n",
      "754. Maximum iterations: 600 | Hidden Layers: (25, 25, 25) | Activation: logistic | Batch Size: 25 | Momentum: 0.9 | Learning Rate: 0.1 | Accuracy: 1.00\n",
      "755. Maximum iterations: 600 | Hidden Layers: (25, 25, 25) | Activation: logistic | Batch Size: 25 | Momentum: 0.95 | Learning Rate: 0.1 | Accuracy: 1.00\n",
      "756. Maximum iterations: 600 | Hidden Layers: (25, 25, 25) | Activation: logistic | Batch Size: 25 | Momentum: 0.99 | Learning Rate: 0.1 | Accuracy: 1.00\n",
      "757. Maximum iterations: 400 | Hidden Layers: (100,) | Activation: relu | Batch Size: 102 | Momentum: 0.9 | Learning Rate: 0.1 | Accuracy: 1.00\n",
      "758. Maximum iterations: 400 | Hidden Layers: (100,) | Activation: relu | Batch Size: 102 | Momentum: 0.95 | Learning Rate: 0.1 | Accuracy: 1.00\n",
      "759. Maximum iterations: 400 | Hidden Layers: (100,) | Activation: relu | Batch Size: 102 | Momentum: 0.99 | Learning Rate: 0.1 | Accuracy: 1.00\n",
      "760. Maximum iterations: 400 | Hidden Layers: (100,) | Activation: relu | Batch Size: 50 | Momentum: 0.9 | Learning Rate: 0.1 | Accuracy: 1.00\n",
      "761. Maximum iterations: 400 | Hidden Layers: (100,) | Activation: relu | Batch Size: 50 | Momentum: 0.95 | Learning Rate: 0.1 | Accuracy: 1.00\n",
      "762. Maximum iterations: 400 | Hidden Layers: (100,) | Activation: relu | Batch Size: 50 | Momentum: 0.99 | Learning Rate: 0.1 | Accuracy: 1.00\n",
      "763. Maximum iterations: 400 | Hidden Layers: (100,) | Activation: relu | Batch Size: 25 | Momentum: 0.9 | Learning Rate: 0.1 | Accuracy: 1.00\n",
      "764. Maximum iterations: 400 | Hidden Layers: (100,) | Activation: relu | Batch Size: 25 | Momentum: 0.95 | Learning Rate: 0.1 | Accuracy: 1.00\n",
      "765. Maximum iterations: 400 | Hidden Layers: (100,) | Activation: relu | Batch Size: 25 | Momentum: 0.99 | Learning Rate: 0.1 | Accuracy: 1.00\n",
      "766. Maximum iterations: 400 | Hidden Layers: (100,) | Activation: tanh | Batch Size: 102 | Momentum: 0.9 | Learning Rate: 0.1 | Accuracy: 1.00\n",
      "767. Maximum iterations: 400 | Hidden Layers: (100,) | Activation: tanh | Batch Size: 102 | Momentum: 0.95 | Learning Rate: 0.1 | Accuracy: 1.00\n",
      "768. Maximum iterations: 400 | Hidden Layers: (100,) | Activation: tanh | Batch Size: 102 | Momentum: 0.99 | Learning Rate: 0.1 | Accuracy: 1.00\n",
      "769. Maximum iterations: 400 | Hidden Layers: (100,) | Activation: tanh | Batch Size: 50 | Momentum: 0.9 | Learning Rate: 0.1 | Accuracy: 0.98\n",
      "770. Maximum iterations: 400 | Hidden Layers: (100,) | Activation: tanh | Batch Size: 50 | Momentum: 0.95 | Learning Rate: 0.1 | Accuracy: 0.98\n",
      "771. Maximum iterations: 400 | Hidden Layers: (100,) | Activation: tanh | Batch Size: 50 | Momentum: 0.99 | Learning Rate: 0.1 | Accuracy: 0.98\n",
      "772. Maximum iterations: 400 | Hidden Layers: (100,) | Activation: tanh | Batch Size: 25 | Momentum: 0.9 | Learning Rate: 0.1 | Accuracy: 0.98\n",
      "773. Maximum iterations: 400 | Hidden Layers: (100,) | Activation: tanh | Batch Size: 25 | Momentum: 0.95 | Learning Rate: 0.1 | Accuracy: 0.98\n",
      "774. Maximum iterations: 400 | Hidden Layers: (100,) | Activation: tanh | Batch Size: 25 | Momentum: 0.99 | Learning Rate: 0.1 | Accuracy: 0.98\n",
      "775. Maximum iterations: 400 | Hidden Layers: (100,) | Activation: logistic | Batch Size: 102 | Momentum: 0.9 | Learning Rate: 0.1 | Accuracy: 1.00\n",
      "776. Maximum iterations: 400 | Hidden Layers: (100,) | Activation: logistic | Batch Size: 102 | Momentum: 0.95 | Learning Rate: 0.1 | Accuracy: 1.00\n",
      "777. Maximum iterations: 400 | Hidden Layers: (100,) | Activation: logistic | Batch Size: 102 | Momentum: 0.99 | Learning Rate: 0.1 | Accuracy: 1.00\n",
      "778. Maximum iterations: 400 | Hidden Layers: (100,) | Activation: logistic | Batch Size: 50 | Momentum: 0.9 | Learning Rate: 0.1 | Accuracy: 1.00\n",
      "779. Maximum iterations: 400 | Hidden Layers: (100,) | Activation: logistic | Batch Size: 50 | Momentum: 0.95 | Learning Rate: 0.1 | Accuracy: 1.00\n",
      "780. Maximum iterations: 400 | Hidden Layers: (100,) | Activation: logistic | Batch Size: 50 | Momentum: 0.99 | Learning Rate: 0.1 | Accuracy: 1.00\n",
      "781. Maximum iterations: 400 | Hidden Layers: (100,) | Activation: logistic | Batch Size: 25 | Momentum: 0.9 | Learning Rate: 0.1 | Accuracy: 1.00\n",
      "782. Maximum iterations: 400 | Hidden Layers: (100,) | Activation: logistic | Batch Size: 25 | Momentum: 0.95 | Learning Rate: 0.1 | Accuracy: 1.00\n",
      "783. Maximum iterations: 400 | Hidden Layers: (100,) | Activation: logistic | Batch Size: 25 | Momentum: 0.99 | Learning Rate: 0.1 | Accuracy: 1.00\n",
      "784. Maximum iterations: 400 | Hidden Layers: (50,) | Activation: relu | Batch Size: 102 | Momentum: 0.9 | Learning Rate: 0.1 | Accuracy: 1.00\n",
      "785. Maximum iterations: 400 | Hidden Layers: (50,) | Activation: relu | Batch Size: 102 | Momentum: 0.95 | Learning Rate: 0.1 | Accuracy: 1.00\n",
      "786. Maximum iterations: 400 | Hidden Layers: (50,) | Activation: relu | Batch Size: 102 | Momentum: 0.99 | Learning Rate: 0.1 | Accuracy: 1.00\n",
      "787. Maximum iterations: 400 | Hidden Layers: (50,) | Activation: relu | Batch Size: 50 | Momentum: 0.9 | Learning Rate: 0.1 | Accuracy: 1.00\n",
      "788. Maximum iterations: 400 | Hidden Layers: (50,) | Activation: relu | Batch Size: 50 | Momentum: 0.95 | Learning Rate: 0.1 | Accuracy: 1.00\n",
      "789. Maximum iterations: 400 | Hidden Layers: (50,) | Activation: relu | Batch Size: 50 | Momentum: 0.99 | Learning Rate: 0.1 | Accuracy: 1.00\n",
      "790. Maximum iterations: 400 | Hidden Layers: (50,) | Activation: relu | Batch Size: 25 | Momentum: 0.9 | Learning Rate: 0.1 | Accuracy: 1.00\n",
      "791. Maximum iterations: 400 | Hidden Layers: (50,) | Activation: relu | Batch Size: 25 | Momentum: 0.95 | Learning Rate: 0.1 | Accuracy: 1.00\n",
      "792. Maximum iterations: 400 | Hidden Layers: (50,) | Activation: relu | Batch Size: 25 | Momentum: 0.99 | Learning Rate: 0.1 | Accuracy: 1.00\n",
      "793. Maximum iterations: 400 | Hidden Layers: (50,) | Activation: tanh | Batch Size: 102 | Momentum: 0.9 | Learning Rate: 0.1 | Accuracy: 1.00\n",
      "794. Maximum iterations: 400 | Hidden Layers: (50,) | Activation: tanh | Batch Size: 102 | Momentum: 0.95 | Learning Rate: 0.1 | Accuracy: 1.00\n",
      "795. Maximum iterations: 400 | Hidden Layers: (50,) | Activation: tanh | Batch Size: 102 | Momentum: 0.99 | Learning Rate: 0.1 | Accuracy: 1.00\n",
      "796. Maximum iterations: 400 | Hidden Layers: (50,) | Activation: tanh | Batch Size: 50 | Momentum: 0.9 | Learning Rate: 0.1 | Accuracy: 1.00\n",
      "797. Maximum iterations: 400 | Hidden Layers: (50,) | Activation: tanh | Batch Size: 50 | Momentum: 0.95 | Learning Rate: 0.1 | Accuracy: 1.00\n",
      "798. Maximum iterations: 400 | Hidden Layers: (50,) | Activation: tanh | Batch Size: 50 | Momentum: 0.99 | Learning Rate: 0.1 | Accuracy: 1.00\n",
      "799. Maximum iterations: 400 | Hidden Layers: (50,) | Activation: tanh | Batch Size: 25 | Momentum: 0.9 | Learning Rate: 0.1 | Accuracy: 1.00\n",
      "800. Maximum iterations: 400 | Hidden Layers: (50,) | Activation: tanh | Batch Size: 25 | Momentum: 0.95 | Learning Rate: 0.1 | Accuracy: 1.00\n",
      "801. Maximum iterations: 400 | Hidden Layers: (50,) | Activation: tanh | Batch Size: 25 | Momentum: 0.99 | Learning Rate: 0.1 | Accuracy: 1.00\n",
      "802. Maximum iterations: 400 | Hidden Layers: (50,) | Activation: logistic | Batch Size: 102 | Momentum: 0.9 | Learning Rate: 0.1 | Accuracy: 1.00\n",
      "803. Maximum iterations: 400 | Hidden Layers: (50,) | Activation: logistic | Batch Size: 102 | Momentum: 0.95 | Learning Rate: 0.1 | Accuracy: 1.00\n",
      "804. Maximum iterations: 400 | Hidden Layers: (50,) | Activation: logistic | Batch Size: 102 | Momentum: 0.99 | Learning Rate: 0.1 | Accuracy: 1.00\n",
      "805. Maximum iterations: 400 | Hidden Layers: (50,) | Activation: logistic | Batch Size: 50 | Momentum: 0.9 | Learning Rate: 0.1 | Accuracy: 1.00\n",
      "806. Maximum iterations: 400 | Hidden Layers: (50,) | Activation: logistic | Batch Size: 50 | Momentum: 0.95 | Learning Rate: 0.1 | Accuracy: 1.00\n",
      "807. Maximum iterations: 400 | Hidden Layers: (50,) | Activation: logistic | Batch Size: 50 | Momentum: 0.99 | Learning Rate: 0.1 | Accuracy: 1.00\n",
      "808. Maximum iterations: 400 | Hidden Layers: (50,) | Activation: logistic | Batch Size: 25 | Momentum: 0.9 | Learning Rate: 0.1 | Accuracy: 1.00\n",
      "809. Maximum iterations: 400 | Hidden Layers: (50,) | Activation: logistic | Batch Size: 25 | Momentum: 0.95 | Learning Rate: 0.1 | Accuracy: 1.00\n",
      "810. Maximum iterations: 400 | Hidden Layers: (50,) | Activation: logistic | Batch Size: 25 | Momentum: 0.99 | Learning Rate: 0.1 | Accuracy: 1.00\n",
      "811. Maximum iterations: 400 | Hidden Layers: (50, 50) | Activation: relu | Batch Size: 102 | Momentum: 0.9 | Learning Rate: 0.1 | Accuracy: 1.00\n",
      "812. Maximum iterations: 400 | Hidden Layers: (50, 50) | Activation: relu | Batch Size: 102 | Momentum: 0.95 | Learning Rate: 0.1 | Accuracy: 1.00\n",
      "813. Maximum iterations: 400 | Hidden Layers: (50, 50) | Activation: relu | Batch Size: 102 | Momentum: 0.99 | Learning Rate: 0.1 | Accuracy: 1.00\n",
      "814. Maximum iterations: 400 | Hidden Layers: (50, 50) | Activation: relu | Batch Size: 50 | Momentum: 0.9 | Learning Rate: 0.1 | Accuracy: 0.95\n",
      "815. Maximum iterations: 400 | Hidden Layers: (50, 50) | Activation: relu | Batch Size: 50 | Momentum: 0.95 | Learning Rate: 0.1 | Accuracy: 0.95\n",
      "816. Maximum iterations: 400 | Hidden Layers: (50, 50) | Activation: relu | Batch Size: 50 | Momentum: 0.99 | Learning Rate: 0.1 | Accuracy: 0.95\n",
      "817. Maximum iterations: 400 | Hidden Layers: (50, 50) | Activation: relu | Batch Size: 25 | Momentum: 0.9 | Learning Rate: 0.1 | Accuracy: 0.98\n",
      "818. Maximum iterations: 400 | Hidden Layers: (50, 50) | Activation: relu | Batch Size: 25 | Momentum: 0.95 | Learning Rate: 0.1 | Accuracy: 0.98\n",
      "819. Maximum iterations: 400 | Hidden Layers: (50, 50) | Activation: relu | Batch Size: 25 | Momentum: 0.99 | Learning Rate: 0.1 | Accuracy: 0.98\n",
      "820. Maximum iterations: 400 | Hidden Layers: (50, 50) | Activation: tanh | Batch Size: 102 | Momentum: 0.9 | Learning Rate: 0.1 | Accuracy: 0.98\n",
      "821. Maximum iterations: 400 | Hidden Layers: (50, 50) | Activation: tanh | Batch Size: 102 | Momentum: 0.95 | Learning Rate: 0.1 | Accuracy: 0.98\n",
      "822. Maximum iterations: 400 | Hidden Layers: (50, 50) | Activation: tanh | Batch Size: 102 | Momentum: 0.99 | Learning Rate: 0.1 | Accuracy: 0.98\n",
      "823. Maximum iterations: 400 | Hidden Layers: (50, 50) | Activation: tanh | Batch Size: 50 | Momentum: 0.9 | Learning Rate: 0.1 | Accuracy: 0.98\n",
      "824. Maximum iterations: 400 | Hidden Layers: (50, 50) | Activation: tanh | Batch Size: 50 | Momentum: 0.95 | Learning Rate: 0.1 | Accuracy: 0.98\n",
      "825. Maximum iterations: 400 | Hidden Layers: (50, 50) | Activation: tanh | Batch Size: 50 | Momentum: 0.99 | Learning Rate: 0.1 | Accuracy: 0.98\n",
      "826. Maximum iterations: 400 | Hidden Layers: (50, 50) | Activation: tanh | Batch Size: 25 | Momentum: 0.9 | Learning Rate: 0.1 | Accuracy: 1.00\n",
      "827. Maximum iterations: 400 | Hidden Layers: (50, 50) | Activation: tanh | Batch Size: 25 | Momentum: 0.95 | Learning Rate: 0.1 | Accuracy: 1.00\n",
      "828. Maximum iterations: 400 | Hidden Layers: (50, 50) | Activation: tanh | Batch Size: 25 | Momentum: 0.99 | Learning Rate: 0.1 | Accuracy: 1.00\n",
      "829. Maximum iterations: 400 | Hidden Layers: (50, 50) | Activation: logistic | Batch Size: 102 | Momentum: 0.9 | Learning Rate: 0.1 | Accuracy: 1.00\n",
      "830. Maximum iterations: 400 | Hidden Layers: (50, 50) | Activation: logistic | Batch Size: 102 | Momentum: 0.95 | Learning Rate: 0.1 | Accuracy: 1.00\n",
      "831. Maximum iterations: 400 | Hidden Layers: (50, 50) | Activation: logistic | Batch Size: 102 | Momentum: 0.99 | Learning Rate: 0.1 | Accuracy: 1.00\n",
      "832. Maximum iterations: 400 | Hidden Layers: (50, 50) | Activation: logistic | Batch Size: 50 | Momentum: 0.9 | Learning Rate: 0.1 | Accuracy: 1.00\n",
      "833. Maximum iterations: 400 | Hidden Layers: (50, 50) | Activation: logistic | Batch Size: 50 | Momentum: 0.95 | Learning Rate: 0.1 | Accuracy: 1.00\n",
      "834. Maximum iterations: 400 | Hidden Layers: (50, 50) | Activation: logistic | Batch Size: 50 | Momentum: 0.99 | Learning Rate: 0.1 | Accuracy: 1.00\n",
      "835. Maximum iterations: 400 | Hidden Layers: (50, 50) | Activation: logistic | Batch Size: 25 | Momentum: 0.9 | Learning Rate: 0.1 | Accuracy: 0.98\n",
      "836. Maximum iterations: 400 | Hidden Layers: (50, 50) | Activation: logistic | Batch Size: 25 | Momentum: 0.95 | Learning Rate: 0.1 | Accuracy: 0.98\n",
      "837. Maximum iterations: 400 | Hidden Layers: (50, 50) | Activation: logistic | Batch Size: 25 | Momentum: 0.99 | Learning Rate: 0.1 | Accuracy: 0.98\n",
      "838. Maximum iterations: 400 | Hidden Layers: (25, 25, 25) | Activation: relu | Batch Size: 102 | Momentum: 0.9 | Learning Rate: 0.1 | Accuracy: 1.00\n",
      "839. Maximum iterations: 400 | Hidden Layers: (25, 25, 25) | Activation: relu | Batch Size: 102 | Momentum: 0.95 | Learning Rate: 0.1 | Accuracy: 1.00\n",
      "840. Maximum iterations: 400 | Hidden Layers: (25, 25, 25) | Activation: relu | Batch Size: 102 | Momentum: 0.99 | Learning Rate: 0.1 | Accuracy: 1.00\n",
      "841. Maximum iterations: 400 | Hidden Layers: (25, 25, 25) | Activation: relu | Batch Size: 50 | Momentum: 0.9 | Learning Rate: 0.1 | Accuracy: 0.98\n",
      "842. Maximum iterations: 400 | Hidden Layers: (25, 25, 25) | Activation: relu | Batch Size: 50 | Momentum: 0.95 | Learning Rate: 0.1 | Accuracy: 0.98\n",
      "843. Maximum iterations: 400 | Hidden Layers: (25, 25, 25) | Activation: relu | Batch Size: 50 | Momentum: 0.99 | Learning Rate: 0.1 | Accuracy: 0.98\n",
      "844. Maximum iterations: 400 | Hidden Layers: (25, 25, 25) | Activation: relu | Batch Size: 25 | Momentum: 0.9 | Learning Rate: 0.1 | Accuracy: 1.00\n",
      "845. Maximum iterations: 400 | Hidden Layers: (25, 25, 25) | Activation: relu | Batch Size: 25 | Momentum: 0.95 | Learning Rate: 0.1 | Accuracy: 1.00\n",
      "846. Maximum iterations: 400 | Hidden Layers: (25, 25, 25) | Activation: relu | Batch Size: 25 | Momentum: 0.99 | Learning Rate: 0.1 | Accuracy: 1.00\n",
      "847. Maximum iterations: 400 | Hidden Layers: (25, 25, 25) | Activation: tanh | Batch Size: 102 | Momentum: 0.9 | Learning Rate: 0.1 | Accuracy: 1.00\n",
      "848. Maximum iterations: 400 | Hidden Layers: (25, 25, 25) | Activation: tanh | Batch Size: 102 | Momentum: 0.95 | Learning Rate: 0.1 | Accuracy: 1.00\n",
      "849. Maximum iterations: 400 | Hidden Layers: (25, 25, 25) | Activation: tanh | Batch Size: 102 | Momentum: 0.99 | Learning Rate: 0.1 | Accuracy: 1.00\n",
      "850. Maximum iterations: 400 | Hidden Layers: (25, 25, 25) | Activation: tanh | Batch Size: 50 | Momentum: 0.9 | Learning Rate: 0.1 | Accuracy: 0.98\n",
      "851. Maximum iterations: 400 | Hidden Layers: (25, 25, 25) | Activation: tanh | Batch Size: 50 | Momentum: 0.95 | Learning Rate: 0.1 | Accuracy: 0.98\n",
      "852. Maximum iterations: 400 | Hidden Layers: (25, 25, 25) | Activation: tanh | Batch Size: 50 | Momentum: 0.99 | Learning Rate: 0.1 | Accuracy: 0.98\n",
      "853. Maximum iterations: 400 | Hidden Layers: (25, 25, 25) | Activation: tanh | Batch Size: 25 | Momentum: 0.9 | Learning Rate: 0.1 | Accuracy: 0.98\n",
      "854. Maximum iterations: 400 | Hidden Layers: (25, 25, 25) | Activation: tanh | Batch Size: 25 | Momentum: 0.95 | Learning Rate: 0.1 | Accuracy: 0.98\n",
      "855. Maximum iterations: 400 | Hidden Layers: (25, 25, 25) | Activation: tanh | Batch Size: 25 | Momentum: 0.99 | Learning Rate: 0.1 | Accuracy: 0.98\n",
      "856. Maximum iterations: 400 | Hidden Layers: (25, 25, 25) | Activation: logistic | Batch Size: 102 | Momentum: 0.9 | Learning Rate: 0.1 | Accuracy: 0.98\n",
      "857. Maximum iterations: 400 | Hidden Layers: (25, 25, 25) | Activation: logistic | Batch Size: 102 | Momentum: 0.95 | Learning Rate: 0.1 | Accuracy: 0.98\n",
      "858. Maximum iterations: 400 | Hidden Layers: (25, 25, 25) | Activation: logistic | Batch Size: 102 | Momentum: 0.99 | Learning Rate: 0.1 | Accuracy: 0.98\n",
      "859. Maximum iterations: 400 | Hidden Layers: (25, 25, 25) | Activation: logistic | Batch Size: 50 | Momentum: 0.9 | Learning Rate: 0.1 | Accuracy: 1.00\n",
      "860. Maximum iterations: 400 | Hidden Layers: (25, 25, 25) | Activation: logistic | Batch Size: 50 | Momentum: 0.95 | Learning Rate: 0.1 | Accuracy: 1.00\n",
      "861. Maximum iterations: 400 | Hidden Layers: (25, 25, 25) | Activation: logistic | Batch Size: 50 | Momentum: 0.99 | Learning Rate: 0.1 | Accuracy: 1.00\n",
      "862. Maximum iterations: 400 | Hidden Layers: (25, 25, 25) | Activation: logistic | Batch Size: 25 | Momentum: 0.9 | Learning Rate: 0.1 | Accuracy: 1.00\n",
      "863. Maximum iterations: 400 | Hidden Layers: (25, 25, 25) | Activation: logistic | Batch Size: 25 | Momentum: 0.95 | Learning Rate: 0.1 | Accuracy: 1.00\n",
      "864. Maximum iterations: 400 | Hidden Layers: (25, 25, 25) | Activation: logistic | Batch Size: 25 | Momentum: 0.99 | Learning Rate: 0.1 | Accuracy: 1.00\n",
      "865. Maximum iterations: 200 | Hidden Layers: (100,) | Activation: relu | Batch Size: 102 | Momentum: 0.9 | Learning Rate: 0.1 | Accuracy: 1.00\n",
      "866. Maximum iterations: 200 | Hidden Layers: (100,) | Activation: relu | Batch Size: 102 | Momentum: 0.95 | Learning Rate: 0.1 | Accuracy: 1.00\n",
      "867. Maximum iterations: 200 | Hidden Layers: (100,) | Activation: relu | Batch Size: 102 | Momentum: 0.99 | Learning Rate: 0.1 | Accuracy: 1.00\n",
      "868. Maximum iterations: 200 | Hidden Layers: (100,) | Activation: relu | Batch Size: 50 | Momentum: 0.9 | Learning Rate: 0.1 | Accuracy: 1.00\n",
      "869. Maximum iterations: 200 | Hidden Layers: (100,) | Activation: relu | Batch Size: 50 | Momentum: 0.95 | Learning Rate: 0.1 | Accuracy: 1.00\n",
      "870. Maximum iterations: 200 | Hidden Layers: (100,) | Activation: relu | Batch Size: 50 | Momentum: 0.99 | Learning Rate: 0.1 | Accuracy: 1.00\n",
      "871. Maximum iterations: 200 | Hidden Layers: (100,) | Activation: relu | Batch Size: 25 | Momentum: 0.9 | Learning Rate: 0.1 | Accuracy: 1.00\n",
      "872. Maximum iterations: 200 | Hidden Layers: (100,) | Activation: relu | Batch Size: 25 | Momentum: 0.95 | Learning Rate: 0.1 | Accuracy: 1.00\n",
      "873. Maximum iterations: 200 | Hidden Layers: (100,) | Activation: relu | Batch Size: 25 | Momentum: 0.99 | Learning Rate: 0.1 | Accuracy: 1.00\n",
      "874. Maximum iterations: 200 | Hidden Layers: (100,) | Activation: tanh | Batch Size: 102 | Momentum: 0.9 | Learning Rate: 0.1 | Accuracy: 1.00\n",
      "875. Maximum iterations: 200 | Hidden Layers: (100,) | Activation: tanh | Batch Size: 102 | Momentum: 0.95 | Learning Rate: 0.1 | Accuracy: 1.00\n",
      "876. Maximum iterations: 200 | Hidden Layers: (100,) | Activation: tanh | Batch Size: 102 | Momentum: 0.99 | Learning Rate: 0.1 | Accuracy: 1.00\n",
      "877. Maximum iterations: 200 | Hidden Layers: (100,) | Activation: tanh | Batch Size: 50 | Momentum: 0.9 | Learning Rate: 0.1 | Accuracy: 0.98\n",
      "878. Maximum iterations: 200 | Hidden Layers: (100,) | Activation: tanh | Batch Size: 50 | Momentum: 0.95 | Learning Rate: 0.1 | Accuracy: 0.98\n",
      "879. Maximum iterations: 200 | Hidden Layers: (100,) | Activation: tanh | Batch Size: 50 | Momentum: 0.99 | Learning Rate: 0.1 | Accuracy: 0.98\n",
      "880. Maximum iterations: 200 | Hidden Layers: (100,) | Activation: tanh | Batch Size: 25 | Momentum: 0.9 | Learning Rate: 0.1 | Accuracy: 0.98\n",
      "881. Maximum iterations: 200 | Hidden Layers: (100,) | Activation: tanh | Batch Size: 25 | Momentum: 0.95 | Learning Rate: 0.1 | Accuracy: 0.98\n",
      "882. Maximum iterations: 200 | Hidden Layers: (100,) | Activation: tanh | Batch Size: 25 | Momentum: 0.99 | Learning Rate: 0.1 | Accuracy: 0.98\n",
      "883. Maximum iterations: 200 | Hidden Layers: (100,) | Activation: logistic | Batch Size: 102 | Momentum: 0.9 | Learning Rate: 0.1 | Accuracy: 1.00\n",
      "884. Maximum iterations: 200 | Hidden Layers: (100,) | Activation: logistic | Batch Size: 102 | Momentum: 0.95 | Learning Rate: 0.1 | Accuracy: 1.00\n",
      "885. Maximum iterations: 200 | Hidden Layers: (100,) | Activation: logistic | Batch Size: 102 | Momentum: 0.99 | Learning Rate: 0.1 | Accuracy: 1.00\n",
      "886. Maximum iterations: 200 | Hidden Layers: (100,) | Activation: logistic | Batch Size: 50 | Momentum: 0.9 | Learning Rate: 0.1 | Accuracy: 1.00\n",
      "887. Maximum iterations: 200 | Hidden Layers: (100,) | Activation: logistic | Batch Size: 50 | Momentum: 0.95 | Learning Rate: 0.1 | Accuracy: 1.00\n",
      "888. Maximum iterations: 200 | Hidden Layers: (100,) | Activation: logistic | Batch Size: 50 | Momentum: 0.99 | Learning Rate: 0.1 | Accuracy: 1.00\n",
      "889. Maximum iterations: 200 | Hidden Layers: (100,) | Activation: logistic | Batch Size: 25 | Momentum: 0.9 | Learning Rate: 0.1 | Accuracy: 1.00\n",
      "890. Maximum iterations: 200 | Hidden Layers: (100,) | Activation: logistic | Batch Size: 25 | Momentum: 0.95 | Learning Rate: 0.1 | Accuracy: 1.00\n",
      "891. Maximum iterations: 200 | Hidden Layers: (100,) | Activation: logistic | Batch Size: 25 | Momentum: 0.99 | Learning Rate: 0.1 | Accuracy: 1.00\n",
      "892. Maximum iterations: 200 | Hidden Layers: (50,) | Activation: relu | Batch Size: 102 | Momentum: 0.9 | Learning Rate: 0.1 | Accuracy: 1.00\n",
      "893. Maximum iterations: 200 | Hidden Layers: (50,) | Activation: relu | Batch Size: 102 | Momentum: 0.95 | Learning Rate: 0.1 | Accuracy: 1.00\n",
      "894. Maximum iterations: 200 | Hidden Layers: (50,) | Activation: relu | Batch Size: 102 | Momentum: 0.99 | Learning Rate: 0.1 | Accuracy: 1.00\n",
      "895. Maximum iterations: 200 | Hidden Layers: (50,) | Activation: relu | Batch Size: 50 | Momentum: 0.9 | Learning Rate: 0.1 | Accuracy: 1.00\n",
      "896. Maximum iterations: 200 | Hidden Layers: (50,) | Activation: relu | Batch Size: 50 | Momentum: 0.95 | Learning Rate: 0.1 | Accuracy: 1.00\n",
      "897. Maximum iterations: 200 | Hidden Layers: (50,) | Activation: relu | Batch Size: 50 | Momentum: 0.99 | Learning Rate: 0.1 | Accuracy: 1.00\n",
      "898. Maximum iterations: 200 | Hidden Layers: (50,) | Activation: relu | Batch Size: 25 | Momentum: 0.9 | Learning Rate: 0.1 | Accuracy: 1.00\n",
      "899. Maximum iterations: 200 | Hidden Layers: (50,) | Activation: relu | Batch Size: 25 | Momentum: 0.95 | Learning Rate: 0.1 | Accuracy: 1.00\n",
      "900. Maximum iterations: 200 | Hidden Layers: (50,) | Activation: relu | Batch Size: 25 | Momentum: 0.99 | Learning Rate: 0.1 | Accuracy: 1.00\n",
      "901. Maximum iterations: 200 | Hidden Layers: (50,) | Activation: tanh | Batch Size: 102 | Momentum: 0.9 | Learning Rate: 0.1 | Accuracy: 1.00\n",
      "902. Maximum iterations: 200 | Hidden Layers: (50,) | Activation: tanh | Batch Size: 102 | Momentum: 0.95 | Learning Rate: 0.1 | Accuracy: 1.00\n",
      "903. Maximum iterations: 200 | Hidden Layers: (50,) | Activation: tanh | Batch Size: 102 | Momentum: 0.99 | Learning Rate: 0.1 | Accuracy: 1.00\n",
      "904. Maximum iterations: 200 | Hidden Layers: (50,) | Activation: tanh | Batch Size: 50 | Momentum: 0.9 | Learning Rate: 0.1 | Accuracy: 1.00\n",
      "905. Maximum iterations: 200 | Hidden Layers: (50,) | Activation: tanh | Batch Size: 50 | Momentum: 0.95 | Learning Rate: 0.1 | Accuracy: 1.00\n",
      "906. Maximum iterations: 200 | Hidden Layers: (50,) | Activation: tanh | Batch Size: 50 | Momentum: 0.99 | Learning Rate: 0.1 | Accuracy: 1.00\n",
      "907. Maximum iterations: 200 | Hidden Layers: (50,) | Activation: tanh | Batch Size: 25 | Momentum: 0.9 | Learning Rate: 0.1 | Accuracy: 1.00\n",
      "908. Maximum iterations: 200 | Hidden Layers: (50,) | Activation: tanh | Batch Size: 25 | Momentum: 0.95 | Learning Rate: 0.1 | Accuracy: 1.00\n",
      "909. Maximum iterations: 200 | Hidden Layers: (50,) | Activation: tanh | Batch Size: 25 | Momentum: 0.99 | Learning Rate: 0.1 | Accuracy: 1.00\n",
      "910. Maximum iterations: 200 | Hidden Layers: (50,) | Activation: logistic | Batch Size: 102 | Momentum: 0.9 | Learning Rate: 0.1 | Accuracy: 1.00\n",
      "911. Maximum iterations: 200 | Hidden Layers: (50,) | Activation: logistic | Batch Size: 102 | Momentum: 0.95 | Learning Rate: 0.1 | Accuracy: 1.00\n",
      "912. Maximum iterations: 200 | Hidden Layers: (50,) | Activation: logistic | Batch Size: 102 | Momentum: 0.99 | Learning Rate: 0.1 | Accuracy: 1.00\n",
      "913. Maximum iterations: 200 | Hidden Layers: (50,) | Activation: logistic | Batch Size: 50 | Momentum: 0.9 | Learning Rate: 0.1 | Accuracy: 1.00\n",
      "914. Maximum iterations: 200 | Hidden Layers: (50,) | Activation: logistic | Batch Size: 50 | Momentum: 0.95 | Learning Rate: 0.1 | Accuracy: 1.00\n",
      "915. Maximum iterations: 200 | Hidden Layers: (50,) | Activation: logistic | Batch Size: 50 | Momentum: 0.99 | Learning Rate: 0.1 | Accuracy: 1.00\n",
      "916. Maximum iterations: 200 | Hidden Layers: (50,) | Activation: logistic | Batch Size: 25 | Momentum: 0.9 | Learning Rate: 0.1 | Accuracy: 1.00\n",
      "917. Maximum iterations: 200 | Hidden Layers: (50,) | Activation: logistic | Batch Size: 25 | Momentum: 0.95 | Learning Rate: 0.1 | Accuracy: 1.00\n",
      "918. Maximum iterations: 200 | Hidden Layers: (50,) | Activation: logistic | Batch Size: 25 | Momentum: 0.99 | Learning Rate: 0.1 | Accuracy: 1.00\n",
      "919. Maximum iterations: 200 | Hidden Layers: (50, 50) | Activation: relu | Batch Size: 102 | Momentum: 0.9 | Learning Rate: 0.1 | Accuracy: 1.00\n",
      "920. Maximum iterations: 200 | Hidden Layers: (50, 50) | Activation: relu | Batch Size: 102 | Momentum: 0.95 | Learning Rate: 0.1 | Accuracy: 1.00\n",
      "921. Maximum iterations: 200 | Hidden Layers: (50, 50) | Activation: relu | Batch Size: 102 | Momentum: 0.99 | Learning Rate: 0.1 | Accuracy: 1.00\n",
      "922. Maximum iterations: 200 | Hidden Layers: (50, 50) | Activation: relu | Batch Size: 50 | Momentum: 0.9 | Learning Rate: 0.1 | Accuracy: 0.95\n",
      "923. Maximum iterations: 200 | Hidden Layers: (50, 50) | Activation: relu | Batch Size: 50 | Momentum: 0.95 | Learning Rate: 0.1 | Accuracy: 0.95\n",
      "924. Maximum iterations: 200 | Hidden Layers: (50, 50) | Activation: relu | Batch Size: 50 | Momentum: 0.99 | Learning Rate: 0.1 | Accuracy: 0.95\n",
      "925. Maximum iterations: 200 | Hidden Layers: (50, 50) | Activation: relu | Batch Size: 25 | Momentum: 0.9 | Learning Rate: 0.1 | Accuracy: 0.98\n",
      "926. Maximum iterations: 200 | Hidden Layers: (50, 50) | Activation: relu | Batch Size: 25 | Momentum: 0.95 | Learning Rate: 0.1 | Accuracy: 0.98\n",
      "927. Maximum iterations: 200 | Hidden Layers: (50, 50) | Activation: relu | Batch Size: 25 | Momentum: 0.99 | Learning Rate: 0.1 | Accuracy: 0.98\n",
      "928. Maximum iterations: 200 | Hidden Layers: (50, 50) | Activation: tanh | Batch Size: 102 | Momentum: 0.9 | Learning Rate: 0.1 | Accuracy: 0.98\n",
      "929. Maximum iterations: 200 | Hidden Layers: (50, 50) | Activation: tanh | Batch Size: 102 | Momentum: 0.95 | Learning Rate: 0.1 | Accuracy: 0.98\n",
      "930. Maximum iterations: 200 | Hidden Layers: (50, 50) | Activation: tanh | Batch Size: 102 | Momentum: 0.99 | Learning Rate: 0.1 | Accuracy: 0.98\n",
      "931. Maximum iterations: 200 | Hidden Layers: (50, 50) | Activation: tanh | Batch Size: 50 | Momentum: 0.9 | Learning Rate: 0.1 | Accuracy: 0.98\n",
      "932. Maximum iterations: 200 | Hidden Layers: (50, 50) | Activation: tanh | Batch Size: 50 | Momentum: 0.95 | Learning Rate: 0.1 | Accuracy: 0.98\n",
      "933. Maximum iterations: 200 | Hidden Layers: (50, 50) | Activation: tanh | Batch Size: 50 | Momentum: 0.99 | Learning Rate: 0.1 | Accuracy: 0.98\n",
      "934. Maximum iterations: 200 | Hidden Layers: (50, 50) | Activation: tanh | Batch Size: 25 | Momentum: 0.9 | Learning Rate: 0.1 | Accuracy: 1.00\n",
      "935. Maximum iterations: 200 | Hidden Layers: (50, 50) | Activation: tanh | Batch Size: 25 | Momentum: 0.95 | Learning Rate: 0.1 | Accuracy: 1.00\n",
      "936. Maximum iterations: 200 | Hidden Layers: (50, 50) | Activation: tanh | Batch Size: 25 | Momentum: 0.99 | Learning Rate: 0.1 | Accuracy: 1.00\n",
      "937. Maximum iterations: 200 | Hidden Layers: (50, 50) | Activation: logistic | Batch Size: 102 | Momentum: 0.9 | Learning Rate: 0.1 | Accuracy: 1.00\n",
      "938. Maximum iterations: 200 | Hidden Layers: (50, 50) | Activation: logistic | Batch Size: 102 | Momentum: 0.95 | Learning Rate: 0.1 | Accuracy: 1.00\n",
      "939. Maximum iterations: 200 | Hidden Layers: (50, 50) | Activation: logistic | Batch Size: 102 | Momentum: 0.99 | Learning Rate: 0.1 | Accuracy: 1.00\n",
      "940. Maximum iterations: 200 | Hidden Layers: (50, 50) | Activation: logistic | Batch Size: 50 | Momentum: 0.9 | Learning Rate: 0.1 | Accuracy: 1.00\n",
      "941. Maximum iterations: 200 | Hidden Layers: (50, 50) | Activation: logistic | Batch Size: 50 | Momentum: 0.95 | Learning Rate: 0.1 | Accuracy: 1.00\n",
      "942. Maximum iterations: 200 | Hidden Layers: (50, 50) | Activation: logistic | Batch Size: 50 | Momentum: 0.99 | Learning Rate: 0.1 | Accuracy: 1.00\n",
      "943. Maximum iterations: 200 | Hidden Layers: (50, 50) | Activation: logistic | Batch Size: 25 | Momentum: 0.9 | Learning Rate: 0.1 | Accuracy: 0.98\n",
      "944. Maximum iterations: 200 | Hidden Layers: (50, 50) | Activation: logistic | Batch Size: 25 | Momentum: 0.95 | Learning Rate: 0.1 | Accuracy: 0.98\n",
      "945. Maximum iterations: 200 | Hidden Layers: (50, 50) | Activation: logistic | Batch Size: 25 | Momentum: 0.99 | Learning Rate: 0.1 | Accuracy: 0.98\n",
      "946. Maximum iterations: 200 | Hidden Layers: (25, 25, 25) | Activation: relu | Batch Size: 102 | Momentum: 0.9 | Learning Rate: 0.1 | Accuracy: 1.00\n",
      "947. Maximum iterations: 200 | Hidden Layers: (25, 25, 25) | Activation: relu | Batch Size: 102 | Momentum: 0.95 | Learning Rate: 0.1 | Accuracy: 1.00\n",
      "948. Maximum iterations: 200 | Hidden Layers: (25, 25, 25) | Activation: relu | Batch Size: 102 | Momentum: 0.99 | Learning Rate: 0.1 | Accuracy: 1.00\n",
      "949. Maximum iterations: 200 | Hidden Layers: (25, 25, 25) | Activation: relu | Batch Size: 50 | Momentum: 0.9 | Learning Rate: 0.1 | Accuracy: 0.98\n",
      "950. Maximum iterations: 200 | Hidden Layers: (25, 25, 25) | Activation: relu | Batch Size: 50 | Momentum: 0.95 | Learning Rate: 0.1 | Accuracy: 0.98\n",
      "951. Maximum iterations: 200 | Hidden Layers: (25, 25, 25) | Activation: relu | Batch Size: 50 | Momentum: 0.99 | Learning Rate: 0.1 | Accuracy: 0.98\n",
      "952. Maximum iterations: 200 | Hidden Layers: (25, 25, 25) | Activation: relu | Batch Size: 25 | Momentum: 0.9 | Learning Rate: 0.1 | Accuracy: 1.00\n",
      "953. Maximum iterations: 200 | Hidden Layers: (25, 25, 25) | Activation: relu | Batch Size: 25 | Momentum: 0.95 | Learning Rate: 0.1 | Accuracy: 1.00\n",
      "954. Maximum iterations: 200 | Hidden Layers: (25, 25, 25) | Activation: relu | Batch Size: 25 | Momentum: 0.99 | Learning Rate: 0.1 | Accuracy: 1.00\n",
      "955. Maximum iterations: 200 | Hidden Layers: (25, 25, 25) | Activation: tanh | Batch Size: 102 | Momentum: 0.9 | Learning Rate: 0.1 | Accuracy: 1.00\n",
      "956. Maximum iterations: 200 | Hidden Layers: (25, 25, 25) | Activation: tanh | Batch Size: 102 | Momentum: 0.95 | Learning Rate: 0.1 | Accuracy: 1.00\n",
      "957. Maximum iterations: 200 | Hidden Layers: (25, 25, 25) | Activation: tanh | Batch Size: 102 | Momentum: 0.99 | Learning Rate: 0.1 | Accuracy: 1.00\n",
      "958. Maximum iterations: 200 | Hidden Layers: (25, 25, 25) | Activation: tanh | Batch Size: 50 | Momentum: 0.9 | Learning Rate: 0.1 | Accuracy: 0.98\n",
      "959. Maximum iterations: 200 | Hidden Layers: (25, 25, 25) | Activation: tanh | Batch Size: 50 | Momentum: 0.95 | Learning Rate: 0.1 | Accuracy: 0.98\n",
      "960. Maximum iterations: 200 | Hidden Layers: (25, 25, 25) | Activation: tanh | Batch Size: 50 | Momentum: 0.99 | Learning Rate: 0.1 | Accuracy: 0.98\n",
      "961. Maximum iterations: 200 | Hidden Layers: (25, 25, 25) | Activation: tanh | Batch Size: 25 | Momentum: 0.9 | Learning Rate: 0.1 | Accuracy: 0.98\n",
      "962. Maximum iterations: 200 | Hidden Layers: (25, 25, 25) | Activation: tanh | Batch Size: 25 | Momentum: 0.95 | Learning Rate: 0.1 | Accuracy: 0.98\n",
      "963. Maximum iterations: 200 | Hidden Layers: (25, 25, 25) | Activation: tanh | Batch Size: 25 | Momentum: 0.99 | Learning Rate: 0.1 | Accuracy: 0.98\n",
      "964. Maximum iterations: 200 | Hidden Layers: (25, 25, 25) | Activation: logistic | Batch Size: 102 | Momentum: 0.9 | Learning Rate: 0.1 | Accuracy: 0.98\n",
      "965. Maximum iterations: 200 | Hidden Layers: (25, 25, 25) | Activation: logistic | Batch Size: 102 | Momentum: 0.95 | Learning Rate: 0.1 | Accuracy: 0.98\n",
      "966. Maximum iterations: 200 | Hidden Layers: (25, 25, 25) | Activation: logistic | Batch Size: 102 | Momentum: 0.99 | Learning Rate: 0.1 | Accuracy: 0.98\n",
      "967. Maximum iterations: 200 | Hidden Layers: (25, 25, 25) | Activation: logistic | Batch Size: 50 | Momentum: 0.9 | Learning Rate: 0.1 | Accuracy: 1.00\n",
      "968. Maximum iterations: 200 | Hidden Layers: (25, 25, 25) | Activation: logistic | Batch Size: 50 | Momentum: 0.95 | Learning Rate: 0.1 | Accuracy: 1.00\n",
      "969. Maximum iterations: 200 | Hidden Layers: (25, 25, 25) | Activation: logistic | Batch Size: 50 | Momentum: 0.99 | Learning Rate: 0.1 | Accuracy: 1.00\n",
      "970. Maximum iterations: 200 | Hidden Layers: (25, 25, 25) | Activation: logistic | Batch Size: 25 | Momentum: 0.9 | Learning Rate: 0.1 | Accuracy: 1.00\n",
      "971. Maximum iterations: 200 | Hidden Layers: (25, 25, 25) | Activation: logistic | Batch Size: 25 | Momentum: 0.95 | Learning Rate: 0.1 | Accuracy: 1.00\n",
      "972. Maximum iterations: 200 | Hidden Layers: (25, 25, 25) | Activation: logistic | Batch Size: 25 | Momentum: 0.99 | Learning Rate: 0.1 | Accuracy: 1.00\n"
     ]
    }
   ],
   "source": [
    "# Spliting the data into training and testing sets\n",
    "X_train, X_test, y_train, y_test = train_test_split(X_flat, Y, test_size=0.2, random_state=42)\n",
    "\n",
    "# Define lists of values for each parameter to try\n",
    "hidden_layer_sizes_list = [(100,), (50,), (50, 50), (25, 25, 25)]\n",
    "activation_list = ['relu', 'tanh', 'logistic']\n",
    "batch_size_list = [102, 50, 25]\n",
    "momentum_list = [0.9, 0.95, 0.99]\n",
    "learning_rate_list = [0.001, 0.01, 0.1]\n",
    "max_iter_list = [600, 400, 200]\n",
    "\n",
    "# Creating a list to store results (parameters and accuracies)\n",
    "results = []\n",
    "\n",
    "# Nested for loops to try different combinations of parameters\n",
    "for maximum_iterations in max_iter_list:\n",
    "    for hidden_layer_sizes in hidden_layer_sizes_list:\n",
    "        for activation in activation_list:\n",
    "            for batch_size in batch_size_list:\n",
    "                for momentum in momentum_list:\n",
    "                    for learning_rate in learning_rate_list:\n",
    "                        # Create and train the MLPClassifier\n",
    "                        mlp = MLPClassifier(\n",
    "                            hidden_layer_sizes=hidden_layer_sizes,\n",
    "                            activation=activation,\n",
    "                            batch_size=batch_size,\n",
    "                            momentum=momentum,\n",
    "                            learning_rate_init=learning_rate,\n",
    "                            max_iter=maximum_iterations,\n",
    "                            random_state=42\n",
    "                        )\n",
    "                        mlp.fit(X_train, y_train)\n",
    "\n",
    "                        # Make predictions on the test set\n",
    "                        y_pred = mlp.predict(X_test)\n",
    "\n",
    "                        # Calculate accuracy\n",
    "                        accuracy = accuracy_score(y_test, y_pred)\n",
    "\n",
    "                        # Append parameters and accuracy to the results list\n",
    "                        results.append((maximum_iterations, hidden_layer_sizes, activation, batch_size, momentum, learning_rate, accuracy))\n",
    "\n",
    "# Sorting results in ascending order based on accuracy\n",
    "results.sort(key=lambda x: x[5])\n",
    "\n",
    "# Printing parameters and accuracy in ascending order of accuracy\n",
    "for i, (maximum_iterations, hidden_layer_sizes, activation, batch_size, momentum, learning_rate, MLPaccuracy) in enumerate(results, start=1):\n",
    "    print(f\"{i}. Maximum iterations: {maximum_iterations} | Hidden Layers: {hidden_layer_sizes} | Activation: {activation} | Batch Size: {batch_size} | Momentum: {momentum} | Learning Rate: {learning_rate} | Accuracy: {MLPaccuracy:.2f}\")\n"
   ]
  },
  {
   "cell_type": "markdown",
   "id": "e8ee52d3",
   "metadata": {},
   "source": [
    "##### Conclusion"
   ]
  },
  {
   "cell_type": "markdown",
   "id": "d6e25642",
   "metadata": {},
   "source": [
    "We used all combinations of following set of parameters:\n",
    "<table>\n",
    "    <tr>\n",
    "        <th style=\"border:1px solid black\">Parameters</th>\n",
    "        <th style=\"border:1px solid black\">Values</th>\n",
    "    </tr>\n",
    "    <tr>\n",
    "        <td style=\"border:1px solid black\">hidden_layer_sizes</td>\n",
    "        <td style=\"border:1px solid black\">(100,), (50,), (50, 50), (25, 25, 25)</td>\n",
    "    </tr>\n",
    "    <tr>\n",
    "        <td style=\"border:1px solid black\">activation</td>\n",
    "        <td style=\"border:1px solid black\">relu, tanh, logistic</td>\n",
    "    </tr>\n",
    "    <tr>\n",
    "        <td style=\"border:1px solid black\">batch_size</td>\n",
    "        <td style=\"border:1px solid black\">102, 50, 25</td>\n",
    "    </tr>\n",
    "    <tr>\n",
    "        <td style=\"border:1px solid black\">momentum</td>\n",
    "        <td style=\"border:1px solid black\">0.9, 0.95, 0.99</td>\n",
    "    </tr>\n",
    "    <tr>\n",
    "        <td style=\"border:1px solid black\">learning_rate_init</td>\n",
    "        <td style=\"border:1px solid black\">0.001, 0.01, 0.1</td>\n",
    "    </tr>\n",
    "    <tr>\n",
    "        <td style=\"border:1px solid black\">max_iter</td>\n",
    "        <td style=\"border:1px solid black\">600, 400, 200</td>\n",
    "    </tr>\n",
    "\n",
    "</table>"
   ]
  },
  {
   "cell_type": "markdown",
   "id": "5cf9b016",
   "metadata": {},
   "source": [
    "By observing all 972 combinations, we can conclude following things. \n",
    "1. All activation functions worked very well with smiley dataset in MLP.\n",
    "2. Changing the number of layers and number of neurons in the layers doesn't the performance of neural network that much.\n",
    "3. Change in batch sizes doesn't make any difference. But choosing a moderate number of batch size is also important. In many cases batch size really matters for accuracy and computation.\n",
    "4. Change in momentum also doesn't make any difference in accuracy.\n",
    "5. Change in learning rate also does not show any effect on performance of MLP. \n",
    "\n",
    "From previous analysis we observed that smiley data is linear and linearly separable. So, the data that is linearly separable that also works very well with multi layer perceptron in all cases or in all combinations of hyper-parameters. Accuracy always be on 100% in all 972 combinations of different hyper-parameters given in above table."
   ]
  },
  {
   "cell_type": "markdown",
   "id": "5e001f96",
   "metadata": {},
   "source": [
    "## For top marks: Convolutional neural networks"
   ]
  },
  {
   "cell_type": "code",
   "execution_count": 77,
   "id": "06ad0738",
   "metadata": {
    "scrolled": true
   },
   "outputs": [
    {
     "name": "stdout",
     "output_type": "stream",
     "text": [
      "Epoch 1/30\n",
      "26/26 [==============================] - 2s 19ms/step - loss: 0.9756 - accuracy: 0.5692 - val_loss: 0.8045 - val_accuracy: 0.8485\n",
      "Epoch 2/30\n",
      "26/26 [==============================] - 0s 5ms/step - loss: 0.7064 - accuracy: 0.7462 - val_loss: 0.5415 - val_accuracy: 1.0000\n",
      "Epoch 3/30\n",
      "26/26 [==============================] - 0s 6ms/step - loss: 0.5095 - accuracy: 0.7769 - val_loss: 0.3634 - val_accuracy: 1.0000\n",
      "Epoch 4/30\n",
      "26/26 [==============================] - 0s 7ms/step - loss: 0.3282 - accuracy: 0.9385 - val_loss: 0.2286 - val_accuracy: 1.0000\n",
      "Epoch 5/30\n",
      "26/26 [==============================] - 0s 7ms/step - loss: 0.1862 - accuracy: 1.0000 - val_loss: 0.1742 - val_accuracy: 1.0000\n",
      "Epoch 6/30\n",
      "26/26 [==============================] - 0s 6ms/step - loss: 0.1282 - accuracy: 1.0000 - val_loss: 0.0973 - val_accuracy: 1.0000\n",
      "Epoch 7/30\n",
      "26/26 [==============================] - 0s 6ms/step - loss: 0.0720 - accuracy: 1.0000 - val_loss: 0.0642 - val_accuracy: 1.0000\n",
      "Epoch 8/30\n",
      "26/26 [==============================] - 0s 5ms/step - loss: 0.0488 - accuracy: 1.0000 - val_loss: 0.0459 - val_accuracy: 1.0000\n",
      "Epoch 9/30\n",
      "26/26 [==============================] - 0s 6ms/step - loss: 0.0340 - accuracy: 1.0000 - val_loss: 0.0329 - val_accuracy: 1.0000\n",
      "Epoch 10/30\n",
      "26/26 [==============================] - 0s 5ms/step - loss: 0.0253 - accuracy: 1.0000 - val_loss: 0.0262 - val_accuracy: 1.0000\n",
      "Epoch 11/30\n",
      "26/26 [==============================] - 0s 6ms/step - loss: 0.0194 - accuracy: 1.0000 - val_loss: 0.0210 - val_accuracy: 1.0000\n",
      "Epoch 12/30\n",
      "26/26 [==============================] - 0s 6ms/step - loss: 0.0146 - accuracy: 1.0000 - val_loss: 0.0171 - val_accuracy: 1.0000\n",
      "Epoch 13/30\n",
      "26/26 [==============================] - 0s 6ms/step - loss: 0.0117 - accuracy: 1.0000 - val_loss: 0.0144 - val_accuracy: 1.0000\n",
      "Epoch 14/30\n",
      "26/26 [==============================] - 0s 6ms/step - loss: 0.0099 - accuracy: 1.0000 - val_loss: 0.0126 - val_accuracy: 1.0000\n",
      "Epoch 15/30\n",
      "26/26 [==============================] - 0s 6ms/step - loss: 0.0083 - accuracy: 1.0000 - val_loss: 0.0106 - val_accuracy: 1.0000\n",
      "Epoch 16/30\n",
      "26/26 [==============================] - 0s 7ms/step - loss: 0.0069 - accuracy: 1.0000 - val_loss: 0.0096 - val_accuracy: 1.0000\n",
      "Epoch 17/30\n",
      "26/26 [==============================] - 0s 6ms/step - loss: 0.0062 - accuracy: 1.0000 - val_loss: 0.0084 - val_accuracy: 1.0000\n",
      "Epoch 18/30\n",
      "26/26 [==============================] - 0s 5ms/step - loss: 0.0052 - accuracy: 1.0000 - val_loss: 0.0076 - val_accuracy: 1.0000\n",
      "Epoch 19/30\n",
      "26/26 [==============================] - 0s 6ms/step - loss: 0.0047 - accuracy: 1.0000 - val_loss: 0.0064 - val_accuracy: 1.0000\n",
      "Epoch 20/30\n",
      "26/26 [==============================] - 0s 6ms/step - loss: 0.0040 - accuracy: 1.0000 - val_loss: 0.0062 - val_accuracy: 1.0000\n",
      "Epoch 21/30\n",
      "26/26 [==============================] - 0s 5ms/step - loss: 0.0036 - accuracy: 1.0000 - val_loss: 0.0053 - val_accuracy: 1.0000\n",
      "Epoch 22/30\n",
      "26/26 [==============================] - 0s 6ms/step - loss: 0.0033 - accuracy: 1.0000 - val_loss: 0.0051 - val_accuracy: 1.0000\n",
      "Epoch 23/30\n",
      "26/26 [==============================] - 0s 6ms/step - loss: 0.0029 - accuracy: 1.0000 - val_loss: 0.0046 - val_accuracy: 1.0000\n",
      "Epoch 24/30\n",
      "26/26 [==============================] - 0s 6ms/step - loss: 0.0026 - accuracy: 1.0000 - val_loss: 0.0042 - val_accuracy: 1.0000\n",
      "Epoch 25/30\n",
      "26/26 [==============================] - 0s 7ms/step - loss: 0.0024 - accuracy: 1.0000 - val_loss: 0.0041 - val_accuracy: 1.0000\n",
      "Epoch 26/30\n",
      "26/26 [==============================] - 0s 6ms/step - loss: 0.0022 - accuracy: 1.0000 - val_loss: 0.0037 - val_accuracy: 1.0000\n",
      "Epoch 27/30\n",
      "26/26 [==============================] - 0s 6ms/step - loss: 0.0020 - accuracy: 1.0000 - val_loss: 0.0034 - val_accuracy: 1.0000\n",
      "Epoch 28/30\n",
      "26/26 [==============================] - 0s 6ms/step - loss: 0.0019 - accuracy: 1.0000 - val_loss: 0.0033 - val_accuracy: 1.0000\n",
      "Epoch 29/30\n",
      "26/26 [==============================] - 0s 5ms/step - loss: 0.0017 - accuracy: 1.0000 - val_loss: 0.0031 - val_accuracy: 1.0000\n",
      "Epoch 30/30\n",
      "26/26 [==============================] - 0s 6ms/step - loss: 0.0016 - accuracy: 1.0000 - val_loss: 0.0029 - val_accuracy: 1.0000\n"
     ]
    },
    {
     "data": {
      "text/plain": [
       "<keras.src.callbacks.History at 0x1b5d4dda700>"
      ]
     },
     "execution_count": 77,
     "metadata": {},
     "output_type": "execute_result"
    }
   ],
   "source": [
    "# Spliting the data into training and testing sets\n",
    "X_train, X_test, y_train, y_test = train_test_split(X, Y, test_size=0.2, random_state=42)\n",
    "\n",
    "# Creating the CNN architecture using Keras\n",
    "model = tf.keras.Sequential([\n",
    "    tf.keras.layers.Conv2D(81, kernel_size=(3, 3), activation='relu', input_shape=(9, 9, 1)),\n",
    "    tf.keras.layers.MaxPooling2D(pool_size=(2, 2)),\n",
    "    tf.keras.layers.Flatten(),\n",
    "    tf.keras.layers.Dense(50, activation='relu'),\n",
    "    tf.keras.layers.Dense(3, activation='softmax')\n",
    "])\n",
    "\n",
    "# Compiling the model\n",
    "model.compile(optimizer='adam', loss='sparse_categorical_crossentropy', metrics=['accuracy'])\n",
    "\n",
    "# Training the model and evaluating accuracy\n",
    "model.fit(X_train, y_train, batch_size=5, epochs=30, validation_split=0.2)"
   ]
  },
  {
   "cell_type": "code",
   "execution_count": null,
   "id": "b2012ce4",
   "metadata": {},
   "outputs": [],
   "source": []
  },
  {
   "cell_type": "code",
   "execution_count": null,
   "id": "e0ba845b",
   "metadata": {},
   "outputs": [],
   "source": []
  }
 ],
 "metadata": {
  "kernelspec": {
   "display_name": "Python 3 (ipykernel)",
   "language": "python",
   "name": "python3"
  },
  "language_info": {
   "codemirror_mode": {
    "name": "ipython",
    "version": 3
   },
   "file_extension": ".py",
   "mimetype": "text/x-python",
   "name": "python",
   "nbconvert_exporter": "python",
   "pygments_lexer": "ipython3",
   "version": "3.9.13"
  }
 },
 "nbformat": 4,
 "nbformat_minor": 5
}
